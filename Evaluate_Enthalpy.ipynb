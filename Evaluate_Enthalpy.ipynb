{
 "cells": [
  {
   "cell_type": "code",
   "execution_count": 1,
   "id": "2931bc59-6283-4717-a775-0ef02fcbc1cf",
   "metadata": {},
   "outputs": [],
   "source": [
    "using Revise\n",
    "using DataFrames\n",
    "using XLSX\n",
    "photochemistry_source_dir = \"$(@__DIR__)/Photochemistry/src/\"\n",
    "push!(LOAD_PATH, photochemistry_source_dir)\n",
    "using Photochemistry  # custom module"
   ]
  },
  {
   "cell_type": "code",
   "execution_count": 11,
   "id": "a1af86c3-2c47-4756-87dd-e8f057141ef8",
   "metadata": {},
   "outputs": [
    {
     "name": "stderr",
     "output_type": "stream",
     "text": [
      "WARNING: redefinition of constant dfH. This may fail, cause incorrect answers, or produce other errors.\n",
      "WARNING: redefinition of constant escape_eV. This may fail, cause incorrect answers, or produce other errors.\n"
     ]
    },
    {
     "data": {
      "text/plain": [
       "Dict{Symbol, Float64} with 4 entries:\n",
       "  :H  => 0.130302\n",
       "  :D  => 0.260603\n",
       "  :H2 => 0.260603\n",
       "  :HD => 0.390905"
      ]
     },
     "execution_count": 11,
     "metadata": {},
     "output_type": "execute_result"
    }
   ],
   "source": [
    "kJ_to_eV(kj) = kj * 6.242e21\n",
    "ev_per_molecule(eV_per_mole) = eV_per_mole/6.022e23\n",
    "\n",
    "#Enthalpy of formation \n",
    "const dfH = Dict(:Ar=>0, :CO=>-113.8, :CO2=>-393.1, :D=>221.72, :H=>216.0, :HD=>0.32, :H2=>0, :DCO=>40.945, :HCO=>44.8, :HDO=>-245.28, :H2O=>-238.9, :H2O2=>-130.0,\n",
    "                :DO2=>6.487, :HO2=>13.4, :DOCO=>185.8, :HOCO=>183.97, :N2=>0, :O=>246.8, :O1D=>246.8, :O2=>0, :O3=>141.80, :OD=>37.23, :OH=>38.4, :HDO2=>-140.242, \n",
    "                :C=>711.2, :N=>470.8, :NO=>89.8, :Nup2D=>470.8, :CO2pl=>935.7, :DCO2pl=>594.9, :HCO2pl=>589.0, :Opl=>1560.7, :O2pl=>1164.7, :Arpl=>166.40, \n",
    "                :ArDpl=>1176.9, :ArHpl=>1165.2, :Cpl=>1797.6, :CHpl=>1619.1, :COpl=>1238.3, :Dpl=>1540.320, :Hpl=>1528.0, :HDpl=>1496.793, :H2pl=>1488.3, \n",
    "                :H2Dpl=>1118.1, :H3pl=>1107.0, :HDOpl=>987.7, :H2Opl=>977.9, :H3Opl=>597.0, :H2DOpl=>1119.6, :HO2pl=>1108.5, :DCOpl=>833.9,\n",
    "                :HCOpl=>825.6, :DOCpl=>972.6, :HOCpl=>963.0, :HNOpl=>1074.4, :Npl=>1873.1, :NHpl=>1359, :N2pl=>1503.3, :N2Dpl=>1045.9, :N2Hpl=>1035.5,\n",
    "                :NOpl=>984.0, :ODpl=>1305.6, :OHpl=>1292.7, :E=>0);\n",
    "\n",
    "const escape_eV = Dict(:H=>escape_energy(1), :D=>escape_energy(2), :H2=>escape_energy(2), :HD=>escape_energy(3))\n",
    "    "
   ]
  },
  {
   "cell_type": "code",
   "execution_count": 36,
   "id": "6d5be983-8902-4ca9-a5b7-f295fde7b3a2",
   "metadata": {},
   "outputs": [
    {
     "data": {
      "text/plain": [
       "escape_energy (generic function with 1 method)"
      ]
     },
     "execution_count": 36,
     "metadata": {},
     "output_type": "execute_result"
    }
   ],
   "source": [
    "function enthalpy_of_reaction(reactants, products)\n",
    "    \n",
    "    dfH_products = 0\n",
    "    dfH_reactants = 0\n",
    "\n",
    "    for p in products\n",
    "        dfH_products += dfH[p]\n",
    "    end\n",
    "    for r in reactants\n",
    "        dfH_reactants += dfH[r]\n",
    "    end\n",
    "\n",
    "    enthalpy_of_rxn = dfH_products - dfH_reactants\n",
    "    \n",
    "    m = 0 # this block adds up the total mass that needs to escape, allows for reactions that produce, e.g., both H and D\n",
    "    flag = 0\n",
    "    if :H in products\n",
    "        m += 1\n",
    "        flag += 1\n",
    "    end\n",
    "    if :H2 in products\n",
    "        m += 2\n",
    "        flag += 1\n",
    "    end\n",
    "    if :D in products\n",
    "        m += 2\n",
    "        flag += 1\n",
    "    end\n",
    "    if :HD in products\n",
    "        m += 3\n",
    "        flag += 1\n",
    "    end\n",
    "        \n",
    "    enthalpy_in_ev = ev_per_molecule(kJ_to_eV(-1*(enthalpy_of_rxn)))\n",
    "    excess_energy = round(enthalpy_in_ev - escape_energy(m), digits=2)\n",
    "\n",
    "    endo_exo = excess_energy > 0 ? \"exothermic\" : \"endothermic\"\n",
    "    \n",
    "    # println(\"Reaction $(format_chemistry_string(reactants, products))\")\n",
    "    # if flag > 1\n",
    "    #     println(\"Flag! Reaction produces two hot molecules\")\n",
    "    # end\n",
    "    # println(\"Raw enthalpy is $(enthalpy_in_ev) eV\")\n",
    "    # println(\"Mass to escape $(m), so need $(m*0.13) excess eV\")\n",
    "    # println(\"excess energy $(excess_energy)\")\n",
    "    # println(\"It is: $(endo_exo)\")\n",
    "    # println()\n",
    "    \n",
    "    return endo_exo, excess_energy\n",
    "end\n",
    "\n",
    "function get_product_and_reactant_cols(df)\n",
    "    # Determine how many reactant and product columns there are \n",
    "    possible_Rcols = [\"R1\", \"R2\", \"R3\"]\n",
    "    possible_Pcols = [\"P1\", \"P2\", \"P3\"]\n",
    "    rcols = Symbol.(possible_Rcols[possible_Rcols .∈ Ref(names(df))])\n",
    "    pcols = Symbol.(possible_Pcols[possible_Pcols .∈ Ref(names(df))])\n",
    "    \n",
    "    return rcols, pcols\n",
    "end\n",
    "\n",
    "function enthalpies_of_reactions(df; species=[:H, :D], insert_i=nothing)\n",
    "    \n",
    "    if insert_i != nothing\n",
    "        insertcols!(df, insert_i, :hotH2=>[\"\" for i in collect(1:size(df)[1])])\n",
    "        insertcols!(df, insert_i+1, :hotHD=>[\"\" for i in collect(1:size(df)[1])])\n",
    "    end\n",
    "    \n",
    "    rcols, pcols = get_product_and_reactant_cols(df)\n",
    "    \n",
    "    endo_count = 0\n",
    "    exo_count = 0\n",
    "    \n",
    "    for row in eachrow(df)\n",
    "        reactants = [Symbol(row.:($r)) for r in rcols]\n",
    "        products = filter!(x->x!=:none, [Symbol(row.:($p)) for p in pcols])\n",
    "        if any(x->!(x in keys(dfH)), union(reactants, products))\n",
    "            continue\n",
    "        end\n",
    "\n",
    "        if any(x->x in products, species)\n",
    "            exo_or_endo, excess_energy = enthalpy_of_reaction(reactants, products)\n",
    "            row.excessE = excess_energy\n",
    "            \n",
    "            if exo_or_endo == \"exothermic\"\n",
    "                exo_count += 1\n",
    "                row.NTEscape = \"Yes\"\n",
    "\n",
    "                if :D in products\n",
    "                    row.hotD = \"Yes\"\n",
    "                end\n",
    "                if :HD in products\n",
    "                    row.hotHD = \"Yes\"\n",
    "                end\n",
    "                \n",
    "                if :H in products\n",
    "                    row.hotH = \"Yes\"\n",
    "                end\n",
    "                if :H2 in products\n",
    "                    row.hotH2 = \"Yes\"\n",
    "                end\n",
    "            else \n",
    "                # println(\"$(format_chemistry_string(reactants, products)) is endothermic\")\n",
    "                # println()\n",
    "                endo_count += 1\n",
    "                row.NTEscape = \"No\"\n",
    "                if :D in products\n",
    "                    row.hotD = \"\"\n",
    "                end\n",
    "                if :HD in products\n",
    "                    row.hotHD = \"\"\n",
    "                end\n",
    "                \n",
    "                if :H in products\n",
    "                    row.hotH = \"\"\n",
    "                end\n",
    "                if :H2 in products\n",
    "                    row.hotH2 = \"\"\n",
    "                end\n",
    "            end\n",
    "        end\n",
    "    end\n",
    "    \n",
    "    println(\"Exothermic: $(exo_count), Endothermic: $(endo_count)\")\n",
    "    return df\n",
    "end\n",
    "\n",
    "function modify_rxn_spreadsheet(spreadsheet; spc=[:H, :D], insert_i=nothing)\n",
    "    xf = XLSX.readxlsx(spreadsheet)\n",
    "    original_sheets = XLSX.sheetnames(xf)\n",
    "    \n",
    "    new_file = \"MOLEC_NT_$(spreadsheet)\"#\"REACTION_NETWORK.xlsx\"\n",
    "    \n",
    "    for (j, sheet) in enumerate(original_sheets)\n",
    "        df = DataFrame(XLSX.readtable(spreadsheet, sheet)...);\n",
    "               \n",
    "        # Now process:        \n",
    "        if sheet in [\"Ion reactions\", \"Photodissociation\", \"Photoionization\"]\n",
    "            # Replace any missing values so we don't get rid of all our reactions before processing:\n",
    "            rcols, pcols = get_product_and_reactant_cols(df)\n",
    "            for r in rcols\n",
    "                replace!(df.:($r), missing=>\"none\")\n",
    "            end\n",
    "            for p in pcols\n",
    "                replace!(df.:($p), missing=>\"none\")\n",
    "            end\n",
    "            \n",
    "            df_to_write = enthalpies_of_reactions(df; species=spc, insert_i=insert_i[j])\n",
    "        else\n",
    "            df_to_write = df\n",
    "        end\n",
    "        println()\n",
    "        log_reactions(df_to_write, sheet, new_file)\n",
    "    end\n",
    "end\n",
    "\n",
    "escape_energy(massmult) = kJ_to_eV((0.5 * massmult * (1.67e-27 #=kg=#) * (5000 #=m/s=#)^2) / 1000 #=kJ/J=#)"
   ]
  },
  {
   "cell_type": "code",
   "execution_count": 6,
   "id": "6c0928e9-200f-4858-9220-7577aecfcf6e",
   "metadata": {
    "tags": []
   },
   "outputs": [],
   "source": [
    "# modify_rxn_spreadsheet(\"REACTION_NETWORK_NOENTHALPY.xlsx\"; insert_i=[0,7,8,8,0,0])"
   ]
  },
  {
   "cell_type": "code",
   "execution_count": 37,
   "id": "4cdee86e-b055-4ac4-8f93-cb5ee1e03251",
   "metadata": {
    "tags": []
   },
   "outputs": [
    {
     "name": "stdout",
     "output_type": "stream",
     "text": [
      "\n",
      "Exothermic: 146, Endothermic: 22\n",
      "\n",
      "Exothermic: 0, Endothermic: 16\n",
      "\n",
      "Exothermic: 0, Endothermic: 8\n",
      "\n",
      "\n",
      "\n"
     ]
    }
   ],
   "source": [
    "modify_rxn_spreadsheet(\"REACTION_NETWORK_BEFOREH2.xlsx\"; spc=[:H2, :HD, :H, :D], insert_i=[0,11,12,12,0,0,0])"
   ]
  },
  {
   "cell_type": "code",
   "execution_count": null,
   "id": "122bf19f-ac38-4ca6-9ecc-3fc826137bfa",
   "metadata": {},
   "outputs": [],
   "source": []
  }
 ],
 "metadata": {
  "kernelspec": {
   "display_name": "Julia 1.7.1",
   "language": "julia",
   "name": "julia-1.7"
  },
  "language_info": {
   "file_extension": ".jl",
   "mimetype": "application/julia",
   "name": "julia",
   "version": "1.7.1"
  }
 },
 "nbformat": 4,
 "nbformat_minor": 5
}
