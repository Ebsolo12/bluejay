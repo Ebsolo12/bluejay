{
 "cells": [
  {
   "cell_type": "code",
   "execution_count": 17,
   "id": "da52af05-5864-4684-9285-9b1ba625fb1b",
   "metadata": {},
   "outputs": [],
   "source": [
    "from astropy.io import ascii\n",
    "import pandas as pd"
   ]
  },
  {
   "cell_type": "code",
   "execution_count": 3,
   "id": "5f89041d-7f16-433e-8123-8e93182391a1",
   "metadata": {},
   "outputs": [],
   "source": [
    "excess_energies = pd.read_excel(\"/home/emc/OneDrive-CU/Research/UpperAtmoDH/Results/DGearI+iNT_bXwiopqk_smean_v13/active_rxns.xlsx\", \n",
    "                                sheet_name=\"Ion reactions\", header=0, names=\"excessE (eV)\", index_col=None, usecols=\"G\")   "
   ]
  },
  {
   "cell_type": "code",
   "execution_count": 13,
   "id": "0d1db310-c614-4563-9556-87a6ba414841",
   "metadata": {},
   "outputs": [],
   "source": [
    "positive_energies = excess_energies.loc[(excess_energies[\"E\"] > 0)]"
   ]
  },
  {
   "cell_type": "code",
   "execution_count": 14,
   "id": "0729444b-a7a7-4f7c-a271-f1213f56cf70",
   "metadata": {},
   "outputs": [
    {
     "data": {
      "text/plain": [
       "E    3.60226\n",
       "dtype: float64"
      ]
     },
     "execution_count": 14,
     "metadata": {},
     "output_type": "execute_result"
    }
   ],
   "source": [
    "pd.Series.mean(positive_energies)"
   ]
  },
  {
   "cell_type": "code",
   "execution_count": 15,
   "id": "29ce41a4-9d69-460c-8f52-c1f05e57eb1e",
   "metadata": {},
   "outputs": [
    {
     "data": {
      "text/plain": [
       "E    2.515\n",
       "dtype: float64"
      ]
     },
     "execution_count": 15,
     "metadata": {},
     "output_type": "execute_result"
    }
   ],
   "source": [
    "pd.Series.median(positive_energies)"
   ]
  },
  {
   "cell_type": "code",
   "execution_count": null,
   "id": "015cc4b7-5393-4e06-9a0d-e1733deb9c78",
   "metadata": {},
   "outputs": [],
   "source": []
  }
 ],
 "metadata": {
  "kernelspec": {
   "display_name": "Python 3 (ipykernel)",
   "language": "python",
   "name": "python3"
  },
  "language_info": {
   "codemirror_mode": {
    "name": "ipython",
    "version": 3
   },
   "file_extension": ".py",
   "mimetype": "text/x-python",
   "name": "python",
   "nbconvert_exporter": "python",
   "pygments_lexer": "ipython3",
   "version": "3.8.13"
  }
 },
 "nbformat": 4,
 "nbformat_minor": 5
}
