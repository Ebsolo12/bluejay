{
 "cells": [
  {
   "cell_type": "code",
   "execution_count": 1,
   "metadata": {},
   "outputs": [],
   "source": [
    "using CSV\n",
    "using DataFrames"
   ]
  },
  {
   "cell_type": "code",
   "execution_count": 2,
   "metadata": {},
   "outputs": [],
   "source": [
    "include(\"PARAMETERS.jl\");"
   ]
  },
  {
   "cell_type": "markdown",
   "metadata": {},
   "source": [
    "# Read and format the spreadsheet of ion reactions from Roger"
   ]
  },
  {
   "cell_type": "code",
   "execution_count": 2,
   "metadata": {},
   "outputs": [
    {
     "data": {
      "text/plain": [
       "\"/home/emc/GDrive-CU/Research-Modeling/UpperAtmoDH/Code\""
      ]
     },
     "execution_count": 2,
     "metadata": {},
     "output_type": "execute_result"
    }
   ],
   "source": [
    "pwd()"
   ]
  },
  {
   "cell_type": "code",
   "execution_count": 110,
   "metadata": {},
   "outputs": [
    {
     "data": {
      "text/plain": [
       "\"../Resources/ireactions-full-copy.csv\""
      ]
     },
     "execution_count": 110,
     "metadata": {},
     "output_type": "execute_result"
    }
   ],
   "source": [
    "ionfile = \"../Resources/ireactions-full-copy.csv\""
   ]
  },
  {
   "cell_type": "code",
   "execution_count": 111,
   "metadata": {},
   "outputs": [
    {
     "data": {
      "text/plain": [
       "format_ion_network (generic function with 1 method)"
      ]
     },
     "execution_count": 111,
     "metadata": {},
     "output_type": "execute_result"
    }
   ],
   "source": [
    "function format_ion_network(ion_rxn_file)\n",
    "    \n",
    "    # Open the CSV, send it into a data frame, get rid of missing values, and construct an array to store the network\n",
    "    ion_table = CSV.File(ion_rxn_file) |> DataFrame\n",
    "    replace!(ion_table.\"P3\", missing=>\"-0\");\n",
    "    numrows = size(ion_table)[1]\n",
    "    ion_network = Array{Any}(undef, numrows, 1)\n",
    "\n",
    "    # Fill in the network\n",
    "    for i in range(1, stop=numrows)\n",
    "    \n",
    "        # set up the reaction - don't need to worry about termolecular ion rxns\n",
    "        reactants = [Symbol(ion_table[i, \"R1\"]), Symbol(ion_table[i, \"R2\"])]\n",
    "        products = [ion_table[i, \"P1\"], ion_table[i, \"P2\"], ion_table[i, \"P3\"]]\n",
    "        products = filter!(j->j!=\"-0\", products)\n",
    "        products = [Symbol(j) for j in products]\n",
    "\n",
    "        # electron vs. ion temperature\n",
    "        Tstr = ion_table[i, :].type == -4 ? \"Te\" : \"Ti\"\n",
    "\n",
    "        # construct the symbolic rate expression\n",
    "        k_A = :(2 .* $(ion_table[i, \"kA\"])) #Meta.parse(\"2 .* $(string(ion_table[i, :].kA))\")\n",
    "        # println(k_A)\n",
    "        if ion_table[i, :].kB != 0\n",
    "            k = :($k_A .* $(Meta.parse(Tstr)) .^ $(ion_table[i, \"kB\"]))\n",
    "\n",
    "            # k_B = \".*($(Tstr) .^ $(ion_table[i, :].kB))\" # old \n",
    "        else\n",
    "            k = k_A\n",
    "            # k_B = \"\" # old\n",
    "        end\n",
    "\n",
    "        if ion_table[i, :].kC != 0\n",
    "            k = :($k .* exp.($(ion_table[i, \"kC\"]) ./ $(Meta.parse(Tstr))))\n",
    "            # k_C = \".* exp.($(ion_table[i, :].kC) ./ $(Tstr))\" # old\n",
    "        else\n",
    "            k = k\n",
    "            # k_C = \"\" # old\n",
    "        end\n",
    "\n",
    "        ion_network[i] = [reactants, products, k]   #:($k_A * $k_B * $k_C)] # old and not perfect  \n",
    "        end\n",
    "        \n",
    "        return ion_network\n",
    "    \n",
    "end"
   ]
  },
  {
   "cell_type": "code",
   "execution_count": 112,
   "metadata": {},
   "outputs": [
    {
     "data": {
      "text/plain": [
       "582×1 Matrix{Any}:\n",
       " Any[[:ArHpl, :C], [:CHpl, :Ar], :(2 .* 1.02e-9)]\n",
       " Any[[:ArHpl, :CO], [:HCOpl, :Ar], :(2 .* 1.25e-9)]\n",
       " Any[[:ArHpl, :CO2], [:HCO2pl, :Ar], :(2 .* 1.1e-9)]\n",
       " Any[[:ArHpl, :H2], [:H3pl, :Ar], :(2 .* 6.3e-10)]\n",
       " Any[[:ArHpl, :N2], [:N2Hpl, :Ar], :(2 .* 8.0e-10)]\n",
       " Any[[:ArHpl, :O], [:OHpl, :Ar], :(2 .* 5.9e-10)]\n",
       " Any[[:ArHpl, :O2], [:HO2pl, :Ar], :(2 .* 5.05e-10)]\n",
       " Any[[:Arpl, :CO], [:COpl, :Ar], :(2 .* 4.4e-11)]\n",
       " Any[[:Arpl, :CO2], [:CO2pl, :Ar], :(2 .* 4.8e-10)]\n",
       " Any[[:Arpl, :H2], [:ArHpl, :H], :(2 .* 8.72e-10)]\n",
       " Any[[:Arpl, :H2], [:H2pl, :Ar], :(2 .* 1.78e-11)]\n",
       " Any[[:Arpl, :H2O], [:ArHpl, :OH], :(2 .* 3.24e-10)]\n",
       " Any[[:Arpl, :H2O], [:H2Opl, :Ar], :(2 .* 1.3e-9)]\n",
       " ⋮\n",
       " Any[[:NH2pl, :E], [:N, :H, :H], :(((2 .* 1.71e-5) .* Te .^ -0.8) .* exp.(-17.1 ./ Te))]\n",
       " Any[[:NH2pl, :E], [:NH, :H], :(((2 .* 8.34e-6) .* Te .^ -0.79) .* exp.(-17.1 ./ Te))]\n",
       " Any[[:NH3pl, :E], [:NH, :H, :H], :((2 .* 2.68e-6) .* Te .^ -0.5)]\n",
       " Any[[:NH3pl, :E], [:NH2, :H], :((2 .* 2.68e-6) .* Te .^ -0.5)]\n",
       " Any[[:NHpl, :E], [:N, :H], :((2 .* 7.45e-7) .* Te .^ -0.5)]\n",
       " Any[[:NO2pl, :E], [:NO, :O], :((2 .* 5.2e-6) .* Te .^ -0.5)]\n",
       " Any[[:NOpl, :E], [:O, :N], :((2 .* 8.52e-7) .* Te .^ -0.37)]\n",
       " Any[[:NOpl, :E], [:O, :N2D], :((2 .* 4.53e-9) .* Te .^ 0.75)]\n",
       " Any[[:Npl, :E], [:N], :((2 .* 1.9e-10) .* Te .^ -0.7)]\n",
       " Any[[:O2pl, :E], [:O, :O], :((2 .* 8.15e-6) .* Te .^ -0.65)]\n",
       " Any[[:OHpl, :E], [:O, :H], :((2 .* 6.5e-7) .* Te .^ -0.5)]\n",
       " Any[[:Opl, :E], [:O], :((2 .* 1.4e-10) .* Te .^ -0.66)]"
      ]
     },
     "execution_count": 112,
     "metadata": {},
     "output_type": "execute_result"
    }
   ],
   "source": [
    "format_ion_network(ionfile)"
   ]
  },
  {
   "cell_type": "markdown",
   "metadata": {},
   "source": [
    "# Same but for neutrals"
   ]
  },
  {
   "cell_type": "code",
   "execution_count": 8,
   "metadata": {},
   "outputs": [
    {
     "data": {
      "text/plain": [
       "\"/home/emc/GDrive-CU/Research-Modeling/UpperAtmoDH/Resources/nreactions_pared.csv\""
      ]
     },
     "execution_count": 8,
     "metadata": {},
     "output_type": "execute_result"
    }
   ],
   "source": [
    "neutralfile = \"/home/emc/GDrive-CU/Research-Modeling/UpperAtmoDH/Resources/nreactions_pared.csv\""
   ]
  },
  {
   "cell_type": "markdown",
   "metadata": {},
   "source": [
    "## rate coeff funcs"
   ]
  },
  {
   "cell_type": "code",
   "execution_count": 100,
   "metadata": {},
   "outputs": [
    {
     "data": {
      "text/plain": [
       "format_neutral_network (generic function with 1 method)"
      ]
     },
     "execution_count": 100,
     "metadata": {},
     "output_type": "execute_result"
    }
   ],
   "source": [
    "function make_general_k(A, B, C)\n",
    "    #=\n",
    "    Construct a symbolic expression of the form A * T^B * exp(C/Tn)\n",
    "    =#\n",
    "    k_A = :($A) \n",
    "    if B != 0\n",
    "        k = :($k_A .* (Tn .^ $B))     \n",
    "    else\n",
    "        k = k_A\n",
    "    end\n",
    "    if C != 0\n",
    "        k = :($k .* exp.($C ./ Tn))\n",
    "    else\n",
    "        k = k\n",
    "    end\n",
    "\n",
    "    \n",
    "    return k\n",
    "end\n",
    "\n",
    "\n",
    "function construct_FF(k0, kinf, F)\n",
    "    #=\n",
    "    Put together a really nasty expression\n",
    "    =#\n",
    "    outer_numer = :(log10.($(F)))\n",
    "    inner_numer = :(log10.(($(k0) .* M) ./ ($(kinf))) .- 0.4 .- 0.67 .* log10.($(F)))\n",
    "    inner_denom = :(0.75 .- 1.27 .* log10.($(F)) .- 0.14 .* (log10.(($(k0) .* M) ./ ($(kinf))) .- 0.4 .- 0.67 .* log10.($(F))))\n",
    "    outer_denom = :(1 .+ (($(inner_numer)) ./ ($(inner_denom))) .^ 2)\n",
    "    FF = :(10 .^ (($(outer_numer)) ./ ($(outer_denom))))\n",
    "    return FF\n",
    "end\n",
    "\n",
    "\n",
    "function make_Troe(k0_ABC, kinf_ABC, F)\n",
    "    #=\n",
    "    k0_ABC and kinf_ABC are lists of A, B, and C for k0 and kinf.\n",
    "    =#\n",
    "    k0 = make_general_k(k0_ABC...)\n",
    "    kinf = make_general_k(kinf_ABC...)\n",
    "    \n",
    "    if F == 0\n",
    "        return :(($(k0) .* $(kinf) .* M) ./ ($(k0) .* M .+ $(kinf)))  # Updated to match Roger's code 4 Feb 2021\n",
    "    else        \n",
    "        FF = construct_FF(k0, kinf, F)\n",
    "        return :($(FF) .* ($(k0) .* $(kinf)) ./ ($(k0) .* M .+ $(kinf)))  # Updated to match Roger's code 5 Feb 2021\n",
    "    end\n",
    "end\n",
    "\n",
    "function make_modified_Troe(k0_ABC, kinf_ABC, kR_ABC, F)\n",
    "    #=\n",
    "    \"Type 4\" pressure dependent association reactions. \n",
    "    Roger has the result for F=0 in his code as k_tot = k2 + k0*kinf*M/(k0*M+kinf), with k2 (kR in the appendix from Vuitton)\n",
    "    being the general form and using the third set of A, B, C coefficients in his file. Those columns are 0 in the file he gave me, but\n",
    "    I have coded it like this though to make sure to keep the form in case I ever get one where it's not 0.\n",
    "    \n",
    "    k0_ABC and kinf_ABC are lists of A, B, and C for k0 and kinf.\n",
    "    =#\n",
    "    k0 = make_general_k(k0_ABC...)\n",
    "    kinf = make_general_k(kinf_ABC...)\n",
    "    kR = make_general_k(kR_ABC...)\n",
    "    \n",
    "    if F == 0\n",
    "        return :($(kR) .+ ($(k0) .* $(kinf) .* M) ./ ($(k0) .* M .+ $(kinf)))\n",
    "    else\n",
    "        FF = construct_FF(k0, kinf, F)\n",
    "        \n",
    "        # for this one, we need the minimum of k_inf and a more complicated expression.\n",
    "        # Format for minimum of A and B is: :(min.($:(A), $:(B)))\n",
    "        return :(min.($:($kinf), $:($(kR) .+ ($(FF) .* $(k0) .* $(kinf) .* M) ./ ($(k0) .* M .+ $(kinf)))))\n",
    "    end\n",
    "end\n",
    "\n",
    "function all_reactants_used(d)\n",
    "    #=\n",
    "    Filter out reactions with reactants we won't use \n",
    "    =# \n",
    "    \n",
    "    r1 = Symbol(d[\"R1\"])\n",
    "    r2 = Symbol(d[\"R2\"])\n",
    "    \n",
    "    unused = []\n",
    "\n",
    "    if !(r1 in all_species)\n",
    "        # println(\"$(r1) + $(r2) --> $(d[\"P1\"]) + $(d[\"P2\"]) + $(d[\"P3\"]) contains an unused species as reactant, deleting...\")\n",
    "        push!(unused, r1)\n",
    "        return false\n",
    "    else  # if the first reactant is used\n",
    "        if d[\"R2\"] != \"-0\"\n",
    "            if !(r2 in all_species)\n",
    "                # println(\"$(r1) + $(r2) --> $(d[\"P1\"]) + $(d[\"P2\"]) + $(d[\"P3\"]) contains unused species $(r2) as reactant, deleting...\")\n",
    "                push!(unused, r2)\n",
    "                return false\n",
    "            else\n",
    "                return true\n",
    "            end \n",
    "        else\n",
    "            return true\n",
    "        end\n",
    "    end\n",
    "\n",
    "    println(\"Deleted all reactions containing these species: $(unused)\")\n",
    "end\n",
    "\n",
    "function format_neutral_network(neutralfile)\n",
    "    #=\n",
    "    Construct array of the neutral network.\n",
    "    \n",
    "    =#\n",
    "    \n",
    "    # Load the neutral network, replace missing values\n",
    "    ntable = CSV.File(neutralfile) |> DataFrame\n",
    "    replace!(ntable.\"P2\", missing => \"-0\");\n",
    "    replace!(ntable.\"P3\", missing => \"-0\");\n",
    "    select!(ntable, Not(:Column1))  # Ignore the index column\n",
    "    \n",
    "    ntable = filter(all_reactants_used, ntable)\n",
    "    \n",
    "    # Set up the array to store neutral network \n",
    "    numrows = size(ntable)[1]\n",
    "    neutral_network = Array{Any}(undef, numrows, 1)\n",
    "\n",
    "    # identify the type and sort into lists for some cursory perusal\n",
    "    type1 = Any[]\n",
    "    type2 = []\n",
    "    type3 = []\n",
    "    type4 = []\n",
    "    type5 = []\n",
    "    \n",
    "    # Fill the network\n",
    "    \n",
    "    for i in range(1, stop=numrows)\n",
    "        # set up the reaction\n",
    "        reactants = [ntable[i, \"R1\"], ntable[i, \"R2\"]]\n",
    "        reactants = filter!(j->j!=\"-0\", reactants)\n",
    "        reactants = [Symbol(j) for j in reactants]\n",
    "        products = [ntable[i, \"P1\"], ntable[i, \"P2\"], ntable[i, \"P3\"]]\n",
    "        products = filter!(j->j!=\"-0\", products)\n",
    "        products = [Symbol(j) for j in products]\n",
    "\n",
    "        # Type 1: Pressure independent unimolecular rxns, high pressure limit\n",
    "        # use k (which is same as k inf); units s^-1\n",
    "        if ntable[i, \"type\"]==1\n",
    "            push!(type1, [reactants, products, :($(make_general_k(ntable[i, \"kA\"], ntable[i, \"kB\"], ntable[i, \"kC\"])))   ])\n",
    "\n",
    "        # Type 2: P independent bimolecular; use k (same as *k inf), units cm^3 s^-1\n",
    "        elseif ntable[i, \"type\"]==2\n",
    "            push!(type2, [reactants, products, make_general_k(ntable[i, \"kA\"], ntable[i, \"kB\"], ntable[i, \"kC\"])])\n",
    "\n",
    "        # Type 3: P dependent bimolecular.\n",
    "        elseif ntable[i, \"type\"]==3\n",
    "            push!(type3, [reactants, products, \n",
    "                          make_Troe([ntable[i, \"k0A\"], ntable[i, \"k0B\"], ntable[i, \"k0C\"]], \n",
    "                                   [ntable[i, \"kA\"], ntable[i, \"kB\"], ntable[i, \"kC\"]],\n",
    "                                    ntable[i, \"F\"])\n",
    "                          ])\n",
    "\n",
    "        # Type 4: P dependent association rxns\n",
    "        elseif ntable[i, \"type\"]==4\n",
    "            push!(type4, [reactants, products, \n",
    "                          make_modified_Troe([ntable[i, \"k0A\"], ntable[i, \"k0B\"], ntable[i, \"k0C\"]], \n",
    "                                             [ntable[i, \"kA\"], ntable[i, \"kB\"], ntable[i, \"kC\"]],\n",
    "                                             [ntable[i, \"kradA\"], ntable[i, \"kradB\"], ntable[i, \"kradC\"]],\n",
    "                                             ntable[i, \"F\"])\n",
    "\n",
    "                         ])\n",
    "\n",
    "        # Type 5: special forms for OH+CO -> H + CO2, OH+CO -> HOCO\n",
    "        elseif ntable[i, \"type\"]==5\n",
    "            push!(type5, [reactants, products, make_general_k(ntable[i, \"k0A\"], ntable[i, \"k0B\"], ntable[i, \"k0C\"]), \n",
    "                                               make_general_k(ntable[i, \"kA\"], ntable[i, \"kB\"], ntable[i, \"kC\"])])\n",
    "\n",
    "        else\n",
    "            println(\"Got an unexpected type! $(ntable[i, \"type\"])\")\n",
    "        end\n",
    "    end\n",
    "    \n",
    "    return type1, type2, type3, type4, type5\n",
    "    \n",
    "end\n"
   ]
  },
  {
   "cell_type": "markdown",
   "metadata": {},
   "source": [
    "## Test the functions that provide the rate coefficients"
   ]
  },
  {
   "cell_type": "code",
   "execution_count": 101,
   "metadata": {},
   "outputs": [
    {
     "data": {
      "text/plain": [
       ":((5.0 .* Tn .^ -0.6) .* exp.(-200.0 ./ Tn))"
      ]
     },
     "execution_count": 101,
     "metadata": {},
     "output_type": "execute_result"
    }
   ],
   "source": [
    "k0_ABC = [5, -0.5, 0]\n",
    "kinf_ABC = [5, -0.6, -200]\n",
    "\n",
    "k0_test = make_general_k(k0_ABC...)\n",
    "kinf_test = make_general_k(kinf_ABC...)"
   ]
  },
  {
   "cell_type": "markdown",
   "metadata": {},
   "source": [
    "### construct_FF"
   ]
  },
  {
   "cell_type": "code",
   "execution_count": 102,
   "metadata": {},
   "outputs": [
    {
     "data": {
      "text/plain": [
       "\"10 .^ ((log10.(2.2)) ./ (1 .+ ((log10.((5.0 .* Tn .^ -0.5 .* M) ./ ((5.0 .* Tn .^ -0.6) .* exp.(-200.0 ./ Tn))) .- 0.4 .- 0.67 .* log10.(2.2)) ./ (0.75 .- 1.27 .* log10.(2.2) .- 0.14 .* (log10.((5.0 .* Tn .^ -0.5 .* M) ./ ((5.0 .* Tn .^ -0.6) .* exp.(-200.0 ./ Tn))) .- 0.4 .- 0.67 .* log10.(2.2)))) .^ 2))\""
      ]
     },
     "execution_count": 102,
     "metadata": {},
     "output_type": "execute_result"
    }
   ],
   "source": [
    "construct_FF_old(k0_test, kinf_test, 2.2)"
   ]
  },
  {
   "cell_type": "code",
   "execution_count": 103,
   "metadata": {},
   "outputs": [
    {
     "data": {
      "text/plain": [
       ":(10 .^ (log10.(2.2) ./ (1 .+ (((log10.(((5.0 .* Tn .^ -0.5) .* M) ./ ((5.0 .* Tn .^ -0.6) .* exp.(-200.0 ./ Tn))) .- 0.4) .- 0.67 .* log10.(2.2)) ./ ((0.75 .- 1.27 .* log10.(2.2)) .- 0.14 .* ((log10.(((5.0 .* Tn .^ -0.5) .* M) ./ ((5.0 .* Tn .^ -0.6) .* exp.(-200.0 ./ Tn))) .- 0.4) .- 0.67 .* log10.(2.2)))) .^ 2)))"
      ]
     },
     "execution_count": 103,
     "metadata": {},
     "output_type": "execute_result"
    }
   ],
   "source": [
    "construct_FF(k0_test, kinf_test, 2.2)"
   ]
  },
  {
   "cell_type": "markdown",
   "metadata": {},
   "source": [
    "### make_Troe"
   ]
  },
  {
   "cell_type": "code",
   "execution_count": 104,
   "metadata": {},
   "outputs": [
    {
     "data": {
      "text/plain": [
       "Symbol(\"(5.0 .* Tn .^ -0.5 .* (5.0 .* Tn .^ -0.6) .* exp.(-200.0 ./ Tn) .* M) ./ (5.0 .* Tn .^ -0.5 .* M .+ (5.0 .* Tn .^ -0.6) .* exp.(-200.0 ./ Tn))\")"
      ]
     },
     "execution_count": 104,
     "metadata": {},
     "output_type": "execute_result"
    }
   ],
   "source": [
    "make_Troe_old(k0_ABC, kinf_ABC, 0)"
   ]
  },
  {
   "cell_type": "code",
   "execution_count": 105,
   "metadata": {},
   "outputs": [
    {
     "data": {
      "text/plain": [
       ":((((5.0 .* Tn .^ -0.5) .* ((5.0 .* Tn .^ -0.6) .* exp.(-200.0 ./ Tn))) .* M) ./ ((5.0 .* Tn .^ -0.5) .* M .+ (5.0 .* Tn .^ -0.6) .* exp.(-200.0 ./ Tn)))"
      ]
     },
     "execution_count": 105,
     "metadata": {},
     "output_type": "execute_result"
    }
   ],
   "source": [
    "make_Troe(k0_ABC, kinf_ABC, 0)"
   ]
  },
  {
   "cell_type": "markdown",
   "metadata": {},
   "source": [
    "### make_modified_TRoe"
   ]
  },
  {
   "cell_type": "code",
   "execution_count": 106,
   "metadata": {},
   "outputs": [
    {
     "data": {
      "text/plain": [
       "Symbol(\"(4.0 .* Tn .^ -0.9) .* exp.(-600.0 ./ Tn) .+ (5.0 .* Tn .^ -0.5 .* (5.0 .* Tn .^ -0.6) .* exp.(-200.0 ./ Tn) .* M) ./ (5.0 .* Tn .^ -0.5 .* M .+ (5.0 .* Tn .^ -0.6) .* exp.(-200.0 ./ Tn))\")"
      ]
     },
     "execution_count": 106,
     "metadata": {},
     "output_type": "execute_result"
    }
   ],
   "source": [
    "make_modified_Troe_old(k0_ABC, kinf_ABC, [4, -0.9, -600], 0)"
   ]
  },
  {
   "cell_type": "code",
   "execution_count": 107,
   "metadata": {},
   "outputs": [
    {
     "data": {
      "text/plain": [
       ":((4.0 .* Tn .^ -0.9) .* exp.(-600.0 ./ Tn) .+ (((5.0 .* Tn .^ -0.5) .* ((5.0 .* Tn .^ -0.6) .* exp.(-200.0 ./ Tn))) .* M) ./ ((5.0 .* Tn .^ -0.5) .* M .+ (5.0 .* Tn .^ -0.6) .* exp.(-200.0 ./ Tn)))"
      ]
     },
     "execution_count": 107,
     "metadata": {},
     "output_type": "execute_result"
    }
   ],
   "source": [
    "make_modified_Troe(k0_ABC, kinf_ABC, [4, -0.9, -600], 0)"
   ]
  },
  {
   "cell_type": "markdown",
   "metadata": {},
   "source": [
    "#### make_modified_Troe when F !=0"
   ]
  },
  {
   "cell_type": "code",
   "execution_count": 108,
   "metadata": {},
   "outputs": [
    {
     "data": {
      "text/plain": [
       ":(min.(1, 0 .+ (((10 .^ (log10.(0.4) ./ (1 .+ (((log10.(((5.46e-33 .* exp.(155.0 ./ Tn)) .* M) ./ 1) .- 0.4) .- 0.67 .* log10.(0.4)) ./ ((0.75 .- 1.27 .* log10.(0.4)) .- 0.14 .* ((log10.(((5.46e-33 .* exp.(155.0 ./ Tn)) .* M) ./ 1) .- 0.4) .- 0.67 .* log10.(0.4)))) .^ 2)) .* (5.46e-33 .* exp.(155.0 ./ Tn))) .* 1) .* M) ./ ((5.46e-33 .* exp.(155.0 ./ Tn)) .* M .+ 1)))"
      ]
     },
     "execution_count": 108,
     "metadata": {},
     "output_type": "execute_result"
    }
   ],
   "source": [
    "# O + N --> NO\n",
    "make_modified_Troe([5.46e-33, 0, 155], [1, 0, 0], [0,0,0], 0.4)"
   ]
  },
  {
   "cell_type": "markdown",
   "metadata": {
    "tags": []
   },
   "source": [
    "## Try the neutral network"
   ]
  },
  {
   "cell_type": "code",
   "execution_count": 92,
   "metadata": {},
   "outputs": [],
   "source": [
    "t1, t2, t3, t4, t5 = format_neutral_network(neutralfile);"
   ]
  },
  {
   "cell_type": "code",
   "execution_count": 109,
   "metadata": {},
   "outputs": [
    {
     "data": {
      "text/plain": [
       "183-element Vector{Any}:\n",
       " Any[[:C, :C], [:C2], 2.16e-11]\n",
       " Any[[:C, :H], [:CH], 1.0e-17]\n",
       " Any[[:C, :N], [:CN], :((6.93e-20 .* Tn .^ 0.37) .* exp.(-51.0 ./ Tn))]\n",
       " Any[[:CH, :C], [:C2, :H], 6.59e-11]\n",
       " Any[[:CH, :H], [:H2, :C], :(1.31e-10 .* exp.(-80.0 ./ Tn))]\n",
       " Any[[:CH, :H2], [:CH2, :H], :(2.9e-10 .* exp.(-1670.0 ./ Tn))]\n",
       " Any[[:CH, :H2], [:CH3], :((2.92e-16 .* Tn .^ -0.71) .* exp.(-11.6 ./ Tn))]\n",
       " Any[[:CH, :N], [:CN, :H], :(2.77e-10 .* Tn .^ -0.09)]\n",
       " Any[[:CH, :O], [:CO, :H], 6.6e-11]\n",
       " Any[[:CH, :O], [:HCOP, :E], :(4.2e-13 .* exp.(-850.0 ./ Tn))]\n",
       " Any[[:CH, :O], [:OH, :C], :(2.52e-11 .* exp.(-2381.0 ./ Tn))]\n",
       " Any[[:CN, :H2], [:HCN, :H], :((1.8e-19 .* Tn .^ 2.6) .* exp.(-960.0 ./ Tn))]\n",
       " Any[[:CN, :N], [:N2, :C], :(9.8e-10 .* Tn .^ -0.4)]\n",
       " ⋮\n",
       " Any[[:OH, :C], [:CO, :H], :((7.98e-10 .* Tn .^ -0.34) .* exp.(-0.108 ./ Tn))]\n",
       " Any[[:OH, :CH], [:HCO, :H], :((8.31e-13 .* Tn .^ 0.5) .* exp.(-5000.0 ./ Tn))]\n",
       " Any[[:OH, :H], [:H2, :O], :((8.1e-21 .* Tn .^ 2.8) .* exp.(-1950.0 ./ Tn))]\n",
       " Any[[:OH, :H2], [:H2O, :H], :(2.8e-12 .* exp.(-1800.0 ./ Tn))]\n",
       " Any[[:OH, :N], [:NH, :O], :((1.06e-11 .* Tn .^ 0.1) .* exp.(-10700.0 ./ Tn))]\n",
       " Any[[:OH, :N], [:NO, :H], :(1.8e-10 .* Tn .^ -0.2)]\n",
       " Any[[:OH, :NH], [:H2O, :N], :(3.3e-15 .* Tn .^ 1.2)]\n",
       " Any[[:OH, :NH], [:HNO, :H], 3.3e-11]\n",
       " Any[[:OH, :NH], [:NH2, :O], :((1.66e-12 .* Tn .^ 0.1) .* exp.(-5800.0 ./ Tn))]\n",
       " Any[[:OH, :NH], [:NO, :H2], 4.16e-11]\n",
       " Any[[:OH, :O], [:O2, :H], :(1.8e-11 .* exp.(180.0 ./ Tn))]\n",
       " Any[[:OH, :OH], [:H2O, :O], 1.8e-12]"
      ]
     },
     "execution_count": 109,
     "metadata": {},
     "output_type": "execute_result"
    }
   ],
   "source": [
    "t2"
   ]
  },
  {
   "cell_type": "markdown",
   "metadata": {},
   "source": [
    "# older code"
   ]
  },
  {
   "cell_type": "code",
   "execution_count": 7,
   "metadata": {
    "scrolled": true,
    "tags": []
   },
   "outputs": [
    {
     "data": {
      "text/html": [
       "<table class=\"data-frame\"><thead><tr><th></th><th>R1</th><th>R2</th><th>P1</th><th>P2</th><th>P3</th><th>type</th><th>kA</th><th>kB</th><th>kC</th><th>k0A</th></tr><tr><th></th><th>String</th><th>String</th><th>String</th><th>String</th><th>String?</th><th>Int64</th><th>Float64</th><th>Float64</th><th>Float64</th><th>Float64</th></tr></thead><tbody><p>229 rows × 19 columns (omitted printing of 9 columns)</p><tr><th>1</th><td>C</td><td>C</td><td>C2</td><td>-0</td><td>-0</td><td>2</td><td>2.16e-11</td><td>0.0</td><td>0.0</td><td>0.0</td></tr><tr><th>2</th><td>C</td><td>H</td><td>CH</td><td>-0</td><td>-0</td><td>2</td><td>1.0e-17</td><td>0.0</td><td>0.0</td><td>0.0</td></tr><tr><th>3</th><td>C</td><td>N</td><td>CN</td><td>-0</td><td>-0</td><td>2</td><td>6.93e-20</td><td>0.37</td><td>-51.0</td><td>0.0</td></tr><tr><th>4</th><td>CH</td><td>C</td><td>C2</td><td>H</td><td>-0</td><td>2</td><td>6.59e-11</td><td>0.0</td><td>0.0</td><td>0.0</td></tr><tr><th>5</th><td>CH</td><td>H</td><td>H2</td><td>C</td><td>-0</td><td>2</td><td>1.31e-10</td><td>0.0</td><td>-80.0</td><td>0.0</td></tr><tr><th>6</th><td>CH</td><td>H2</td><td>CH2</td><td>H</td><td>-0</td><td>2</td><td>2.9e-10</td><td>0.0</td><td>-1670.0</td><td>0.0</td></tr><tr><th>7</th><td>CH</td><td>H2</td><td>CH2</td><td>H</td><td>-0</td><td>4</td><td>8.5e-11</td><td>0.15</td><td>0.0</td><td>4.7e-26</td></tr><tr><th>8</th><td>CH</td><td>H2</td><td>CH3</td><td>-0</td><td>-0</td><td>2</td><td>2.92e-16</td><td>-0.71</td><td>-11.6</td><td>0.0</td></tr><tr><th>9</th><td>CH</td><td>N</td><td>CN</td><td>H</td><td>-0</td><td>2</td><td>2.77e-10</td><td>-0.09</td><td>0.0</td><td>0.0</td></tr><tr><th>10</th><td>CH</td><td>O</td><td>CO</td><td>H</td><td>-0</td><td>2</td><td>6.6e-11</td><td>0.0</td><td>0.0</td><td>0.0</td></tr><tr><th>11</th><td>CH</td><td>O</td><td>HCOP</td><td>E</td><td>-0</td><td>2</td><td>4.2e-13</td><td>0.0</td><td>-850.0</td><td>0.0</td></tr><tr><th>12</th><td>CH</td><td>O</td><td>OH</td><td>C</td><td>-0</td><td>2</td><td>2.52e-11</td><td>0.0</td><td>-2381.0</td><td>0.0</td></tr><tr><th>13</th><td>CN</td><td>H2</td><td>HCN</td><td>H</td><td>-0</td><td>2</td><td>1.8e-19</td><td>2.6</td><td>-960.0</td><td>0.0</td></tr><tr><th>14</th><td>CN</td><td>N</td><td>N2</td><td>C</td><td>-0</td><td>2</td><td>9.8e-10</td><td>-0.4</td><td>0.0</td><td>0.0</td></tr><tr><th>15</th><td>CN</td><td>NH</td><td>HCN</td><td>N</td><td>-0</td><td>2</td><td>1.7e-13</td><td>0.5</td><td>-1000.0</td><td>0.0</td></tr><tr><th>16</th><td>CN</td><td>O</td><td>CO</td><td>N</td><td>-0</td><td>2</td><td>5.0e-11</td><td>0.0</td><td>-200.0</td><td>0.0</td></tr><tr><th>17</th><td>CN</td><td>O</td><td>NO</td><td>C</td><td>-0</td><td>2</td><td>5.37e-11</td><td>0.0</td><td>-13800.0</td><td>0.0</td></tr><tr><th>18</th><td>CO</td><td>H</td><td>HCO</td><td>-0</td><td>-0</td><td>4</td><td>1.0</td><td>0.2</td><td>0.0</td><td>2.0e-35</td></tr><tr><th>19</th><td>CO</td><td>O</td><td>CO2</td><td>-0</td><td>-0</td><td>4</td><td>1.0</td><td>0.0</td><td>-1509.0</td><td>1.7e-33</td></tr><tr><th>20</th><td>CO</td><td>OH</td><td>CO2</td><td>H</td><td>-0</td><td>2</td><td>1.5e-13</td><td>0.0</td><td>0.0</td><td>0.0</td></tr><tr><th>21</th><td>CO</td><td>OH</td><td>HOCO</td><td>-0</td><td>-0</td><td>5</td><td>6.62e-16</td><td>1.3</td><td>0.0</td><td>1.77e-30</td></tr><tr><th>22</th><td>CO2</td><td>CH</td><td>HCO</td><td>CO</td><td>-0</td><td>2</td><td>1.7e-14</td><td>0.5</td><td>-3000.0</td><td>0.0</td></tr><tr><th>23</th><td>CO2</td><td>H</td><td>CO</td><td>OH</td><td>-0</td><td>2</td><td>3.38e-10</td><td>0.0</td><td>-13163.0</td><td>0.0</td></tr><tr><th>24</th><td>CO2</td><td>N</td><td>NO</td><td>CO</td><td>-0</td><td>2</td><td>3.2e-13</td><td>0.0</td><td>-1710.0</td><td>0.0</td></tr><tr><th>25</th><td>CO2</td><td>O</td><td>O2</td><td>CO</td><td>-0</td><td>2</td><td>2.46e-11</td><td>0.0</td><td>-26567.0</td><td>0.0</td></tr><tr><th>26</th><td>H</td><td>H</td><td>H2</td><td>-0</td><td>-0</td><td>4</td><td>1.0</td><td>-1.0</td><td>0.0</td><td>1.8e-30</td></tr><tr><th>27</th><td>H2</td><td>C</td><td>CH</td><td>H</td><td>-0</td><td>2</td><td>6.64e-10</td><td>0.0</td><td>-11700.0</td><td>0.0</td></tr><tr><th>28</th><td>H2</td><td>O</td><td>OH</td><td>H</td><td>-0</td><td>2</td><td>6.44e-20</td><td>2.7</td><td>-3150.0</td><td>0.0</td></tr><tr><th>29</th><td>H2O</td><td>H</td><td>OH</td><td>H2</td><td>-0</td><td>2</td><td>1.69e-14</td><td>1.2</td><td>-9610.0</td><td>0.0</td></tr><tr><th>30</th><td>H2O</td><td>O</td><td>OH</td><td>OH</td><td>-0</td><td>2</td><td>8.2e-14</td><td>0.95</td><td>-8571.0</td><td>0.0</td></tr><tr><th>&vellip;</th><td>&vellip;</td><td>&vellip;</td><td>&vellip;</td><td>&vellip;</td><td>&vellip;</td><td>&vellip;</td><td>&vellip;</td><td>&vellip;</td><td>&vellip;</td><td>&vellip;</td></tr></tbody></table>"
      ],
      "text/latex": [
       "\\begin{tabular}{r|ccccccccccc}\n",
       "\t& R1 & R2 & P1 & P2 & P3 & type & kA & kB & kC & k0A & \\\\\n",
       "\t\\hline\n",
       "\t& String & String & String & String & String? & Int64 & Float64 & Float64 & Float64 & Float64 & \\\\\n",
       "\t\\hline\n",
       "\t1 & C & C & C2 & -0 & -0 & 2 & 2.16e-11 & 0.0 & 0.0 & 0.0 & $\\dots$ \\\\\n",
       "\t2 & C & H & CH & -0 & -0 & 2 & 1.0e-17 & 0.0 & 0.0 & 0.0 & $\\dots$ \\\\\n",
       "\t3 & C & N & CN & -0 & -0 & 2 & 6.93e-20 & 0.37 & -51.0 & 0.0 & $\\dots$ \\\\\n",
       "\t4 & CH & C & C2 & H & -0 & 2 & 6.59e-11 & 0.0 & 0.0 & 0.0 & $\\dots$ \\\\\n",
       "\t5 & CH & H & H2 & C & -0 & 2 & 1.31e-10 & 0.0 & -80.0 & 0.0 & $\\dots$ \\\\\n",
       "\t6 & CH & H2 & CH2 & H & -0 & 2 & 2.9e-10 & 0.0 & -1670.0 & 0.0 & $\\dots$ \\\\\n",
       "\t7 & CH & H2 & CH2 & H & -0 & 4 & 8.5e-11 & 0.15 & 0.0 & 4.7e-26 & $\\dots$ \\\\\n",
       "\t8 & CH & H2 & CH3 & -0 & -0 & 2 & 2.92e-16 & -0.71 & -11.6 & 0.0 & $\\dots$ \\\\\n",
       "\t9 & CH & N & CN & H & -0 & 2 & 2.77e-10 & -0.09 & 0.0 & 0.0 & $\\dots$ \\\\\n",
       "\t10 & CH & O & CO & H & -0 & 2 & 6.6e-11 & 0.0 & 0.0 & 0.0 & $\\dots$ \\\\\n",
       "\t11 & CH & O & HCOP & E & -0 & 2 & 4.2e-13 & 0.0 & -850.0 & 0.0 & $\\dots$ \\\\\n",
       "\t12 & CH & O & OH & C & -0 & 2 & 2.52e-11 & 0.0 & -2381.0 & 0.0 & $\\dots$ \\\\\n",
       "\t13 & CN & H2 & HCN & H & -0 & 2 & 1.8e-19 & 2.6 & -960.0 & 0.0 & $\\dots$ \\\\\n",
       "\t14 & CN & N & N2 & C & -0 & 2 & 9.8e-10 & -0.4 & 0.0 & 0.0 & $\\dots$ \\\\\n",
       "\t15 & CN & NH & HCN & N & -0 & 2 & 1.7e-13 & 0.5 & -1000.0 & 0.0 & $\\dots$ \\\\\n",
       "\t16 & CN & O & CO & N & -0 & 2 & 5.0e-11 & 0.0 & -200.0 & 0.0 & $\\dots$ \\\\\n",
       "\t17 & CN & O & NO & C & -0 & 2 & 5.37e-11 & 0.0 & -13800.0 & 0.0 & $\\dots$ \\\\\n",
       "\t18 & CO & H & HCO & -0 & -0 & 4 & 1.0 & 0.2 & 0.0 & 2.0e-35 & $\\dots$ \\\\\n",
       "\t19 & CO & O & CO2 & -0 & -0 & 4 & 1.0 & 0.0 & -1509.0 & 1.7e-33 & $\\dots$ \\\\\n",
       "\t20 & CO & OH & CO2 & H & -0 & 2 & 1.5e-13 & 0.0 & 0.0 & 0.0 & $\\dots$ \\\\\n",
       "\t21 & CO & OH & HOCO & -0 & -0 & 5 & 6.62e-16 & 1.3 & 0.0 & 1.77e-30 & $\\dots$ \\\\\n",
       "\t22 & CO2 & CH & HCO & CO & -0 & 2 & 1.7e-14 & 0.5 & -3000.0 & 0.0 & $\\dots$ \\\\\n",
       "\t23 & CO2 & H & CO & OH & -0 & 2 & 3.38e-10 & 0.0 & -13163.0 & 0.0 & $\\dots$ \\\\\n",
       "\t24 & CO2 & N & NO & CO & -0 & 2 & 3.2e-13 & 0.0 & -1710.0 & 0.0 & $\\dots$ \\\\\n",
       "\t25 & CO2 & O & O2 & CO & -0 & 2 & 2.46e-11 & 0.0 & -26567.0 & 0.0 & $\\dots$ \\\\\n",
       "\t26 & H & H & H2 & -0 & -0 & 4 & 1.0 & -1.0 & 0.0 & 1.8e-30 & $\\dots$ \\\\\n",
       "\t27 & H2 & C & CH & H & -0 & 2 & 6.64e-10 & 0.0 & -11700.0 & 0.0 & $\\dots$ \\\\\n",
       "\t28 & H2 & O & OH & H & -0 & 2 & 6.44e-20 & 2.7 & -3150.0 & 0.0 & $\\dots$ \\\\\n",
       "\t29 & H2O & H & OH & H2 & -0 & 2 & 1.69e-14 & 1.2 & -9610.0 & 0.0 & $\\dots$ \\\\\n",
       "\t30 & H2O & O & OH & OH & -0 & 2 & 8.2e-14 & 0.95 & -8571.0 & 0.0 & $\\dots$ \\\\\n",
       "\t$\\dots$ & $\\dots$ & $\\dots$ & $\\dots$ & $\\dots$ & $\\dots$ & $\\dots$ & $\\dots$ & $\\dots$ & $\\dots$ & $\\dots$ &  \\\\\n",
       "\\end{tabular}\n"
      ],
      "text/plain": [
       "\u001b[1m229×19 DataFrame\u001b[0m\n",
       "\u001b[1m Row \u001b[0m│\u001b[1m R1     \u001b[0m\u001b[1m R2     \u001b[0m\u001b[1m P1     \u001b[0m\u001b[1m P2     \u001b[0m\u001b[1m P3      \u001b[0m\u001b[1m type  \u001b[0m\u001b[1m kA       \u001b[0m\u001b[1m kB      \u001b[0m\u001b[1m kC  \u001b[0m ⋯\n",
       "\u001b[1m     \u001b[0m│\u001b[90m String \u001b[0m\u001b[90m String \u001b[0m\u001b[90m String \u001b[0m\u001b[90m String \u001b[0m\u001b[90m String? \u001b[0m\u001b[90m Int64 \u001b[0m\u001b[90m Float64  \u001b[0m\u001b[90m Float64 \u001b[0m\u001b[90m Floa\u001b[0m ⋯\n",
       "─────┼──────────────────────────────────────────────────────────────────────────\n",
       "   1 │ C       C       C2      -0      -0           2  2.16e-11     0.0        ⋯\n",
       "   2 │ C       H       CH      -0      -0           2  1.0e-17      0.0\n",
       "   3 │ C       N       CN      -0      -0           2  6.93e-20     0.37     -\n",
       "   4 │ CH      C       C2      H       -0           2  6.59e-11     0.0\n",
       "   5 │ CH      H       H2      C       -0           2  1.31e-10     0.0      - ⋯\n",
       "   6 │ CH      H2      CH2     H       -0           2  2.9e-10      0.0    -16\n",
       "   7 │ CH      H2      CH2     H       -0           4  8.5e-11      0.15\n",
       "   8 │ CH      H2      CH3     -0      -0           2  2.92e-16    -0.71     -\n",
       "   9 │ CH      N       CN      H       -0           2  2.77e-10    -0.09       ⋯\n",
       "  10 │ CH      O       CO      H       -0           2  6.6e-11      0.0\n",
       "  11 │ CH      O       HCOP    E       -0           2  4.2e-13      0.0     -8\n",
       "  ⋮  │   ⋮       ⋮       ⋮       ⋮        ⋮       ⋮       ⋮         ⋮          ⋱\n",
       " 220 │ OH      H2      H2O     H       -0           2  2.8e-12      0.0    -18\n",
       " 221 │ OH      N       NH      O       -0           2  1.06e-11     0.1   -107 ⋯\n",
       " 222 │ OH      N       NO      H       -0           2  1.8e-10     -0.2\n",
       " 223 │ OH      NH      H2O     N       -0           2  3.3e-15      1.2\n",
       " 224 │ OH      NH      HNO     H       -0           2  3.3e-11      0.0\n",
       " 225 │ OH      NH      NH2     O       -0           2  1.66e-12     0.1    -58 ⋯\n",
       " 226 │ OH      NH      NO      H2      -0           2  4.16e-11     0.0\n",
       " 227 │ OH      O       O2      H       -0           2  1.8e-11      0.0      1\n",
       " 228 │ OH      OH      H2O     O       -0           2  1.8e-12      0.0\n",
       " 229 │ OH      OH      H2O2    -0      -0           4  2.6e-11      0.0        ⋯\n",
       "\u001b[36m                                                 11 columns and 208 rows omitted\u001b[0m"
      ]
     },
     "execution_count": 7,
     "metadata": {},
     "output_type": "execute_result"
    }
   ],
   "source": [
    "neutral_table = CSV.File(\"/home/emc/GDrive-CU/Research-Modeling/UpperAtmoDH/Resources/nreactions_pared.csv\") |> DataFrame\n",
    "replace!(neutral_table.\"P2\", missing => \"-0\");\n",
    "replace!(neutral_table.\"P3\", missing => \"-0\");\n",
    "select!(neutral_table, Not(:Column1))"
   ]
  },
  {
   "cell_type": "code",
   "execution_count": 4,
   "metadata": {},
   "outputs": [
    {
     "data": {
      "text/plain": [
       "make_modified_Troe (generic function with 1 method)"
      ]
     },
     "execution_count": 4,
     "metadata": {},
     "output_type": "execute_result"
    }
   ],
   "source": [
    "numrows = size(neutral_table)[1]\n",
    "neutral_network = Array{Any}(undef, numrows, 1)\n",
    "\n",
    "# identify the type and sort into lists for some cursory perusal\n",
    "type1 = []\n",
    "type2 = []\n",
    "type3 = []\n",
    "type4 = []\n",
    "type5 = []\n"
   ]
  },
  {
   "cell_type": "code",
   "execution_count": 5,
   "metadata": {
    "scrolled": true,
    "tags": []
   },
   "outputs": [
    {
     "name": "stdout",
     "output_type": "stream",
     "text": [
      "Type 1:\n",
      "Any[[:O1D], [:O], Symbol(\"0.0051\")]\n",
      "\n",
      "Type 2:\n",
      "Any[[:C, :C], [:C2], Symbol(\"2.16e-11\")]\n",
      "Any[[:C, :H], [:CH], Symbol(\"1.0e-17\")]\n",
      "Any[[:C, :N], [:CN], Symbol(\"6.93e-20 .* (Tn .^ 0.37) .* exp.(-51.0 ./ Tn)\")]\n",
      "Any[[:CH, :C], [:C2, :H], Symbol(\"6.59e-11\")]\n",
      "Any[[:CH, :H], [:H2, :C], Symbol(\"1.31e-10 .* exp.(-80.0 ./ Tn)\")]\n",
      "Any[[:CH, :H2], [:CH2, :H], Symbol(\"2.9e-10 .* exp.(-1670.0 ./ Tn)\")]\n",
      "Any[[:CH, :H2], [:CH3], Symbol(\"2.92e-16 .* (Tn .^ -0.71) .* exp.(-11.6 ./ Tn)\")]\n",
      "Any[[:CH, :N], [:CN, :H], Symbol(\"2.77e-10 .* (Tn .^ -0.09)\")]\n",
      "Any[[:CH, :O], [:CO, :H], Symbol(\"6.6e-11\")]\n",
      "Any[[:CH, :O], [:HCOP, :E], Symbol(\"4.2e-13 .* exp.(-850.0 ./ Tn)\")]\n",
      "Any[[:CH, :O], [:OH, :C], Symbol(\"2.52e-11 .* exp.(-2381.0 ./ Tn)\")]\n",
      "Any[[:CN, :H2], [:HCN, :H], Symbol(\"1.8e-19 .* (Tn .^ 2.6) .* exp.(-960.0 ./ Tn)\")]\n",
      "Any[[:CN, :N], [:N2, :C], Symbol(\"9.8e-10 .* (Tn .^ -0.4)\")]\n",
      "Any[[:CN, :NH], [:HCN, :N], Symbol(\"1.7e-13 .* (Tn .^ 0.5) .* exp.(-1000.0 ./ Tn)\")]\n",
      "Any[[:CN, :O], [:CO, :N], Symbol(\"5.0e-11 .* exp.(-200.0 ./ Tn)\")]\n",
      "Any[[:CN, :O], [:NO, :C], Symbol(\"5.37e-11 .* exp.(-13800.0 ./ Tn)\")]\n",
      "Any[[:CO, :OH], [:CO2, :H], Symbol(\"1.5e-13\")]\n",
      "Any[[:CO2, :CH], [:HCO, :CO], Symbol(\"1.7e-14 .* (Tn .^ 0.5) .* exp.(-3000.0 ./ Tn)\")]\n",
      "Any[[:CO2, :H], [:CO, :OH], Symbol(\"3.38e-10 .* exp.(-13163.0 ./ Tn)\")]\n",
      "Any[[:CO2, :N], [:NO, :CO], Symbol(\"3.2e-13 .* exp.(-1710.0 ./ Tn)\")]\n",
      "Any[[:CO2, :O], [:O2, :CO], Symbol(\"2.46e-11 .* exp.(-26567.0 ./ Tn)\")]\n",
      "Any[[:H2, :C], [:CH, :H], Symbol(\"6.64e-10 .* exp.(-11700.0 ./ Tn)\")]\n",
      "Any[[:H2, :O], [:OH, :H], Symbol(\"6.44e-20 .* (Tn .^ 2.7) .* exp.(-3150.0 ./ Tn)\")]\n",
      "Any[[:H2O, :H], [:OH, :H2], Symbol(\"1.69e-14 .* (Tn .^ 1.2) .* exp.(-9610.0 ./ Tn)\")]\n",
      "Any[[:H2O, :O], [:OH, :OH], Symbol(\"8.2e-14 .* (Tn .^ 0.95) .* exp.(-8571.0 ./ Tn)\")]\n",
      "Any[[:H2O2, :H], [:H2O, :OH], Symbol(\"1.7e-11 .* exp.(-1800.0 ./ Tn)\")]\n",
      "Any[[:H2O2, :H], [:HO2, :H2], Symbol(\"2.8e-12 .* exp.(-1890.0 ./ Tn)\")]\n",
      "Any[[:H2O2, :O], [:HO2, :OH], Symbol(\"1.4e-12 .* exp.(-2000.0 ./ Tn)\")]\n",
      "Any[[:H2O2, :OH], [:HO2, :H2O], Symbol(\"1.8e-12\")]\n",
      "Any[[:HCN, :CN], [:NCCN, :H], Symbol(\"1.45e-21 .* (Tn .^ 1.71) .* exp.(-770.0 ./ Tn)\")]\n",
      "Any[[:HCN, :H], [:CN, :H2], Symbol(\"6.2e-10 .* exp.(-12500.0 ./ Tn)\")]\n",
      "Any[[:HCN, :O], [:CO, :NH], Symbol(\"1.09e-15 .* (Tn .^ 1.14) .* exp.(-3742.0 ./ Tn)\")]\n",
      "Any[[:HCN, :O], [:NCO, :H], Symbol(\"5.19e-16 .* (Tn .^ 1.38) .* exp.(-3693.0 ./ Tn)\")]\n",
      "Any[[:HCN, :O], [:OH, :CN], Symbol(\"6.21e-10 .* exp.(-12439.0 ./ Tn)\")]\n",
      "Any[[:HCN, :OH], [:H2O, :CN], Symbol(\"3.6e-17 .* (Tn .^ 1.5) .* exp.(-3887.0 ./ Tn)\")]\n",
      "Any[[:HCO, :C], [:C2O, :H], Symbol(\"1.0e-10\")]\n",
      "Any[[:HCO, :C], [:CO, :CH], Symbol(\"1.0e-10\")]\n",
      "Any[[:HCO, :CH], [:CH2, :CO], Symbol(\"5.3e-14 .* (Tn .^ 0.7) .* exp.(-500.0 ./ Tn)\")]\n",
      "Any[[:HCO, :CN], [:HCN, :CO], Symbol(\"1.0e-10\")]\n",
      "Any[[:HCO, :H], [:CO, :H2], Symbol(\"1.5e-10\")]\n",
      "Any[[:HCO, :HCO], [:CO, :CO, :H2], Symbol(\"7.35e-12\")]\n",
      "Any[[:HCO, :HCO], [:H2CO, :CO], Symbol(\"4.26e-11\")]\n",
      "Any[[:HCO, :N], [:CO, :NH], Symbol(\"3.3e-13 .* (Tn .^ 0.5) .* exp.(-1000.0 ./ Tn)\")]\n",
      "Any[[:HCO, :N], [:HCN, :O], Symbol(\"1.7e-10\")]\n",
      "Any[[:HCO, :N], [:NCO, :H], Symbol(\"1.0e-10\")]\n",
      "Any[[:HCO, :NO], [:HNO, :CO], Symbol(\"1.2e-11\")]\n",
      "Any[[:HCO, :O], [:CO, :OH], Symbol(\"5.0e-11\")]\n",
      "Any[[:HCO, :O], [:CO2, :H], Symbol(\"5.0e-11\")]\n",
      "Any[[:HCO, :O2], [:CO2, :OH], Symbol(\"7.6e-13\")]\n",
      "Any[[:HCO, :O2], [:HO2, :CO], Symbol(\"5.2e-12\")]\n",
      "Any[[:HCO, :OH], [:H2O, :CO], Symbol(\"1.8e-10\")]\n",
      "Any[[:HNO, :CH], [:CH2, :NO], Symbol(\"1.73e-11\")]\n",
      "Any[[:HNO, :CN], [:HCN, :NO], Symbol(\"3.0e-11\")]\n",
      "Any[[:HNO, :CO], [:CO2, :NH], Symbol(\"3.32e-12 .* exp.(-6170.0 ./ Tn)\")]\n",
      "Any[[:HNO, :H], [:NH2, :O], Symbol(\"5.81e-9 .* (Tn .^ -0.3) .* exp.(-14730.0 ./ Tn)\")]\n",
      "Any[[:HNO, :H], [:NO, :H2], Symbol(\"7.41e-13 .* (Tn .^ 0.72) .* exp.(-329.0 ./ Tn)\")]\n",
      "Any[[:HNO, :HCO], [:H2CO, :NO], Symbol(\"1.0e-12 .* exp.(-1000.0 ./ Tn)\")]\n",
      "Any[[:HNO, :N], [:N2O, :H], Symbol(\"8.26e-14 .* (Tn .^ 0.5) .* exp.(-1500.0 ./ Tn)\")]\n",
      "Any[[:HNO, :N], [:NO, :NH], Symbol(\"1.7e-13 .* (Tn .^ 0.5) .* exp.(-1000.0 ./ Tn)\")]\n",
      "Any[[:HNO, :O], [:NO, :OH], Symbol(\"6.0e-11 .* (Tn .^ -0.08)\")]\n",
      "Any[[:HNO, :O], [:NO2, :H], Symbol(\"1.0e-12\")]\n",
      "Any[[:HNO, :O], [:O2, :NH], Symbol(\"1.7e-13 .* (Tn .^ 0.5) .* exp.(-3500.0 ./ Tn)\")]\n",
      "Any[[:HNO, :OH], [:H2O, :NO], Symbol(\"5.54e-15 .* (Tn .^ 1.23) .* exp.(44.3 ./ Tn)\")]\n",
      "Any[[:HO2, :CH], [:CH2, :O2], Symbol(\"1.7e-14 .* (Tn .^ 0.5) .* exp.(-7550.0 ./ Tn)\")]\n",
      "Any[[:HO2, :CH], [:HCO, :OH], Symbol(\"8.31e-13 .* (Tn .^ 0.5) .* exp.(-3000.0 ./ Tn)\")]\n",
      "Any[[:HO2, :CO], [:CO2, :OH], Symbol(\"5.6e-10 .* exp.(-12160.0 ./ Tn)\")]\n",
      "Any[[:HO2, :H], [:H2O, :O], Symbol(\"1.6e-12\")]\n",
      "Any[[:HO2, :H], [:O2, :H2], Symbol(\"6.9e-12\")]\n",
      "Any[[:HO2, :H], [:OH, :OH], Symbol(\"7.2e-11\")]\n",
      "Any[[:HO2, :H2], [:H2O2, :H], Symbol(\"5.0e-11 .* exp.(-13110.0 ./ Tn)\")]\n",
      "Any[[:HO2, :H2O], [:H2O2, :OH], Symbol(\"4.65e-11 .* exp.(-16500.0 ./ Tn)\")]\n",
      "Any[[:HO2, :HCO], [:H2CO, :O2], Symbol(\"5.0e-11\")]\n",
      "Any[[:HO2, :HO2], [:H2O2, :O2], Symbol(\"3.0e-13 .* exp.(460.0 ./ Tn)\")]\n",
      "Any[[:HO2, :N], [:NO, :OH], Symbol(\"2.2e-11\")]\n",
      "Any[[:HO2, :N], [:O2, :NH], Symbol(\"1.7e-13\")]\n",
      "Any[[:HO2, :NO], [:NO2, :OH], Symbol(\"3.3e-12 .* exp.(270.0 ./ Tn)\")]\n",
      "Any[[:HO2, :O], [:O2, :OH], Symbol(\"3.0e-11 .* exp.(200.0 ./ Tn)\")]\n",
      "Any[[:HO2, :OH], [:H2O, :O2], Symbol(\"4.8e-11 .* exp.(250.0 ./ Tn)\")]\n",
      "Any[[:HOCO, :O2], [:CO2, :HO2], Symbol(\"2.0e-12\")]\n",
      "Any[[:HOCO, :OH], [:CO2, :H2O], Symbol(\"1.03e-11\")]\n",
      "Any[[:N, :C], [:CN], Symbol(\"3.49e-19 .* (Tn .^ 0.14) .* exp.(-0.18 ./ Tn)\")]\n",
      "Any[[:N2O, :CO], [:CO2, :N2], Symbol(\"1.62e-13 .* exp.(-8780.0 ./ Tn)\")]\n",
      "Any[[:N2O, :H], [:NO, :NH], Symbol(\"0.111 .* (Tn .^ -2.16) .* exp.(-18700.0 ./ Tn)\")]\n",
      "Any[[:N2O, :H], [:OH, :N2], Symbol(\"8.08e-22 .* (Tn .^ 3.15) .* exp.(-3603.0 ./ Tn)\")]\n",
      "Any[[:N2O, :NO], [:NO2, :N2], Symbol(\"8.74e-19 .* (Tn .^ 2.23) .* exp.(-23292.0 ./ Tn)\")]\n",
      "Any[[:N2O, :O], [:NO, :NO], Symbol(\"1.15e-10 .* exp.(-13400.0 ./ Tn)\")]\n",
      "Any[[:N2O, :O], [:O2, :N2], Symbol(\"1.66e-10 .* exp.(-14100.0 ./ Tn)\")]\n",
      "Any[[:N2O, :OH], [:HO2, :N2], Symbol(\"3.7e-13 .* exp.(-2740.0 ./ Tn)\")]\n",
      "Any[[:NH, :C], [:CH, :N], Symbol(\"9.99e-13 .* (Tn .^ 0.5) .* exp.(-4000.0 ./ Tn)\")]\n",
      "Any[[:NH, :C], [:CN, :H], Symbol(\"1.2e-10\")]\n",
      "Any[[:NH, :H], [:H2, :N], Symbol(\"9.99e-13 .* (Tn .^ 0.5) .* exp.(-2400.0 ./ Tn)\")]\n",
      "Any[[:NH, :N], [:N2, :H], Symbol(\"4.98e-11\")]\n",
      "Any[[:NH, :NH], [:N2, :H, :H], Symbol(\"1.16e-9\")]\n",
      "Any[[:NH, :NH], [:N2, :H2], Symbol(\"1.7e-11\")]\n",
      "Any[[:NH, :NH], [:NH2, :N], Symbol(\"6.29e-18 .* (Tn .^ 1.8) .* exp.(70.0 ./ Tn)\")]\n",
      "Any[[:NH, :O], [:NO, :H], Symbol(\"1.8e-10 .* exp.(-300.0 ./ Tn)\")]\n",
      "Any[[:NH, :O], [:OH, :N], Symbol(\"1.16e-11\")]\n",
      "Any[[:NH2, :C], [:HCN, :H], Symbol(\"5.77e-11 .* (Tn .^ -0.1) .* exp.(9.0 ./ Tn)\")]\n",
      "Any[[:NH2, :C], [:HNC, :H], Symbol(\"5.77e-11 .* (Tn .^ -0.1) .* exp.(9.0 ./ Tn)\")]\n",
      "Any[[:NH2, :H], [:NH, :H2], Symbol(\"1.36e-14 .* (Tn .^ 1.02) .* exp.(-2161.0 ./ Tn)\")]\n",
      "Any[[:NH2, :H2], [:NH3, :H], Symbol(\"4.74e-25 .* (Tn .^ 3.89) .* exp.(-1400.0 ./ Tn)\")]\n",
      "Any[[:NH2, :NO], [:H2O, :N2], Symbol(\"3.6e-12 .* exp.(450.0 ./ Tn)\")]\n",
      "Any[[:NH2, :O], [:HNO, :H], Symbol(\"1.11e-10 .* (Tn .^ -0.1)\")]\n",
      "Any[[:NH2, :O], [:OH, :NH], Symbol(\"1.24e-11 .* (Tn .^ -0.1)\")]\n",
      "Any[[:NH2, :OH], [:H2O, :NH], Symbol(\"1.08e-15 .* (Tn .^ 1.25) .* exp.(43.5 ./ Tn)\")]\n",
      "Any[[:NH2, :OH], [:NH3, :O], Symbol(\"2.73e-15 .* (Tn .^ 0.76) .* exp.(-262.0 ./ Tn)\")]\n",
      "Any[[:NO, :C], [:CN, :O], Symbol(\"1.49e-10 .* (Tn .^ -0.16)\")]\n",
      "Any[[:NO, :C], [:CO, :N], Symbol(\"2.24e-10 .* (Tn .^ -0.16)\")]\n",
      "Any[[:NO, :CH], [:CO, :NH], Symbol(\"1.52e-11\")]\n",
      "Any[[:NO, :CH], [:HCN, :O], Symbol(\"1.31e-10\")]\n",
      "Any[[:NO, :CH], [:HCO, :N], Symbol(\"1.14e-11\")]\n",
      "Any[[:NO, :CH], [:NCO, :H], Symbol(\"2.47e-11\")]\n",
      "Any[[:NO, :CH], [:OH, :CN], Symbol(\"1.9e-12\")]\n",
      "Any[[:NO, :CN], [:CO, :N2], Symbol(\"1.6e-13\")]\n",
      "Any[[:NO, :H], [:NH, :O], Symbol(\"1.64e-9 .* (Tn .^ -0.1) .* exp.(-35220.0 ./ Tn)\")]\n",
      "Any[[:NO, :N], [:N2, :O], Symbol(\"2.1e-11 .* exp.(100.0 ./ Tn)\")]\n",
      "Any[[:NO, :NH], [:N2, :O, :H], Symbol(\"7.4e-10 .* exp.(-10540.0 ./ Tn)\")]\n",
      "Any[[:NO, :NH], [:N2O, :H], Symbol(\"4.56e-9 .* (Tn .^ -0.78) .* exp.(-40.0 ./ Tn)\")]\n",
      "Any[[:NO, :NH], [:OH, :N2], Symbol(\"1.14e-9 .* (Tn .^ -0.78) .* exp.(-40.0 ./ Tn)\")]\n",
      "Any[[:NO, :O], [:O2, :N], Symbol(\"1.18e-11 .* exp.(-20413.0 ./ Tn)\")]\n",
      "Any[[:NO2, :CN], [:CO2, :N2], Symbol(\"6.12e-11 .* (Tn .^ -0.752) .* exp.(-173.0 ./ Tn)\")]\n",
      "Any[[:NO2, :CN], [:N2O, :CO], Symbol(\"8.16e-11 .* (Tn .^ -0.752) .* exp.(-173.0 ./ Tn)\")]\n",
      "Any[[:NO2, :CN], [:NCO, :NO], Symbol(\"8.77e-10 .* (Tn .^ -0.752) .* exp.(-173.0 ./ Tn)\")]\n",
      "Any[[:NO2, :CO], [:CO2, :NO], Symbol(\"1.48e-10 .* exp.(-17000.0 ./ Tn)\")]\n",
      "Any[[:NO2, :H], [:NO, :OH], Symbol(\"4.0e-10 .* exp.(-340.0 ./ Tn)\")]\n",
      "Any[[:NO2, :N], [:N2, :O, :O], Symbol(\"2.41e-12\")]\n",
      "Any[[:NO2, :N], [:N2O, :O], Symbol(\"5.8e-12 .* exp.(220.0 ./ Tn)\")]\n",
      "Any[[:NO2, :N], [:NO, :NO], Symbol(\"1.0e-12\")]\n",
      "Any[[:NO2, :N], [:O2, :N2], Symbol(\"1.0e-12\")]\n",
      "Any[[:NO2, :NH], [:HNO, :NO], Symbol(\"1.56e-6 .* (Tn .^ -1.94) .* exp.(-56.9 ./ Tn)\")]\n",
      "Any[[:NO2, :NH], [:N2O, :OH], Symbol(\"1.09e-6 .* (Tn .^ -1.94) .* exp.(-56.9 ./ Tn)\")]\n",
      "Any[[:NO2, :NH2], [:N2O, :H2O], Symbol(\"2.1e-12 .* exp.(650.0 ./ Tn)\")]\n",
      "Any[[:NO2, :O], [:O2, :NO], Symbol(\"5.1e-12 .* exp.(210.0 ./ Tn)\")]\n",
      "Any[[:O, :C], [:CO], Symbol(\"1.75e-19 .* (Tn .^ 0.705) .* exp.(-136.0 ./ Tn)\")]\n",
      "Any[[:O, :H], [:OH], Symbol(\"8.65e-18 .* (Tn .^ -0.38)\")]\n",
      "Any[[:O1D, :CO], [:CO, :O], Symbol(\"4.7e-11 .* exp.(63.0 ./ Tn)\")]\n",
      "Any[[:O1D, :CO], [:CO2], Symbol(\"8.0e-11\")]\n",
      "Any[[:O1D, :CO2], [:CO2, :O], Symbol(\"7.5e-11 .* exp.(115.0 ./ Tn)\")]\n",
      "Any[[:O1D, :H2], [:OH, :H], Symbol(\"1.2e-10\")]\n",
      "Any[[:O1D, :H2O], [:OH, :OH], Symbol(\"1.63e-10 .* exp.(60.0 ./ Tn)\")]\n",
      "Any[[:O1D, :H2O2], [:H2O2, :O], Symbol(\"5.2e-10\")]\n",
      "Any[[:O1D, :N2], [:N2, :O], Symbol(\"2.15e-11 .* exp.(110.0 ./ Tn)\")]\n",
      "Any[[:O1D, :N2O], [:NO, :NO], Symbol(\"7.26e-11 .* exp.(20.0 ./ Tn)\")]\n",
      "Any[[:O1D, :N2O], [:O2, :N2], Symbol(\"4.64e-11 .* exp.(20.0 ./ Tn)\")]\n",
      "Any[[:O1D, :NO], [:NO, :O], Symbol(\"4.0e-11\")]\n",
      "Any[[:O1D, :NO2], [:NO2, :O], Symbol(\"1.13e-10 .* exp.(115.0 ./ Tn)\")]\n",
      "Any[[:O1D, :NO2], [:O2, :NO], Symbol(\"2.31e-10\")]\n",
      "Any[[:O1D, :O2], [:O2, :O], Symbol(\"3.3e-11 .* exp.(55.0 ./ Tn)\")]\n",
      "Any[[:O1D, :O3], [:O2, :O, :O], Symbol(\"1.2e-10\")]\n",
      "Any[[:O1D, :O3], [:O2, :O2], Symbol(\"1.2e-10\")]\n",
      "Any[[:O2, :C], [:CO, :O], Symbol(\"3.03e-10 .* (Tn .^ -0.32)\")]\n",
      "Any[[:O2, :CH], [:CO, :O, :H], Symbol(\"1.2e-11\")]\n",
      "Any[[:O2, :CH], [:CO, :OH], Symbol(\"8.0e-12\")]\n",
      "Any[[:O2, :CH], [:CO2, :H], Symbol(\"1.2e-11\")]\n",
      "Any[[:O2, :CH], [:HCO, :O], Symbol(\"8.0e-12\")]\n",
      "Any[[:O2, :CN], [:CO, :NO], Symbol(\"3.0e-12 .* exp.(210.0 ./ Tn)\")]\n",
      "Any[[:O2, :CN], [:NCO, :O], Symbol(\"5.97e-11 .* (Tn .^ -0.19) .* exp.(31.9 ./ Tn)\")]\n",
      "Any[[:O2, :CO], [:CO2, :O], Symbol(\"5.99e-12 .* exp.(-24075.0 ./ Tn)\")]\n",
      "Any[[:O2, :H], [:OH, :O], Symbol(\"2.61e-10 .* exp.(-8156.0 ./ Tn)\")]\n",
      "Any[[:O2, :H2], [:HO2, :H], Symbol(\"2.4e-10 .* exp.(-28500.0 ./ Tn)\")]\n",
      "Any[[:O2, :H2], [:OH, :OH], Symbol(\"3.16e-10 .* exp.(-21890.0 ./ Tn)\")]\n",
      "Any[[:O2, :N], [:NO, :O], Symbol(\"1.5e-11 .* exp.(-3600.0 ./ Tn)\")]\n",
      "Any[[:O2, :NH], [:HNO, :O], Symbol(\"4.0e-11 .* exp.(-6970.0 ./ Tn)\")]\n",
      "Any[[:O2, :NH], [:NO, :OH], Symbol(\"1.5e-13 .* exp.(-770.0 ./ Tn)\")]\n",
      "Any[[:O3, :H], [:O2, :OH], Symbol(\"1.4e-10 .* exp.(-470.0 ./ Tn)\")]\n",
      "Any[[:O3, :HO2], [:O2, :O2, :OH], Symbol(\"1.0e-14 .* exp.(-490.0 ./ Tn)\")]\n",
      "Any[[:O3, :N], [:O2, :NO], Symbol(\"1.0e-16\")]\n",
      "Any[[:O3, :NO], [:NO2, :O2], Symbol(\"3.0e-12 .* exp.(-1500.0 ./ Tn)\")]\n",
      "Any[[:O3, :NO2], [:NO3, :O2], Symbol(\"1.2e-13 .* exp.(-2450.0 ./ Tn)\")]\n",
      "Any[[:O3, :O], [:O2, :O2], Symbol(\"8.0e-12 .* exp.(-2060.0 ./ Tn)\")]\n",
      "Any[[:O3, :OH], [:HO2, :O2], Symbol(\"1.7e-12 .* exp.(-940.0 ./ Tn)\")]\n",
      "Any[[:OH, :C], [:CO, :H], Symbol(\"7.98e-10 .* (Tn .^ -0.34) .* exp.(-0.108 ./ Tn)\")]\n",
      "Any[[:OH, :CH], [:HCO, :H], Symbol(\"8.31e-13 .* (Tn .^ 0.5) .* exp.(-5000.0 ./ Tn)\")]\n",
      "Any[[:OH, :H], [:H2, :O], Symbol(\"8.1e-21 .* (Tn .^ 2.8) .* exp.(-1950.0 ./ Tn)\")]\n",
      "Any[[:OH, :H2], [:H2O, :H], Symbol(\"2.8e-12 .* exp.(-1800.0 ./ Tn)\")]\n",
      "Any[[:OH, :N], [:NH, :O], Symbol(\"1.06e-11 .* (Tn .^ 0.1) .* exp.(-10700.0 ./ Tn)\")]\n",
      "Any[[:OH, :N], [:NO, :H], Symbol(\"1.8e-10 .* (Tn .^ -0.2)\")]\n",
      "Any[[:OH, :NH], [:H2O, :N], Symbol(\"3.3e-15 .* (Tn .^ 1.2)\")]\n",
      "Any[[:OH, :NH], [:HNO, :H], Symbol(\"3.3e-11\")]\n",
      "Any[[:OH, :NH], [:NH2, :O], Symbol(\"1.66e-12 .* (Tn .^ 0.1) .* exp.(-5800.0 ./ Tn)\")]\n",
      "Any[[:OH, :NH], [:NO, :H2], Symbol(\"4.16e-11\")]\n",
      "Any[[:OH, :O], [:O2, :H], Symbol(\"1.8e-11 .* exp.(180.0 ./ Tn)\")]\n",
      "Any[[:OH, :OH], [:H2O, :O], Symbol(\"1.8e-12\")]\n",
      "\n",
      "Type 3:\n",
      "Any[[:HO2, :HO2], [:H2O2, :O2], Symbol(\"(2.1e-33 .* exp.(920.0 ./ Tn) .* 1.0 .* exp.(920.0 ./ Tn) .* M) ./ (2.1e-33 .* exp.(920.0 ./ Tn) .* M .+ 1.0 .* exp.(920.0 ./ Tn))\")]\n",
      "\n",
      "Type 4:\n",
      "Any[[:CH, :H2], [:CH2, :H], (Symbol(\"8.5e-11 .* (Tn .^ 0.15)\"), Symbol(\"0.0 .+ (10 .^ ((log10.(0.6)) ./ (1 .+ ((log10.((4.7e-26 .* (Tn .^ -1.6) .* M) ./ (8.5e-11 .* (Tn .^ 0.15))) .- 0.4 .- 0.67 .* log10.(0.6)) ./ (0.75 .- 1.27 .* log10.(0.6) .- 0.14 .* (log10.((4.7e-26 .* (Tn .^ -1.6) .* M) ./ (8.5e-11 .* (Tn .^ 0.15))) .- 0.4 .- 0.67 .* log10.(0.6)))) .^ 2)) .* 4.7e-26 .* (Tn .^ -1.6) .* 8.5e-11 .* (Tn .^ 0.15) .* M) ./ (4.7e-26 .* (Tn .^ -1.6) .* M .+ 8.5e-11 .* (Tn .^ 0.15))\"))]\n",
      "\n",
      "Any[[:CO, :H], [:HCO], Symbol(\"0.0 .+ (2.0e-35 .* (Tn .^ 0.2) .* 1.0 .* (Tn .^ 0.2) .* M) ./ (2.0e-35 .* (Tn .^ 0.2) .* M .+ 1.0 .* (Tn .^ 0.2))\")]\n",
      "\n",
      "Any[[:CO, :O], [:CO2], (Symbol(\"1.0 .* exp.(-1509.0 ./ Tn)\"), Symbol(\"0.0 .+ (10 .^ ((log10.(0.4)) ./ (1 .+ ((log10.((1.7e-33 .* exp.(-1509.0 ./ Tn) .* M) ./ (1.0 .* exp.(-1509.0 ./ Tn))) .- 0.4 .- 0.67 .* log10.(0.4)) ./ (0.75 .- 1.27 .* log10.(0.4) .- 0.14 .* (log10.((1.7e-33 .* exp.(-1509.0 ./ Tn) .* M) ./ (1.0 .* exp.(-1509.0 ./ Tn))) .- 0.4 .- 0.67 .* log10.(0.4)))) .^ 2)) .* 1.7e-33 .* exp.(-1509.0 ./ Tn) .* 1.0 .* exp.(-1509.0 ./ Tn) .* M) ./ (1.7e-33 .* exp.(-1509.0 ./ Tn) .* M .+ 1.0 .* exp.(-1509.0 ./ Tn))\"))]\n",
      "\n",
      "Any[[:H, :H], [:H2], (Symbol(\"1.0 .* (Tn .^ -1.0)\"), Symbol(\"0.0 .+ (10 .^ ((log10.(0.4)) ./ (1 .+ ((log10.((1.8e-30 .* (Tn .^ -1.0) .* M) ./ (1.0 .* (Tn .^ -1.0))) .- 0.4 .- 0.67 .* log10.(0.4)) ./ (0.75 .- 1.27 .* log10.(0.4) .- 0.14 .* (log10.((1.8e-30 .* (Tn .^ -1.0) .* M) ./ (1.0 .* (Tn .^ -1.0))) .- 0.4 .- 0.67 .* log10.(0.4)))) .^ 2)) .* 1.8e-30 .* (Tn .^ -1.0) .* 1.0 .* (Tn .^ -1.0) .* M) ./ (1.8e-30 .* (Tn .^ -1.0) .* M .+ 1.0 .* (Tn .^ -1.0))\"))]\n",
      "\n",
      "Any[[:N, :H], [:NH], Symbol(\"0.0 .+ (5.0e-32 .* 1.0 .* M) ./ (5.0e-32 .* M .+ 1.0)\")]\n",
      "\n",
      "Any[[:NO, :H], [:HNO], (Symbol(\"2.53e-9 .* (Tn .^ -0.41)\"), Symbol(\"0.0 .+ (10 .^ ((log10.(0.82)) ./ (1 .+ ((log10.((9.56e-29 .* (Tn .^ -1.17) .* exp.(-212.0 ./ Tn) .* M) ./ (2.53e-9 .* (Tn .^ -0.41))) .- 0.4 .- 0.67 .* log10.(0.82)) ./ (0.75 .- 1.27 .* log10.(0.82) .- 0.14 .* (log10.((9.56e-29 .* (Tn .^ -1.17) .* exp.(-212.0 ./ Tn) .* M) ./ (2.53e-9 .* (Tn .^ -0.41))) .- 0.4 .- 0.67 .* log10.(0.82)))) .^ 2)) .* 9.56e-29 .* (Tn .^ -1.17) .* exp.(-212.0 ./ Tn) .* 2.53e-9 .* (Tn .^ -0.41) .* M) ./ (9.56e-29 .* (Tn .^ -1.17) .* exp.(-212.0 ./ Tn) .* M .+ 2.53e-9 .* (Tn .^ -0.41))\"))]\n",
      "\n",
      "Any[[:NO, :O], [:NO2], (Symbol(\"4.9e-10 .* (Tn .^ -0.4)\"), Symbol(\"0.0 .+ (10 .^ ((log10.(0.8)) ./ (1 .+ ((log10.((9.2e-28 .* (Tn .^ -1.6) .* M) ./ (4.9e-10 .* (Tn .^ -0.4))) .- 0.4 .- 0.67 .* log10.(0.8)) ./ (0.75 .- 1.27 .* log10.(0.8) .- 0.14 .* (log10.((9.2e-28 .* (Tn .^ -1.6) .* M) ./ (4.9e-10 .* (Tn .^ -0.4))) .- 0.4 .- 0.67 .* log10.(0.8)))) .^ 2)) .* 9.2e-28 .* (Tn .^ -1.6) .* 4.9e-10 .* (Tn .^ -0.4) .* M) ./ (9.2e-28 .* (Tn .^ -1.6) .* M .+ 4.9e-10 .* (Tn .^ -0.4))\"))]\n",
      "\n",
      "Any[[:O, :N], [:NO], (Symbol(\"1.0\"), Symbol(\"0.0 .+ (10 .^ ((log10.(0.4)) ./ (1 .+ ((log10.((5.46e-33 .* exp.(155.0 ./ Tn) .* M) ./ (1.0)) .- 0.4 .- 0.67 .* log10.(0.4)) ./ (0.75 .- 1.27 .* log10.(0.4) .- 0.14 .* (log10.((5.46e-33 .* exp.(155.0 ./ Tn) .* M) ./ (1.0)) .- 0.4 .- 0.67 .* log10.(0.4)))) .^ 2)) .* 5.46e-33 .* exp.(155.0 ./ Tn) .* 1.0 .* M) ./ (5.46e-33 .* exp.(155.0 ./ Tn) .* M .+ 1.0)\"))]\n",
      "\n",
      "Any[[:O, :O], [:O2], Symbol(\"0.0 .+ (5.21e-35 .* exp.(900.0 ./ Tn) .* 1.0 .* exp.(900.0 ./ Tn) .* M) ./ (5.21e-35 .* exp.(900.0 ./ Tn) .* M .+ 1.0 .* exp.(900.0 ./ Tn))\")]\n",
      "\n",
      "Any[[:O1D, :N2], [:N2O], Symbol(\"0.0 .+ (4.75e-34 .* (Tn .^ -0.9) .* 1.0 .* (Tn .^ -0.9) .* M) ./ (4.75e-34 .* (Tn .^ -0.9) .* M .+ 1.0 .* (Tn .^ -0.9))\")]\n",
      "\n",
      "Any[[:O2, :O], [:O3], (Symbol(\"2.8e-12\"), Symbol(\"0.0 .+ (10 .^ ((log10.(0.65)) ./ (1 .+ ((log10.((5.29e-28 .* (Tn .^ -2.4) .* M) ./ (2.8e-12)) .- 0.4 .- 0.67 .* log10.(0.65)) ./ (0.75 .- 1.27 .* log10.(0.65) .- 0.14 .* (log10.((5.29e-28 .* (Tn .^ -2.4) .* M) ./ (2.8e-12)) .- 0.4 .- 0.67 .* log10.(0.65)))) .^ 2)) .* 5.29e-28 .* (Tn .^ -2.4) .* 2.8e-12 .* M) ./ (5.29e-28 .* (Tn .^ -2.4) .* M .+ 2.8e-12)\"))]\n",
      "\n",
      "Any[[:OH, :H], [:H2O], (Symbol(\"1.0 .* (Tn .^ -2.0)\"), Symbol(\"6.0e-16 .+ (10 .^ ((log10.(0.4)) ./ (1 .+ ((log10.((6.1e-26 .* (Tn .^ -2.0) .* M) ./ (1.0 .* (Tn .^ -2.0))) .- 0.4 .- 0.67 .* log10.(0.4)) ./ (0.75 .- 1.27 .* log10.(0.4) .- 0.14 .* (log10.((6.1e-26 .* (Tn .^ -2.0) .* M) ./ (1.0 .* (Tn .^ -2.0))) .- 0.4 .- 0.67 .* log10.(0.4)))) .^ 2)) .* 6.1e-26 .* (Tn .^ -2.0) .* 1.0 .* (Tn .^ -2.0) .* M) ./ (6.1e-26 .* (Tn .^ -2.0) .* M .+ 1.0 .* (Tn .^ -2.0))\"))]\n",
      "\n",
      "Any[[:OH, :OH], [:H2O2], (Symbol(\"2.6e-11\"), Symbol(\"0.0 .+ (10 .^ ((log10.(0.5)) ./ (1 .+ ((log10.((6.6e-29 .* (Tn .^ -0.8) .* M) ./ (2.6e-11)) .- 0.4 .- 0.67 .* log10.(0.5)) ./ (0.75 .- 1.27 .* log10.(0.5) .- 0.14 .* (log10.((6.6e-29 .* (Tn .^ -0.8) .* M) ./ (2.6e-11)) .- 0.4 .- 0.67 .* log10.(0.5)))) .^ 2)) .* 6.6e-29 .* (Tn .^ -0.8) .* 2.6e-11 .* M) ./ (6.6e-29 .* (Tn .^ -0.8) .* M .+ 2.6e-11)\"))]\n",
      "\n",
      "Type 5:\n",
      "Any[[:CO, :OH], [:HOCO], Symbol(\"1.77e-30 .* (Tn .^ -1.0)\"), Symbol(\"6.62e-16 .* (Tn .^ 1.3)\")]\n",
      "Any[[:NO, :OH], [:HONO], Symbol(\"1.93e-24 .* (Tn .^ -2.6)\"), Symbol(\"6.37e-11 .* (Tn .^ -0.1)\")]\n",
      "Any[[:NO2, :HO2], [:HO2NO2], Symbol(\"5.02e-23 .* (Tn .^ -3.4)\"), Symbol(\"2.21e-11 .* (Tn .^ -0.3)\")]\n",
      "Any[[:NO2, :O], [:NO3], Symbol(\"7.19e-27 .* (Tn .^ -1.8)\"), Symbol(\"1.19e-9 .* (Tn .^ -0.7)\")]\n",
      "Any[[:NO2, :OH], [:HONO2], Symbol(\"4.86e-23 .* (Tn .^ -3.0)\"), Symbol(\"2.8e-11\")]\n",
      "Any[[:NO2, :OH], [:HOONO], Symbol(\"4.17e-22 .* (Tn .^ -3.9)\"), Symbol(\"7.27e12 .* (Tn .^ -0.5)\")]\n",
      "Any[[:O2, :H], [:HO2], Symbol(\"7.31e-29 .* (Tn .^ -1.3)\"), Symbol(\"2.4e-11 .* (Tn .^ 0.2)\")]\n"
     ]
    }
   ],
   "source": [
    "for i in range(1, stop=numrows)\n",
    "    # set up the reaction\n",
    "    reactants = [neutral_table[i, \"R1\"], neutral_table[i, \"R2\"]]\n",
    "    reactants = filter!(j->j!=\"-0\", reactants)\n",
    "    reactants = [Symbol(j) for j in reactants]\n",
    "    products = [neutral_table[i, \"P1\"], neutral_table[i, \"P2\"], neutral_table[i, \"P3\"]]\n",
    "    products = filter!(j->j!=\"-0\", products)\n",
    "    products = [Symbol(j) for j in products]\n",
    "    \n",
    "    # Type 1: Pressure independent unimolecular rxns, high pressure limit\n",
    "    # use k (which is same as k inf); units s^-1\n",
    "    if neutral_table[i, \"type\"]==1\n",
    "        push!(type1, [reactants, products, Symbol(make_general_k(neutral_table[i, \"kA\"], neutral_table[i, \"kB\"], neutral_table[i, \"kC\"]))])\n",
    "        \n",
    "    # Type 2: P independent bimolecular; use k (same as *k inf), units cm^3 s^-1\n",
    "    elseif neutral_table[i, \"type\"]==2\n",
    "        push!(type2, [reactants, products, Symbol(make_general_k(neutral_table[i, \"kA\"], neutral_table[i, \"kB\"], neutral_table[i, \"kC\"]))])\n",
    "        \n",
    "    # Type 3: P dependent bimolecular.\n",
    "    elseif neutral_table[i, \"type\"]==3\n",
    "        push!(type3, [reactants, products, \n",
    "                      make_Troe([neutral_table[i, \"k0A\"], neutral_table[i, \"k0B\"], neutral_table[i, \"k0C\"]], \n",
    "                               [neutral_table[i, \"kA\"], neutral_table[i, \"kB\"], neutral_table[i, \"kC\"]],\n",
    "                                neutral_table[i, \"F\"])\n",
    "                      ])\n",
    "        \n",
    "    # Type 4: P dependent association rxns\n",
    "    elseif neutral_table[i, \"type\"]==4\n",
    "        push!(type4, [reactants, products, \n",
    "                      make_modified_Troe([neutral_table[i, \"k0A\"], neutral_table[i, \"k0B\"], neutral_table[i, \"k0C\"]], \n",
    "                                         [neutral_table[i, \"kA\"], neutral_table[i, \"kB\"], neutral_table[i, \"kC\"]],\n",
    "                                         [neutral_table[i, \"kradA\"], neutral_table[i, \"kradB\"], neutral_table[i, \"kradC\"]],\n",
    "                                         neutral_table[i, \"F\"])\n",
    "                \n",
    "                     ])\n",
    "        \n",
    "    # Type 5: special forms for OH+CO -> H + CO2, OH+CO -> HOCO\n",
    "    elseif neutral_table[i, \"type\"]==5\n",
    "        push!(type5, [reactants, products, Symbol(make_general_k(neutral_table[i, \"k0A\"], neutral_table[i, \"k0B\"], neutral_table[i, \"k0C\"])), \n",
    "                                           Symbol(make_general_k(neutral_table[i, \"kA\"], neutral_table[i, \"kB\"], neutral_table[i, \"kC\"]))])\n",
    "\n",
    "    else\n",
    "        println(\"Got an unexpected type! $(neutral_table[i, \"type\"])\")\n",
    "    end\n",
    "end\n",
    "\n",
    "\n",
    "    \n",
    "println(\"Type 1:\")\n",
    "for entry in type1\n",
    "    println(entry)\n",
    "end\n",
    "println()\n",
    "println(\"Type 2:\")\n",
    "for entry in type2\n",
    "    println(entry)\n",
    "end\n",
    "println()\n",
    "println(\"Type 3:\")\n",
    "for entry in type3\n",
    "    println(entry)\n",
    "end\n",
    "println()\n",
    "println(\"Type 4:\")\n",
    "for entry in type4\n",
    "    println(entry)\n",
    "    println()\n",
    "end\n",
    "println(\"Type 5:\")\n",
    "for entry in type5\n",
    "    println(entry)\n",
    "end\n",
    "# println(neutral_network)\n"
   ]
  },
  {
   "cell_type": "markdown",
   "metadata": {},
   "source": [
    "## getting minimum() to evaluate within symbolic expressions"
   ]
  },
  {
   "cell_type": "code",
   "execution_count": 61,
   "metadata": {},
   "outputs": [
    {
     "name": "stdout",
     "output_type": "stream",
     "text": [
      "[1.0, 1.0, 1.0]\n",
      "1.0\n"
     ]
    }
   ],
   "source": [
    "T = [100, 200, 300]\n",
    "println(1.0 .* T .^ 0)\n",
    "\n",
    "T = 100\n",
    "println(1.0 .* T .^ 0)"
   ]
  },
  {
   "cell_type": "code",
   "execution_count": 62,
   "metadata": {},
   "outputs": [
    {
     "ename": "LoadError",
     "evalue": "MethodError: no method matching isless(::Array{Float64,1}, ::Float64)\nClosest candidates are:\n  isless(!Matched::Float64, ::Float64) at float.jl:465\n  isless(!Matched::Missing, ::Any) at missing.jl:87\n  isless(!Matched::AbstractFloat, ::AbstractFloat) at operators.jl:165\n  ...",
     "output_type": "error",
     "traceback": [
      "MethodError: no method matching isless(::Array{Float64,1}, ::Float64)\nClosest candidates are:\n  isless(!Matched::Float64, ::Float64) at float.jl:465\n  isless(!Matched::Missing, ::Any) at missing.jl:87\n  isless(!Matched::AbstractFloat, ::AbstractFloat) at operators.jl:165\n  ...",
      "",
      "Stacktrace:",
      " [1] min(::Float64, ::Array{Float64,1}) at ./operators.jl:431",
      " [2] _mapreduce(::typeof(identity), ::typeof(min), ::IndexLinear, ::Array{Any,1}) at ./reduce.jl:408",
      " [3] _mapreduce_dim at ./reducedim.jl:318 [inlined]",
      " [4] #mapreduce#620 at ./reducedim.jl:310 [inlined]",
      " [5] mapreduce at ./reducedim.jl:310 [inlined]",
      " [6] _minimum at ./reducedim.jl:727 [inlined]",
      " [7] _minimum at ./reducedim.jl:726 [inlined]",
      " [8] #minimum#633 at ./reducedim.jl:722 [inlined]",
      " [9] minimum(::Array{Any,1}) at ./reducedim.jl:722",
      " [10] top-level scope at none:1",
      " [11] eval at ./boot.jl:331 [inlined]",
      " [12] eval(::Expr) at ./client.jl:467",
      " [13] top-level scope at In[62]:3",
      " [14] include_string(::Function, ::Module, ::String, ::String) at ./loading.jl:1091"
     ]
    }
   ],
   "source": [
    "T = [100, 200, 300]\n",
    "test = :(minimum([$:(1.0), $:(1.4e-10 .* (T .^ 0.4) .* exp.(-160 ./ T))]))\n",
    "eval(test)"
   ]
  },
  {
   "cell_type": "code",
   "execution_count": 71,
   "metadata": {},
   "outputs": [
    {
     "data": {
      "text/plain": [
       "3-element Array{Float64,1}:\n",
       " 1.7834332719518747e-10\n",
       " 5.237263783560956e-10\n",
       " 8.041791591659083e-10"
      ]
     },
     "execution_count": 71,
     "metadata": {},
     "output_type": "execute_result"
    }
   ],
   "source": [
    "T = [100, 200, 300]\n",
    "test = :(minimum([$:(1.0 .* T .^ 0), $:(1.4e-10 .* (T .^ 0.4) .* exp.(-160 ./ T))]))\n",
    "eval(test)"
   ]
  },
  {
   "cell_type": "markdown",
   "metadata": {},
   "source": [
    "But what if the values which are lowest change per element? Here is a very simple example:"
   ]
  },
  {
   "cell_type": "code",
   "execution_count": 80,
   "metadata": {},
   "outputs": [
    {
     "data": {
      "text/plain": [
       "5-element Array{Int64,1}:\n",
       " 1\n",
       " 2\n",
       " 3\n",
       " 3\n",
       " 3"
      ]
     },
     "execution_count": 80,
     "metadata": {},
     "output_type": "execute_result"
    }
   ],
   "source": [
    "# The return should be a 5 element array with values 1, 2, 3, 3, 3.\n",
    "quoted = quote\n",
    "    min.([1, 2, 3, 4, 5], [3, 3, 3, 3, 3])\n",
    "end\n",
    "\n",
    "eval(quoted)"
   ]
  },
  {
   "cell_type": "markdown",
   "metadata": {},
   "source": [
    "Now to get it to work with a more complicated expression that generates an array."
   ]
  },
  {
   "cell_type": "code",
   "execution_count": 81,
   "metadata": {},
   "outputs": [
    {
     "data": {
      "text/plain": [
       "6-element Array{Float64,1}:\n",
       " 10.0\n",
       " 11.0\n",
       " 12.0\n",
       " 12.0\n",
       " 12.0\n",
       " 12.0"
      ]
     },
     "execution_count": 81,
     "metadata": {},
     "output_type": "execute_result"
    }
   ],
   "source": [
    "T = [100, 121, 144, 169, 196, 225]\n",
    "# sqrts: [10, 11, 12, 13, 14, 15]\n",
    "# Comparing with an array of 12s, the result should be: [10, 11, 12, 12, 12, 12]\n",
    "\n",
    "uglyexpr = quote\n",
    "   min.(12. .* T .^ 0, T .^ 0.5)  \n",
    "end\n",
    "\n",
    "eval(uglyexpr)"
   ]
  },
  {
   "cell_type": "markdown",
   "metadata": {},
   "source": [
    "Simplify the syntax:"
   ]
  },
  {
   "cell_type": "code",
   "execution_count": 85,
   "metadata": {},
   "outputs": [
    {
     "data": {
      "text/plain": [
       "6-element Array{Float64,1}:\n",
       " 10.0\n",
       " 11.0\n",
       " 12.0\n",
       " 12.0\n",
       " 12.0\n",
       " 12.0"
      ]
     },
     "execution_count": 85,
     "metadata": {},
     "output_type": "execute_result"
    }
   ],
   "source": [
    "T = [100, 121, 144, 169, 196, 225]\n",
    "test = :( min.( $:(12. .* T .^ 0), $:(T .^ 0.5) ) )\n",
    "eval(test)"
   ]
  },
  {
   "cell_type": "markdown",
   "metadata": {},
   "source": [
    "Make sure it works when what's passed in is NOT an array:"
   ]
  },
  {
   "cell_type": "code",
   "execution_count": 86,
   "metadata": {},
   "outputs": [
    {
     "data": {
      "text/plain": [
       "12.0"
      ]
     },
     "execution_count": 86,
     "metadata": {},
     "output_type": "execute_result"
    }
   ],
   "source": [
    "T = 169\n",
    "test = :( min.( $:(12. .* T .^ 0), $:(T .^ 0.5) ) )\n",
    "eval(test)"
   ]
  },
  {
   "cell_type": "code",
   "execution_count": 87,
   "metadata": {},
   "outputs": [
    {
     "data": {
      "text/plain": [
       "10.0"
      ]
     },
     "execution_count": 87,
     "metadata": {},
     "output_type": "execute_result"
    }
   ],
   "source": [
    "T = 100\n",
    "test = :( min.( $:(12. .* T .^ 0), $:(T .^ 0.5) ) )\n",
    "eval(test)"
   ]
  },
  {
   "cell_type": "markdown",
   "metadata": {},
   "source": [
    "Cool. This is what we will use, which means I need to fix the syntax I already introduced. This just requires me to replace `minimum` with `min.` and remove the square brackets in the PARAMETERS.jl file. But, it also means I need to reconverge the C, CH, HCO neutrals because they were done with an incorrect expresison."
   ]
  },
  {
   "cell_type": "markdown",
   "metadata": {},
   "source": [
    "## neutral rate coeff functions old versions\n",
    "\n"
   ]
  },
  {
   "cell_type": "code",
   "execution_count": 37,
   "metadata": {},
   "outputs": [
    {
     "data": {
      "text/plain": [
       "make_modified_Troe_old (generic function with 1 method)"
      ]
     },
     "execution_count": 37,
     "metadata": {},
     "output_type": "execute_result"
    }
   ],
   "source": [
    "function make_general_k_old(A, B, C)\n",
    "    #=\n",
    "    returns a string for the general rate coefficient form \n",
    "    k = A * (T^B) * exp(C/T)\n",
    "    checked: 4 Feb 2021\n",
    "    =#\n",
    "    \n",
    "    k_A = string(A)\n",
    "    if B != 0\n",
    "        k_B = \" .* (Tn .^ $(B))\"\n",
    "    else\n",
    "        k_B = \"\"\n",
    "    end\n",
    "    if C != 0\n",
    "        k_C = \" .* exp.($(C) ./ Tn)\"\n",
    "    else\n",
    "        k_C = \"\"\n",
    "    end\n",
    "    \n",
    "    return k_A * k_B * k_C\n",
    "end\n",
    "\n",
    "function construct_FF_old(k0, kinf, F)\n",
    "    #=\n",
    "    Put together a really nasty expression\n",
    "    =#\n",
    "    outer_numer = \"log10.($(F))\"\n",
    "    inner_numer = \"log10.(($(k0) .* M) ./ ($(kinf))) .- 0.4 .- 0.67 .* log10.($(F))\"\n",
    "    inner_denom = \"0.75 .- 1.27 .* log10.($(F)) .- 0.14 .* (log10.(($(k0) .* M) ./ ($(kinf))) .- 0.4 .- 0.67 .* log10.($(F)))\"\n",
    "    outer_denom = \"1 .+ (($(inner_numer)) ./ ($(inner_denom))) .^ 2\"\n",
    "    FF = \"10 .^ (($(outer_numer)) ./ ($(outer_denom)))\"\n",
    "    return FF\n",
    "end\n",
    "\n",
    "\n",
    "function make_Troe_old(k0_ABC, kinf_ABC, F)\n",
    "    #=\n",
    "    k0_ABC and kinf_ABC are lists of A, B, and C for k0 and kinf.\n",
    "    =#\n",
    "    k0 = make_general_k(k0_ABC...)\n",
    "    kinf = make_general_k(kinf_ABC...)\n",
    "    \n",
    "    if F == 0\n",
    "        return Symbol(\"($(k0) .* $(kinf) .* M) ./ ($(k0) .* M .+ $(kinf))\")  # Updated to match Roger's code 4 Feb 2021\n",
    "        # old formula that was wrong: return Symbol(0)\n",
    "    else        \n",
    "        FF = construct_FF(k0, kinf, F)\n",
    "        return Symbol(\"$(FF) .* ($(k0) .* $(kinf)) ./ ($(k0) .* M .+ $(kinf))\")  # Updated to match Roger's code 5 Feb 2021\n",
    "        #old formula that was wrong: return Symbol(\"$(string(F)) * $(kinf) * $(k0) * M / ($(kinf) + $(k0) * M)\")\n",
    "    end\n",
    "end\n",
    "\n",
    "function make_modified_Troe_old(k0_ABC, kinf_ABC, kR_ABC, F)\n",
    "    #=\n",
    "    \"Type 4\" pressure dependent association reactions. \n",
    "    Roger has the result for F=0 in his code as k_tot = k2 + k0*kinf*M/(k0*M+kinf), with k2 (kR in the appendix from Vuitton)\n",
    "    being the general form and using the third set of A, B, C coefficients in his file. Those columns are 0 in the file he gave me, but\n",
    "    I have coded it like this though to make sure to keep the form in case I ever get one where it's not 0.\n",
    "    \n",
    "    k0_ABC and kinf_ABC are lists of A, B, and C for k0 and kinf.\n",
    "    =#\n",
    "    k0 = make_general_k(k0_ABC...)\n",
    "    kinf = make_general_k(kinf_ABC...)\n",
    "    kR = make_general_k(kR_ABC...)\n",
    "\n",
    "    # old formula that was wrong: return Symbol(\"$(kR) + $(F) * ($(kinf) - $(kR)) * $(k0) * M / ($(kinf) - $(kR) + $(k0) * M)\")\n",
    "    if F == 0\n",
    "        return Symbol(\"$(kR) .+ ($(k0) .* $(kinf) .* M) ./ ($(k0) .* M .+ $(kinf))\")\n",
    "    else\n",
    "        FF = construct_FF(k0, kinf, F)\n",
    "        \n",
    "        # for this one, we need the minimum of the following two expressions. Because of the weird way I have to do this, I will add\n",
    "        # :(minimum([$:(A), $:(B)])) around the two returned items A and B once it returns its stuff.\n",
    "        return Symbol(\"$(kinf)\"), Symbol(\"$(kR) .+ ($(FF) .* $(k0) .* $(kinf) .* M) ./ ($(k0) .* M .+ $(kinf))\")\n",
    "    end\n",
    "end\n"
   ]
  },
  {
   "cell_type": "code",
   "execution_count": null,
   "metadata": {},
   "outputs": [],
   "source": []
  }
 ],
 "metadata": {
  "kernelspec": {
   "display_name": "Julia 1.6.1",
   "language": "julia",
   "name": "julia-1.6"
  },
  "language_info": {
   "file_extension": ".jl",
   "mimetype": "application/julia",
   "name": "julia",
   "version": "1.6.1"
  }
 },
 "nbformat": 4,
 "nbformat_minor": 4
}
