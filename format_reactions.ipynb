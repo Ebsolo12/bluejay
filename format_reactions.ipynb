{
 "cells": [
  {
   "cell_type": "code",
   "execution_count": 1,
   "metadata": {},
   "outputs": [
    {
     "name": "stderr",
     "output_type": "stream",
     "text": [
      "┌ Info: Precompiling CSV [336ed68f-0bac-5ca0-87d4-7b16caf5d00b]\n",
      "└ @ Base loading.jl:1278\n"
     ]
    }
   ],
   "source": [
    "using CSV\n",
    "using DataFrames"
   ]
  },
  {
   "cell_type": "markdown",
   "metadata": {},
   "source": [
    "# Read and format the spreadsheet of ion reactions from Roger"
   ]
  },
  {
   "cell_type": "code",
   "execution_count": 2,
   "metadata": {},
   "outputs": [
    {
     "data": {
      "text/plain": [
       "\"/home/emc/GDrive-CU/Research-Modeling/UpperAtmoDH/Code\""
      ]
     },
     "execution_count": 2,
     "metadata": {},
     "output_type": "execute_result"
    }
   ],
   "source": [
    "pwd()"
   ]
  },
  {
   "cell_type": "code",
   "execution_count": 63,
   "metadata": {
    "scrolled": true
   },
   "outputs": [
    {
     "data": {
      "text/html": [
       "<table class=\"data-frame\"><thead><tr><th></th><th>0</th><th>R1</th><th>R2</th><th>P1</th><th>P2</th><th>P3</th><th>type</th><th>kA</th><th>kB</th><th>kC</th></tr><tr><th></th><th>Int64</th><th>String</th><th>String</th><th>String</th><th>String</th><th>String?</th><th>Int64</th><th>Float64</th><th>Float64</th><th>Float64</th></tr></thead><tbody><p>582 rows × 20 columns (omitted printing of 10 columns)</p><tr><th>1</th><td>1</td><td>ArHP</td><td>C</td><td>CHP</td><td>Ar</td><td><em>missing</em></td><td>-2</td><td>1.02e-9</td><td>0.0</td><td>0.0</td></tr><tr><th>2</th><td>2</td><td>ArHP</td><td>CO</td><td>HCOP</td><td>Ar</td><td><em>missing</em></td><td>-2</td><td>1.25e-9</td><td>0.0</td><td>0.0</td></tr><tr><th>3</th><td>3</td><td>ArHP</td><td>CO2</td><td>HCO2P</td><td>Ar</td><td><em>missing</em></td><td>-2</td><td>1.1e-9</td><td>0.0</td><td>0.0</td></tr><tr><th>4</th><td>4</td><td>ArHP</td><td>H2</td><td>H3P</td><td>Ar</td><td><em>missing</em></td><td>-2</td><td>6.3e-10</td><td>0.0</td><td>0.0</td></tr><tr><th>5</th><td>5</td><td>ArHP</td><td>N2</td><td>N2HP</td><td>Ar</td><td><em>missing</em></td><td>-2</td><td>8.0e-10</td><td>0.0</td><td>0.0</td></tr><tr><th>6</th><td>6</td><td>ArHP</td><td>O</td><td>OHP</td><td>Ar</td><td><em>missing</em></td><td>-2</td><td>5.9e-10</td><td>0.0</td><td>0.0</td></tr><tr><th>7</th><td>7</td><td>ArHP</td><td>O2</td><td>HO2P</td><td>Ar</td><td><em>missing</em></td><td>-2</td><td>5.05e-10</td><td>0.0</td><td>0.0</td></tr><tr><th>8</th><td>8</td><td>ArP</td><td>CO</td><td>COP</td><td>Ar</td><td><em>missing</em></td><td>-2</td><td>4.4e-11</td><td>0.0</td><td>0.0</td></tr><tr><th>9</th><td>9</td><td>ArP</td><td>CO2</td><td>CO2P</td><td>Ar</td><td><em>missing</em></td><td>-2</td><td>4.8e-10</td><td>0.0</td><td>0.0</td></tr><tr><th>10</th><td>10</td><td>ArP</td><td>H2</td><td>ArHP</td><td>H</td><td><em>missing</em></td><td>-2</td><td>8.72e-10</td><td>0.0</td><td>0.0</td></tr><tr><th>11</th><td>11</td><td>ArP</td><td>H2</td><td>H2P</td><td>Ar</td><td><em>missing</em></td><td>-2</td><td>1.78e-11</td><td>0.0</td><td>0.0</td></tr><tr><th>12</th><td>12</td><td>ArP</td><td>H2O</td><td>ArHP</td><td>OH</td><td><em>missing</em></td><td>-2</td><td>3.24e-10</td><td>0.0</td><td>0.0</td></tr><tr><th>13</th><td>13</td><td>ArP</td><td>H2O</td><td>H2OP</td><td>Ar</td><td><em>missing</em></td><td>-2</td><td>1.3e-9</td><td>0.0</td><td>0.0</td></tr><tr><th>14</th><td>14</td><td>ArP</td><td>N2</td><td>N2P</td><td>Ar</td><td><em>missing</em></td><td>-2</td><td>1.1e-11</td><td>0.0</td><td>0.0</td></tr><tr><th>15</th><td>15</td><td>ArP</td><td>N2O</td><td>N2OP</td><td>Ar</td><td><em>missing</em></td><td>-2</td><td>2.91e-10</td><td>0.0</td><td>0.0</td></tr><tr><th>16</th><td>16</td><td>ArP</td><td>N2O</td><td>N2P</td><td>Ar</td><td>O</td><td>-2</td><td>3.0e-12</td><td>0.0</td><td>0.0</td></tr><tr><th>17</th><td>17</td><td>ArP</td><td>N2O</td><td>NOP</td><td>Ar</td><td>N</td><td>-2</td><td>3.0e-12</td><td>0.0</td><td>0.0</td></tr><tr><th>18</th><td>18</td><td>ArP</td><td>N2O</td><td>OP</td><td>N2</td><td>Ar</td><td>-2</td><td>3.0e-12</td><td>0.0</td><td>0.0</td></tr><tr><th>19</th><td>19</td><td>ArP</td><td>NO</td><td>NOP</td><td>Ar</td><td><em>missing</em></td><td>-2</td><td>3.1e-10</td><td>0.0</td><td>0.0</td></tr><tr><th>20</th><td>20</td><td>ArP</td><td>NO2</td><td>NO2P</td><td>Ar</td><td><em>missing</em></td><td>-2</td><td>2.76e-11</td><td>0.0</td><td>0.0</td></tr><tr><th>21</th><td>21</td><td>ArP</td><td>NO2</td><td>NOP</td><td>Ar</td><td>O</td><td>-2</td><td>4.32e-10</td><td>0.0</td><td>0.0</td></tr><tr><th>22</th><td>22</td><td>ArP</td><td>O2</td><td>O2P</td><td>Ar</td><td><em>missing</em></td><td>-2</td><td>4.6e-11</td><td>0.0</td><td>0.0</td></tr><tr><th>23</th><td>23</td><td>CHP</td><td>C</td><td>C2P</td><td>H</td><td><em>missing</em></td><td>-2</td><td>1.2e-9</td><td>0.0</td><td>0.0</td></tr><tr><th>24</th><td>24</td><td>CHP</td><td>CN</td><td>C2NP</td><td>H</td><td><em>missing</em></td><td>-2</td><td>9.53e-9</td><td>-0.5</td><td>0.0</td></tr><tr><th>25</th><td>25</td><td>CHP</td><td>CO</td><td>HCOP</td><td>C</td><td><em>missing</em></td><td>-2</td><td>7.0e-12</td><td>-0.5</td><td>0.0</td></tr><tr><th>26</th><td>26</td><td>CHP</td><td>CO2</td><td>HCOP</td><td>CO</td><td><em>missing</em></td><td>-2</td><td>1.6e-9</td><td>0.0</td><td>0.0</td></tr><tr><th>27</th><td>27</td><td>CHP</td><td>H</td><td>CP</td><td>H2</td><td><em>missing</em></td><td>-2</td><td>7.5e-10</td><td>0.0</td><td>0.0</td></tr><tr><th>28</th><td>28</td><td>CHP</td><td>H2</td><td>CH2P</td><td>H</td><td><em>missing</em></td><td>-2</td><td>1.2e-9</td><td>0.0</td><td>0.0</td></tr><tr><th>29</th><td>29</td><td>CHP</td><td>H2O</td><td>H2COP</td><td>H</td><td><em>missing</em></td><td>-2</td><td>1.0e-8</td><td>-0.5</td><td>0.0</td></tr><tr><th>30</th><td>30</td><td>CHP</td><td>H2O</td><td>H3OP</td><td>C</td><td><em>missing</em></td><td>-2</td><td>1.45e-9</td><td>0.0</td><td>0.0</td></tr><tr><th>&vellip;</th><td>&vellip;</td><td>&vellip;</td><td>&vellip;</td><td>&vellip;</td><td>&vellip;</td><td>&vellip;</td><td>&vellip;</td><td>&vellip;</td><td>&vellip;</td><td>&vellip;</td></tr></tbody></table>"
      ],
      "text/latex": [
       "\\begin{tabular}{r|ccccccccccc}\n",
       "\t& 0 & R1 & R2 & P1 & P2 & P3 & type & kA & kB & kC & \\\\\n",
       "\t\\hline\n",
       "\t& Int64 & String & String & String & String & String? & Int64 & Float64 & Float64 & Float64 & \\\\\n",
       "\t\\hline\n",
       "\t1 & 1 & ArHP & C & CHP & Ar & \\emph{missing} & -2 & 1.02e-9 & 0.0 & 0.0 & $\\dots$ \\\\\n",
       "\t2 & 2 & ArHP & CO & HCOP & Ar & \\emph{missing} & -2 & 1.25e-9 & 0.0 & 0.0 & $\\dots$ \\\\\n",
       "\t3 & 3 & ArHP & CO2 & HCO2P & Ar & \\emph{missing} & -2 & 1.1e-9 & 0.0 & 0.0 & $\\dots$ \\\\\n",
       "\t4 & 4 & ArHP & H2 & H3P & Ar & \\emph{missing} & -2 & 6.3e-10 & 0.0 & 0.0 & $\\dots$ \\\\\n",
       "\t5 & 5 & ArHP & N2 & N2HP & Ar & \\emph{missing} & -2 & 8.0e-10 & 0.0 & 0.0 & $\\dots$ \\\\\n",
       "\t6 & 6 & ArHP & O & OHP & Ar & \\emph{missing} & -2 & 5.9e-10 & 0.0 & 0.0 & $\\dots$ \\\\\n",
       "\t7 & 7 & ArHP & O2 & HO2P & Ar & \\emph{missing} & -2 & 5.05e-10 & 0.0 & 0.0 & $\\dots$ \\\\\n",
       "\t8 & 8 & ArP & CO & COP & Ar & \\emph{missing} & -2 & 4.4e-11 & 0.0 & 0.0 & $\\dots$ \\\\\n",
       "\t9 & 9 & ArP & CO2 & CO2P & Ar & \\emph{missing} & -2 & 4.8e-10 & 0.0 & 0.0 & $\\dots$ \\\\\n",
       "\t10 & 10 & ArP & H2 & ArHP & H & \\emph{missing} & -2 & 8.72e-10 & 0.0 & 0.0 & $\\dots$ \\\\\n",
       "\t11 & 11 & ArP & H2 & H2P & Ar & \\emph{missing} & -2 & 1.78e-11 & 0.0 & 0.0 & $\\dots$ \\\\\n",
       "\t12 & 12 & ArP & H2O & ArHP & OH & \\emph{missing} & -2 & 3.24e-10 & 0.0 & 0.0 & $\\dots$ \\\\\n",
       "\t13 & 13 & ArP & H2O & H2OP & Ar & \\emph{missing} & -2 & 1.3e-9 & 0.0 & 0.0 & $\\dots$ \\\\\n",
       "\t14 & 14 & ArP & N2 & N2P & Ar & \\emph{missing} & -2 & 1.1e-11 & 0.0 & 0.0 & $\\dots$ \\\\\n",
       "\t15 & 15 & ArP & N2O & N2OP & Ar & \\emph{missing} & -2 & 2.91e-10 & 0.0 & 0.0 & $\\dots$ \\\\\n",
       "\t16 & 16 & ArP & N2O & N2P & Ar & O & -2 & 3.0e-12 & 0.0 & 0.0 & $\\dots$ \\\\\n",
       "\t17 & 17 & ArP & N2O & NOP & Ar & N & -2 & 3.0e-12 & 0.0 & 0.0 & $\\dots$ \\\\\n",
       "\t18 & 18 & ArP & N2O & OP & N2 & Ar & -2 & 3.0e-12 & 0.0 & 0.0 & $\\dots$ \\\\\n",
       "\t19 & 19 & ArP & NO & NOP & Ar & \\emph{missing} & -2 & 3.1e-10 & 0.0 & 0.0 & $\\dots$ \\\\\n",
       "\t20 & 20 & ArP & NO2 & NO2P & Ar & \\emph{missing} & -2 & 2.76e-11 & 0.0 & 0.0 & $\\dots$ \\\\\n",
       "\t21 & 21 & ArP & NO2 & NOP & Ar & O & -2 & 4.32e-10 & 0.0 & 0.0 & $\\dots$ \\\\\n",
       "\t22 & 22 & ArP & O2 & O2P & Ar & \\emph{missing} & -2 & 4.6e-11 & 0.0 & 0.0 & $\\dots$ \\\\\n",
       "\t23 & 23 & CHP & C & C2P & H & \\emph{missing} & -2 & 1.2e-9 & 0.0 & 0.0 & $\\dots$ \\\\\n",
       "\t24 & 24 & CHP & CN & C2NP & H & \\emph{missing} & -2 & 9.53e-9 & -0.5 & 0.0 & $\\dots$ \\\\\n",
       "\t25 & 25 & CHP & CO & HCOP & C & \\emph{missing} & -2 & 7.0e-12 & -0.5 & 0.0 & $\\dots$ \\\\\n",
       "\t26 & 26 & CHP & CO2 & HCOP & CO & \\emph{missing} & -2 & 1.6e-9 & 0.0 & 0.0 & $\\dots$ \\\\\n",
       "\t27 & 27 & CHP & H & CP & H2 & \\emph{missing} & -2 & 7.5e-10 & 0.0 & 0.0 & $\\dots$ \\\\\n",
       "\t28 & 28 & CHP & H2 & CH2P & H & \\emph{missing} & -2 & 1.2e-9 & 0.0 & 0.0 & $\\dots$ \\\\\n",
       "\t29 & 29 & CHP & H2O & H2COP & H & \\emph{missing} & -2 & 1.0e-8 & -0.5 & 0.0 & $\\dots$ \\\\\n",
       "\t30 & 30 & CHP & H2O & H3OP & C & \\emph{missing} & -2 & 1.45e-9 & 0.0 & 0.0 & $\\dots$ \\\\\n",
       "\t$\\dots$ & $\\dots$ & $\\dots$ & $\\dots$ & $\\dots$ & $\\dots$ & $\\dots$ & $\\dots$ & $\\dots$ & $\\dots$ & $\\dots$ &  \\\\\n",
       "\\end{tabular}\n"
      ],
      "text/plain": [
       "582×20 DataFrame. Omitted printing of 12 columns\n",
       "│ Row │ 0     │ R1     │ R2     │ P1     │ P2     │ P3      │ type  │ kA       │\n",
       "│     │ \u001b[90mInt64\u001b[39m │ \u001b[90mString\u001b[39m │ \u001b[90mString\u001b[39m │ \u001b[90mString\u001b[39m │ \u001b[90mString\u001b[39m │ \u001b[90mString?\u001b[39m │ \u001b[90mInt64\u001b[39m │ \u001b[90mFloat64\u001b[39m  │\n",
       "├─────┼───────┼────────┼────────┼────────┼────────┼─────────┼───────┼──────────┤\n",
       "│ 1   │ 1     │ ArHP   │ C      │ CHP    │ Ar     │ \u001b[90mmissing\u001b[39m │ -2    │ 1.02e-9  │\n",
       "│ 2   │ 2     │ ArHP   │ CO     │ HCOP   │ Ar     │ \u001b[90mmissing\u001b[39m │ -2    │ 1.25e-9  │\n",
       "│ 3   │ 3     │ ArHP   │ CO2    │ HCO2P  │ Ar     │ \u001b[90mmissing\u001b[39m │ -2    │ 1.1e-9   │\n",
       "│ 4   │ 4     │ ArHP   │ H2     │ H3P    │ Ar     │ \u001b[90mmissing\u001b[39m │ -2    │ 6.3e-10  │\n",
       "│ 5   │ 5     │ ArHP   │ N2     │ N2HP   │ Ar     │ \u001b[90mmissing\u001b[39m │ -2    │ 8.0e-10  │\n",
       "│ 6   │ 6     │ ArHP   │ O      │ OHP    │ Ar     │ \u001b[90mmissing\u001b[39m │ -2    │ 5.9e-10  │\n",
       "│ 7   │ 7     │ ArHP   │ O2     │ HO2P   │ Ar     │ \u001b[90mmissing\u001b[39m │ -2    │ 5.05e-10 │\n",
       "│ 8   │ 8     │ ArP    │ CO     │ COP    │ Ar     │ \u001b[90mmissing\u001b[39m │ -2    │ 4.4e-11  │\n",
       "│ 9   │ 9     │ ArP    │ CO2    │ CO2P   │ Ar     │ \u001b[90mmissing\u001b[39m │ -2    │ 4.8e-10  │\n",
       "│ 10  │ 10    │ ArP    │ H2     │ ArHP   │ H      │ \u001b[90mmissing\u001b[39m │ -2    │ 8.72e-10 │\n",
       "⋮\n",
       "│ 572 │ 571   │ NH2P   │ E      │ NH     │ H      │ \u001b[90mmissing\u001b[39m │ -4    │ 8.34e-6  │\n",
       "│ 573 │ 572   │ NH3P   │ E      │ NH     │ H      │ H       │ -4    │ 2.68e-6  │\n",
       "│ 574 │ 573   │ NH3P   │ E      │ NH2    │ H      │ \u001b[90mmissing\u001b[39m │ -4    │ 2.68e-6  │\n",
       "│ 575 │ 574   │ NHP    │ E      │ N      │ H      │ \u001b[90mmissing\u001b[39m │ -4    │ 7.45e-7  │\n",
       "│ 576 │ 575   │ NO2P   │ E      │ NO     │ O      │ \u001b[90mmissing\u001b[39m │ -4    │ 5.2e-6   │\n",
       "│ 577 │ 576   │ NOP    │ E      │ O      │ N      │ \u001b[90mmissing\u001b[39m │ -4    │ 8.52e-7  │\n",
       "│ 578 │ 577   │ NOP    │ E      │ O      │ N2D    │ \u001b[90mmissing\u001b[39m │ -4    │ 4.53e-9  │\n",
       "│ 579 │ 578   │ NP     │ E      │ N      │ -0     │ \u001b[90mmissing\u001b[39m │ -4    │ 1.9e-10  │\n",
       "│ 580 │ 579   │ O2P    │ E      │ O      │ O      │ \u001b[90mmissing\u001b[39m │ -4    │ 8.15e-6  │\n",
       "│ 581 │ 580   │ OHP    │ E      │ O      │ H      │ \u001b[90mmissing\u001b[39m │ -4    │ 6.5e-7   │\n",
       "│ 582 │ 581   │ OP     │ E      │ O      │ -0     │ \u001b[90mmissing\u001b[39m │ -4    │ 1.4e-10  │"
      ]
     },
     "execution_count": 63,
     "metadata": {},
     "output_type": "execute_result"
    }
   ],
   "source": [
    "ion_table = CSV.File(\"../Resources/ireactions-full-copy.csv\") |> DataFrame"
   ]
  },
  {
   "cell_type": "code",
   "execution_count": 64,
   "metadata": {},
   "outputs": [],
   "source": [
    "replace!(ion_table.\"P3\", missing=>\"-0\");"
   ]
  },
  {
   "cell_type": "code",
   "execution_count": 65,
   "metadata": {
    "scrolled": true
   },
   "outputs": [
    {
     "data": {
      "text/plain": [
       "582×1 Array{Any,2}:\n",
       " #undef\n",
       " #undef\n",
       " #undef\n",
       " #undef\n",
       " #undef\n",
       " #undef\n",
       " #undef\n",
       " #undef\n",
       " #undef\n",
       " #undef\n",
       " #undef\n",
       " #undef\n",
       " #undef\n",
       "   ⋮\n",
       " #undef\n",
       " #undef\n",
       " #undef\n",
       " #undef\n",
       " #undef\n",
       " #undef\n",
       " #undef\n",
       " #undef\n",
       " #undef\n",
       " #undef\n",
       " #undef\n",
       " #undef"
      ]
     },
     "execution_count": 65,
     "metadata": {},
     "output_type": "execute_result"
    }
   ],
   "source": [
    "numrows = size(ion_table)[1]\n",
    "ion_network = Array{Any}(undef, numrows, 1)\n"
   ]
  },
  {
   "cell_type": "code",
   "execution_count": 66,
   "metadata": {},
   "outputs": [
    {
     "name": "stdout",
     "output_type": "stream",
     "text": [
      "DataFrameRow\n",
      "│ Row │ 0     │ R1     │ R2     │ P1     │ P2     │ P3      │ type  │ kA      │ kB      │ kC      │ k0A   │ k0B   │ k0C   │ kradA │ kradB │ kradC │ F     │ T range │ Reference │ Notes   │\n",
      "│     │ \u001b[90mInt64\u001b[39m │ \u001b[90mString\u001b[39m │ \u001b[90mString\u001b[39m │ \u001b[90mString\u001b[39m │ \u001b[90mString\u001b[39m │ \u001b[90mString?\u001b[39m │ \u001b[90mInt64\u001b[39m │ \u001b[90mFloat64\u001b[39m │ \u001b[90mFloat64\u001b[39m │ \u001b[90mFloat64\u001b[39m │ \u001b[90mInt64\u001b[39m │ \u001b[90mInt64\u001b[39m │ \u001b[90mInt64\u001b[39m │ \u001b[90mInt64\u001b[39m │ \u001b[90mInt64\u001b[39m │ \u001b[90mInt64\u001b[39m │ \u001b[90mInt64\u001b[39m │ \u001b[90mString?\u001b[39m │ \u001b[90mString\u001b[39m    │ \u001b[90mString?\u001b[39m │\n",
      "├─────┼───────┼────────┼────────┼────────┼────────┼─────────┼───────┼─────────┼─────────┼─────────┼───────┼───────┼───────┼───────┼───────┼───────┼───────┼─────────┼───────────┼─────────┤\n",
      "│ 1   │ 1     │ ArHP   │ C      │ CHP    │ Ar     │ -0      │ -2    │ 1.02e-9 │ 0.0     │ 0.0     │ 0     │ 0     │ 0     │ 0     │ 0     │ 0     │ 0     │ \u001b[90mmissing\u001b[39m │ estimated │ \u001b[90mmissing\u001b[39m │\n",
      "\n",
      "DataFrameRow\n",
      "│ Row │ 0     │ R1     │ R2     │ P1     │ P2     │ P3      │ type  │ kA      │ kB      │ kC      │ k0A   │ k0B   │ k0C   │ kradA │ kradB │ kradC │ F     │ T range │ Reference │ Notes   │\n",
      "│     │ \u001b[90mInt64\u001b[39m │ \u001b[90mString\u001b[39m │ \u001b[90mString\u001b[39m │ \u001b[90mString\u001b[39m │ \u001b[90mString\u001b[39m │ \u001b[90mString?\u001b[39m │ \u001b[90mInt64\u001b[39m │ \u001b[90mFloat64\u001b[39m │ \u001b[90mFloat64\u001b[39m │ \u001b[90mFloat64\u001b[39m │ \u001b[90mInt64\u001b[39m │ \u001b[90mInt64\u001b[39m │ \u001b[90mInt64\u001b[39m │ \u001b[90mInt64\u001b[39m │ \u001b[90mInt64\u001b[39m │ \u001b[90mInt64\u001b[39m │ \u001b[90mInt64\u001b[39m │ \u001b[90mString?\u001b[39m │ \u001b[90mString\u001b[39m    │ \u001b[90mString?\u001b[39m │\n",
      "├─────┼───────┼────────┼────────┼────────┼────────┼─────────┼───────┼─────────┼─────────┼─────────┼───────┼───────┼───────┼───────┼───────┼───────┼───────┼─────────┼───────────┼─────────┤\n",
      "│ 2   │ 2     │ ArHP   │ CO     │ HCOP   │ Ar     │ -0      │ -2    │ 1.25e-9 │ 0.0     │ 0.0     │ 0     │ 0     │ 0     │ 0     │ 0     │ 0     │ 0     │ \u001b[90mmissing\u001b[39m │ Anicich93 │ \u001b[90mmissing\u001b[39m │\n",
      "\n"
     ]
    }
   ],
   "source": [
    "for i in range(1, stop=2)\n",
    "    println(ion_table[i, :])\n",
    "    println()\n",
    "end"
   ]
  },
  {
   "cell_type": "code",
   "execution_count": 67,
   "metadata": {
    "scrolled": true
   },
   "outputs": [
    {
     "name": "stdout",
     "output_type": "stream",
     "text": [
      "Any[Any[[:ArHP, :C], [:CHP, :Ar], Symbol(\"2 .* 1.02e-9\")]; Any[[:ArHP, :CO], [:HCOP, :Ar], Symbol(\"2 .* 1.25e-9\")]; Any[[:ArHP, :CO2], [:HCO2P, :Ar], Symbol(\"2 .* 1.1e-9\")]; Any[[:ArHP, :H2], [:H3P, :Ar], Symbol(\"2 .* 6.3e-10\")]; Any[[:ArHP, :N2], [:N2HP, :Ar], Symbol(\"2 .* 8.0e-10\")]; Any[[:ArHP, :O], [:OHP, :Ar], Symbol(\"2 .* 5.9e-10\")]; Any[[:ArHP, :O2], [:HO2P, :Ar], Symbol(\"2 .* 5.05e-10\")]; Any[[:ArP, :CO], [:COP, :Ar], Symbol(\"2 .* 4.4e-11\")]; Any[[:ArP, :CO2], [:CO2P, :Ar], Symbol(\"2 .* 4.8e-10\")]; Any[[:ArP, :H2], [:ArHP, :H], Symbol(\"2 .* 8.72e-10\")]; Any[[:ArP, :H2], [:H2P, :Ar], Symbol(\"2 .* 1.78e-11\")]; Any[[:ArP, :H2O], [:ArHP, :OH], Symbol(\"2 .* 3.24e-10\")]; Any[[:ArP, :H2O], [:H2OP, :Ar], Symbol(\"2 .* 1.3e-9\")]; Any[[:ArP, :N2], [:N2P, :Ar], Symbol(\"2 .* 1.1e-11\")]; Any[[:ArP, :N2O], [:N2OP, :Ar], Symbol(\"2 .* 2.91e-10\")]; Any[[:ArP, :N2O], [:N2P, :Ar, :O], Symbol(\"2 .* 3.0e-12\")]; Any[[:ArP, :N2O], [:NOP, :Ar, :N], Symbol(\"2 .* 3.0e-12\")]; Any[[:ArP, :N2O], [:OP, :N2, :Ar], Symbol(\"2 .* 3.0e-12\")]; Any[[:ArP, :NO], [:NOP, :Ar], Symbol(\"2 .* 3.1e-10\")]; Any[[:ArP, :NO2], [:NO2P, :Ar], Symbol(\"2 .* 2.76e-11\")]; Any[[:ArP, :NO2], [:NOP, :Ar, :O], Symbol(\"2 .* 4.32e-10\")]; Any[[:ArP, :O2], [:O2P, :Ar], Symbol(\"2 .* 4.6e-11\")]; Any[[:CHP, :C], [:C2P, :H], Symbol(\"2 .* 1.2e-9\")]; Any[[:CHP, :CN], [:C2NP, :H], Symbol(\"2 .* 9.53e-9 .* (Ti .^ -0.5)\")]; Any[[:CHP, :CO], [:HCOP, :C], Symbol(\"2 .* 7.0e-12 .* (Ti .^ -0.5)\")]; Any[[:CHP, :CO2], [:HCOP, :CO], Symbol(\"2 .* 1.6e-9\")]; Any[[:CHP, :H], [:CP, :H2], Symbol(\"2 .* 7.5e-10\")]; Any[[:CHP, :H2], [:CH2P, :H], Symbol(\"2 .* 1.2e-9\")]; Any[[:CHP, :H2O], [:H2COP, :H], Symbol(\"2 .* 1.0e-8 .* (Ti .^ -0.5)\")]; Any[[:CHP, :H2O], [:H3OP, :C], Symbol(\"2 .* 1.45e-9\")]; Any[[:CHP, :H2O], [:HCOP, :H2], Symbol(\"2 .* 5.02e-8 .* (Ti .^ -0.5)\")]; Any[[:CHP, :HCN], [:C2NP, :H2], Symbol(\"2 .* 4.2e-10\")]; Any[[:CHP, :HCN], [:HC2NP, :H], Symbol(\"2 .* 2.8e-10\")]; Any[[:CHP, :HCN], [:HCNHP, :C], Symbol(\"2 .* 2.1e-9\")]; Any[[:CHP, :HCO], [:CH2P, :CO], Symbol(\"2 .* 7.97e-9 .* (Ti .^ -0.5)\")]; Any[[:CHP, :HCO], [:HCOP, :CH], Symbol(\"2 .* 7.97e-9 .* (Ti .^ -0.5)\")]; Any[[:CHP, :N], [:CNP, :H], Symbol(\"2 .* 1.9e-10\")]; Any[[:CHP, :NH], [:CNP, :H2], Symbol(\"2 .* 1.32e-8 .* (Ti .^ -0.5)\")]; Any[[:CHP, :NO], [:NOP, :CH], Symbol(\"2 .* 7.6e-10\")]; Any[[:CHP, :O], [:COP, :H], Symbol(\"2 .* 3.5e-10\")]; Any[[:CHP, :O2], [:HCOP, :O], Symbol(\"2 .* 8.73e-10\")]; Any[[:CHP, :OH], [:COP, :H2], Symbol(\"2 .* 1.3e-8 .* (Ti .^ -0.5)\")]; Any[[:CNP, :C], [:CP, :CN], Symbol(\"2 .* 1.1e-10\")]; Any[[:CNP, :CH], [:CHP, :CN], Symbol(\"2 .* 1.11e-8 .* (Ti .^ -0.5)\")]; Any[[:CNP, :CO], [:COP, :CN], Symbol(\"2 .* 4.4e-10\")]; Any[[:CNP, :CO2], [:C2OP, :NO], Symbol(\"2 .* 3.3e-10\")]; Any[[:CNP, :CO2], [:CO2P, :CN], Symbol(\"2 .* 4.4e-10\")]; Any[[:CNP, :CO2], [:OCNP, :CO], Symbol(\"2 .* 3.3e-10\")]; Any[[:CNP, :H], [:HP, :CN], Symbol(\"2 .* 6.4e-10\")]; Any[[:CNP, :H2], [:HCNP, :H], Symbol(\"2 .* 8.0e-10\")]; Any[[:CNP, :H2], [:HNCP, :H], Symbol(\"2 .* 8.0e-10\")]; Any[[:CNP, :H2O], [:H2CNP, :O], Symbol(\"2 .* 4.8e-10\")]; Any[[:CNP, :H2O], [:H2OP, :CN], Symbol(\"2 .* 3.2e-10\")]; Any[[:CNP, :H2O], [:HCNP, :OH], Symbol(\"2 .* 1.6e-9\")]; Any[[:CNP, :H2O], [:HCOP, :NH], Symbol(\"2 .* 1.6e-10\")]; Any[[:CNP, :H2O], [:HNCOP, :H], Symbol(\"2 .* 6.4e-10\")]; Any[[:CNP, :HCN], [:C2N2P, :H], Symbol(\"2 .* 4.59e-10\")]; Any[[:CNP, :HCN], [:HCNP, :CN], Symbol(\"2 .* 2.24e-9\")]; Any[[:CNP, :HCO], [:HCNP, :CO], Symbol(\"2 .* 6.41e-9 .* (Ti .^ -0.5)\")]; Any[[:CNP, :HCO], [:HCOP, :CN], Symbol(\"2 .* 6.41e-9 .* (Ti .^ -0.5)\")]; Any[[:CNP, :N], [:N2P, :C], Symbol(\"2 .* 6.1e-10\")]; Any[[:CNP, :N2O], [:N2OP, :CN], Symbol(\"2 .* 4.56e-10\")]; Any[[:CNP, :N2O], [:NOP, :CN2], Symbol(\"2 .* 1.52e-10\")]; Any[[:CNP, :N2O], [:OCNP, :N2], Symbol(\"2 .* 1.52e-10\")]; Any[[:CNP, :NH], [:NHP, :CN], Symbol(\"2 .* 1.13e-8 .* (Ti .^ -0.5)\")]; Any[[:CNP, :NH2], [:NH2P, :CN], Symbol(\"2 .* 1.58e-8 .* (Ti .^ -0.5)\")]; Any[[:CNP, :NO], [:NOP, :CN], Symbol(\"2 .* 5.7e-10\")]; Any[[:CNP, :NO], [:OCNP, :N], Symbol(\"2 .* 1.9e-10\")]; Any[[:CNP, :O], [:OP, :CN], Symbol(\"2 .* 6.5e-11\")]; Any[[:CNP, :O2], [:NOP, :CO], Symbol(\"2 .* 8.6e-11\")]; Any[[:CNP, :O2], [:O2P, :CN], Symbol(\"2 .* 2.58e-10\")]; Any[[:CNP, :O2], [:OCNP, :O], Symbol(\"2 .* 8.6e-11\")]; Any[[:CNP, :OH], [:OHP, :CN], Symbol(\"2 .* 1.11e-8 .* (Ti .^ -0.5)\")]; Any[[:CO2P, :H], [:HCOP, :O], Symbol(\"2 .* 4.47e-10\")]; Any[[:CO2P, :H], [:HP, :CO2], Symbol(\"2 .* 5.53e-11\")]; Any[[:CO2P, :H2], [:HCO2P, :H], Symbol(\"2 .* 2.24e-9 .* (Ti .^ -0.15)\")]; Any[[:CO2P, :H2O], [:H2OP, :CO2], Symbol(\"2 .* 1.8e-9\")]; Any[[:CO2P, :H2O], [:HCO2P, :OH], Symbol(\"2 .* 6.0e-10\")]; Any[[:CO2P, :HCN], [:HCNP, :CO2], Symbol(\"2 .* 8.1e-10\")]; Any[[:CO2P, :HCN], [:HCO2P, :CN], Symbol(\"2 .* 9.0e-11\")]; Any[[:CO2P, :N], [:COP, :NO], Symbol(\"2 .* 3.4e-10\")]; Any[[:CO2P, :NO], [:NOP, :CO2], Symbol(\"2 .* 1.23e-10\")]; Any[[:CO2P, :O], [:O2P, :CO], Symbol(\"2 .* 1.6e-10\")]; Any[[:CO2P, :O], [:OP, :CO2], Symbol(\"2 .* 1.0e-10\")]; Any[[:CO2P, :O2], [:O2P, :CO2], Symbol(\"2 .* 5.5e-11\")]; Any[[:COP, :C], [:CP, :CO], Symbol(\"2 .* 1.1e-10\")]; Any[[:COP, :CH], [:CHP, :CO], Symbol(\"2 .* 5.54e-9 .* (Ti .^ -0.5)\")]; Any[[:COP, :CH], [:HCOP, :C], Symbol(\"2 .* 5.54e-9 .* (Ti .^ -0.5)\")]; Any[[:COP, :CO2], [:CO2P, :CO], Symbol(\"2 .* 1.1e-9\")]; Any[[:COP, :H], [:HP, :CO], Symbol(\"2 .* 4.0e-10\")]; Any[[:COP, :H2], [:HCOP, :H], Symbol(\"2 .* 7.5e-10\")]; Any[[:COP, :H2], [:HOCP, :H], Symbol(\"2 .* 7.5e-10\")]; Any[[:COP, :H2O], [:H2OP, :CO], Symbol(\"2 .* 1.56e-9\")]; Any[[:COP, :H2O], [:HCOP, :OH], Symbol(\"2 .* 8.4e-10\")]; Any[[:COP, :HCN], [:HCNP, :CO], Symbol(\"2 .* 3.06e-9\")]; Any[[:COP, :HCO], [:HCOP, :CO], Symbol(\"2 .* 1.28e-8 .* (Ti .^ -0.5)\")]; Any[[:COP, :N], [:NOP, :C], Symbol(\"2 .* 8.2e-11\")]; Any[[:COP, :NH], [:HCOP, :N], Symbol(\"2 .* 5.54e-9 .* (Ti .^ -0.5)\")]; Any[[:COP, :NH], [:NHP, :CO], Symbol(\"2 .* 5.54e-9 .* (Ti .^ -0.5)\")]; Any[[:COP, :NH2], [:HCOP, :NH], Symbol(\"2 .* 7.79e-9 .* (Ti .^ -0.5)\")]; Any[[:COP, :NH2], [:NH2P, :CO], Symbol(\"2 .* 7.79e-9 .* (Ti .^ -0.5)\")]; Any[[:COP, :NO], [:NOP, :CO], Symbol(\"2 .* 4.2e-10\")]; Any[[:COP, :O], [:OP, :CO], Symbol(\"2 .* 1.4e-10\")]; Any[[:COP, :O2], [:O2P, :CO], Symbol(\"2 .* 1.5e-10\")]; Any[[:COP, :OH], [:HCOP, :O], Symbol(\"2 .* 5.37e-9 .* (Ti .^ -0.5)\")]; Any[[:COP, :OH], [:OHP, :CO], Symbol(\"2 .* 5.37e-9 .* (Ti .^ -0.5)\")]; Any[[:CP, :C], [:C2P], Symbol(\"2 .* 1.52e-18 .* (Ti .^ 0.17)*exp.(-101.5 ./ Ti)\")]; Any[[:CP, :CH], [:C2P, :H], Symbol(\"2 .* 6.58e-9 .* (Ti .^ -0.5)\")]; Any[[:CP, :CH], [:CHP, :C], Symbol(\"2 .* 6.58e-9 .* (Ti .^ -0.5)\")]; Any[[:CP, :CO2], [:CO2P, :C], Symbol(\"2 .* 1.1e-10\")]; Any[[:CP, :CO2], [:COP, :CO], Symbol(\"2 .* 9.9e-10\")]; Any[[:CP, :H], [:CHP], Symbol(\"2 .* 1.7e-17\")]; Any[[:CP, :H2], [:CH2P], Symbol(\"2 .* 3.32e-13 .* (Ti .^ -1.3)*exp.(-23.0 ./ Ti)\")]; Any[[:CP, :H2], [:CHP, :H], Symbol(\"2 .* 7.4e-10*exp.(-4537.0 ./ Ti)\")]; Any[[:CP, :H2O], [:H2OP, :C], Symbol(\"2 .* 2.4e-10\")]; Any[[:CP, :H2O], [:HCOP, :H], Symbol(\"2 .* 1.56e-8 .* (Ti .^ -0.5)\")]; Any[[:CP, :H2O], [:HOCP, :H], Symbol(\"2 .* 2.16e-9\")]; Any[[:CP, :HCN], [:C2NP, :H], Symbol(\"2 .* 2.95e-9\")]; Any[[:CP, :HCO], [:CHP, :CO], Symbol(\"2 .* 8.31e-9 .* (Ti .^ -0.5)\")]; Any[[:CP, :HCO], [:HCOP, :C], Symbol(\"2 .* 8.31e-9 .* (Ti .^ -0.5)\")]; Any[[:CP, :N], [:CNP], Symbol(\"2 .* 7.24e-19 .* (Ti .^ 0.07)*exp.(-57.5 ./ Ti)\")]; Any[[:CP, :N2O], [:NOP, :CN], Symbol(\"2 .* 9.1e-10\")]; Any[[:CP, :NH], [:CNP, :H], Symbol(\"2 .* 1.35e-8 .* (Ti .^ -0.5)\")]; Any[[:CP, :NH2], [:HCNP, :H], Symbol(\"2 .* 1.91e-8 .* (Ti .^ -0.5)\")]; Any[[:CP, :NO], [:NOP, :C], Symbol(\"2 .* 7.5e-10\")]; Any[[:CP, :O], [:COP], Symbol(\"2 .* 7.39e-18 .* (Ti .^ -0.15)*exp.(-68.0 ./ Ti)\")]; Any[[:CP, :O2], [:COP, :O], Symbol(\"2 .* 3.48e-10\")]; Any[[:CP, :O2], [:OP, :CO], Symbol(\"2 .* 5.22e-10\")]; Any[[:CP, :OH], [:COP, :H], Symbol(\"2 .* 1.33e-8 .* (Ti .^ -0.5)\")]; Any[[:H2OP, :C], [:CHP, :OH], Symbol(\"2 .* 1.1e-9\")]; Any[[:H2OP, :CH], [:CH2P, :OH], Symbol(\"2 .* 5.89e-9 .* (Ti .^ -0.5)\")]; Any[[:H2OP, :CH], [:CHP, :H2O], Symbol(\"2 .* 5.89e-9 .* (Ti .^ -0.5)\")]; Any[[:H2OP, :CO], [:HCOP, :OH], Symbol(\"2 .* 4.25e-10\")]; Any[[:H2OP, :H2], [:H3OP, :H], Symbol(\"2 .* 7.6e-10\")]; Any[[:H2OP, :H2O], [:H3OP, :OH], Symbol(\"2 .* 1.85e-9\")]; Any[[:H2OP, :HCN], [:HCNHP, :OH], Symbol(\"2 .* 1.05e-9\")]; Any[[:H2OP, :HCO], [:H2COP, :OH], Symbol(\"2 .* 4.85e-9 .* (Ti .^ -0.5)\")]; Any[[:H2OP, :HCO], [:H3OP, :CO], Symbol(\"2 .* 4.85e-9 .* (Ti .^ -0.5)\")]; Any[[:H2OP, :HCO], [:HCOP, :H2O], Symbol(\"2 .* 4.85e-9 .* (Ti .^ -0.5)\")]; Any[[:H2OP, :N], [:HNOP, :H], Symbol(\"2 .* 1.12e-10\")]; Any[[:H2OP, :N], [:NOP, :H2], Symbol(\"2 .* 2.8e-11\")]; Any[[:H2OP, :NH], [:H3OP, :N], Symbol(\"2 .* 1.23e-8 .* (Ti .^ -0.5)\")]; Any[[:H2OP, :NH2], [:NH2P, :H2O], Symbol(\"2 .* 8.49e-9 .* (Ti .^ -0.5)\")]; Any[[:H2OP, :NH2], [:NH3P, :OH], Symbol(\"2 .* 8.49e-9 .* (Ti .^ -0.5)\")]; Any[[:H2OP, :NO], [:NOP, :H2O], Symbol(\"2 .* 4.6e-10\")]; Any[[:H2OP, :NO2], [:NO2P, :H2O], Symbol(\"2 .* 1.2e-9\")]; Any[[:H2OP, :O], [:O2P, :H2], Symbol(\"2 .* 4.0e-11\")]; Any[[:H2OP, :O2], [:O2P, :H2O], Symbol(\"2 .* 3.3e-10\")]; Any[[:H2OP, :OH], [:H3OP, :O], Symbol(\"2 .* 1.2e-8 .* (Ti .^ -0.5)\")]; Any[[:H2P, :Ar], [:ArHP, :H], Symbol(\"2 .* 2.1e-9\")]; Any[[:H2P, :C], [:CHP, :H], Symbol(\"2 .* 2.4e-9\")]; Any[[:H2P, :CH], [:CH2P, :H], Symbol(\"2 .* 1.23e-8 .* (Ti .^ -0.5)\")]; Any[[:H2P, :CH], [:CHP, :H2], Symbol(\"2 .* 1.23e-8 .* (Ti .^ -0.5)\")]; Any[[:H2P, :CN], [:CNP, :H2], Symbol(\"2 .* 2.08e-8 .* (Ti .^ -0.5)\")]; Any[[:H2P, :CN], [:HCNP, :H], Symbol(\"2 .* 2.08e-8 .* (Ti .^ -0.5)\")]; Any[[:H2P, :CO], [:COP, :H2], Symbol(\"2 .* 6.44e-10\")]; Any[[:H2P, :CO], [:HCOP, :H], Symbol(\"2 .* 2.9e-9\")]; Any[[:H2P, :CO2], [:HCO2P, :H], Symbol(\"2 .* 2.35e-9\")]; Any[[:H2P, :H], [:HP, :H2], Symbol(\"2 .* 6.4e-10\")]; Any[[:H2P, :H2], [:H3P, :H], Symbol(\"2 .* 2.0e-9\")]; Any[[:H2P, :H2O], [:H2OP, :H2], Symbol(\"2 .* 3.87e-9\")]; Any[[:H2P, :H2O], [:H3OP, :H], Symbol(\"2 .* 3.43e-9\")]; Any[[:H2P, :HCN], [:HCNP, :H2], Symbol(\"2 .* 4.68e-8 .* (Ti .^ -0.5)\")]; Any[[:H2P, :HCO], [:H3P, :CO], Symbol(\"2 .* 1.73e-8 .* (Ti .^ -0.5)\")]; Any[[:H2P, :HCO], [:HCOP, :H2], Symbol(\"2 .* 1.73e-8 .* (Ti .^ -0.5)\")]; Any[[:H2P, :He], [:HeHP, :H], Symbol(\"2 .* 1.35e-10\")]; Any[[:H2P, :N], [:NHP, :H], Symbol(\"2 .* 1.9e-9\")]; Any[[:H2P, :N2], [:N2HP, :H], Symbol(\"2 .* 2.0e-9\")]; Any[[:H2P, :N2O], [:HN2OP, :H], Symbol(\"2 .* 1.32e-9\")]; Any[[:H2P, :N2O], [:N2HP, :OH], Symbol(\"2 .* 7.77e-10\")]; Any[[:H2P, :NH], [:NH2P, :H], Symbol(\"2 .* 1.32e-8 .* (Ti .^ -0.5)\")]; Any[[:H2P, :NH], [:NHP, :H2], Symbol(\"2 .* 1.32e-8 .* (Ti .^ -0.5)\")]; Any[[:H2P, :NO], [:HNOP, :H], Symbol(\"2 .* 1.1e-9\")]; Any[[:H2P, :NO], [:NOP, :H2], Symbol(\"2 .* 1.1e-9\")]; Any[[:H2P, :O], [:OHP, :H], Symbol(\"2 .* 1.5e-9\")]; Any[[:H2P, :O2], [:HO2P, :H], Symbol(\"2 .* 1.92e-9\")]; Any[[:H2P, :O2], [:O2P, :H2], Symbol(\"2 .* 7.83e-10\")]; Any[[:H2P, :OH], [:H2OP, :H], Symbol(\"2 .* 1.32e-8 .* (Ti .^ -0.5)\")]; Any[[:H2P, :OH], [:OHP, :H2], Symbol(\"2 .* 1.32e-8 .* (Ti .^ -0.5)\")]; Any[[:H3OP, :C], [:HCOP, :H2], Symbol(\"2 .* 1.0e-11\")]; Any[[:H3OP, :CH], [:CH2P, :H2O], Symbol(\"2 .* 1.18e-8 .* (Ti .^ -0.5)\")]; Any[[:H3OP, :HCN], [:HCNHP, :H2O], Symbol(\"2 .* 3.8e-9\")]; Any[[:H3OP, :NH2], [:NH3P, :H2O], Symbol(\"2 .* 1.68e-8 .* (Ti .^ -0.5)\")]; Any[[:H3P, :Ar], [:ArHP, :H2], Symbol(\"2 .* 3.65e-10\")]; Any[[:H3P, :C], [:CHP, :H2], Symbol(\"2 .* 2.0e-9\")]; Any[[:H3P, :CH], [:CH2P, :H2], Symbol(\"2 .* 2.08e-8 .* (Ti .^ -0.5)\")]; Any[[:H3P, :CN], [:HCNP, :H2], Symbol(\"2 .* 3.46e-8 .* (Ti .^ -0.5)\")]; Any[[:H3P, :CO], [:HCOP, :H2], Symbol(\"2 .* 3.06e-9 .* (Ti .^ -0.142)*exp.(3.41 ./ Ti)\")]; Any[[:H3P, :CO], [:HOCP, :H2], Symbol(\"2 .* 5.82e-10 .* (Ti .^ 0.0661)*exp.(-5.21 ./ Ti)\")]; Any[[:H3P, :CO2], [:HCO2P, :H2], Symbol(\"2 .* 2.5e-9\")]; Any[[:H3P, :H2O], [:H3OP, :H2], Symbol(\"2 .* 5.3e-9\")]; Any[[:H3P, :HCN], [:HCNHP, :H2], Symbol(\"2 .* 7.5e-9\")]; Any[[:H3P, :HCO], [:H2COP, :H2], Symbol(\"2 .* 2.94e-8 .* (Ti .^ -0.5)\")]; Any[[:H3P, :N], [:NH2P, :H], Symbol(\"2 .* 3.9e-10\")]; Any[[:H3P, :N], [:NHP, :H2], Symbol(\"2 .* 2.6e-10\")]; Any[[:H3P, :N2], [:N2HP, :H2], Symbol(\"2 .* 1.63e-9\")]; Any[[:H3P, :N2O], [:HN2OP, :H2], Symbol(\"2 .* 2.5e-9\")]; Any[[:H3P, :NH], [:NH2P, :H2], Symbol(\"2 .* 2.25e-8 .* (Ti .^ -0.5)\")]; Any[[:H3P, :NO], [:HNOP, :H2], Symbol(\"2 .* 1.94e-9\")]; Any[[:H3P, :NO2], [:NO2P, :H2, :H], Symbol(\"2 .* 7.0e-12\")]; Any[[:H3P, :NO2], [:NOP, :OH, :H2], Symbol(\"2 .* 6.93e-10\")]; Any[[:H3P, :O], [:H2OP, :H], Symbol(\"2 .* 8.33e-10 .* (Ti .^ -0.156)*exp.(-1.4 ./ Ti)\")]; Any[[:H3P, :O], [:OHP, :H2], Symbol(\"2 .* 1.94e-9 .* (Ti .^ -0.156)*exp.(-1.4 ./ Ti)\")]; Any[[:H3P, :O2], [:HO2P, :H2], Symbol(\"2 .* 6.7e-10\")]; Any[[:H3P, :OH], [:H2OP, :H2], Symbol(\"2 .* 2.25e-8 .* (Ti .^ -0.5)\")]; Any[[:HCNHP, :CH], [:CH2P, :HCN], Symbol(\"2 .* 5.46e-9 .* (Ti .^ -0.5)\")]; Any[[:HCNHP, :H2O], [:H3OP, :HCN], Symbol(\"2 .* 8.8e-13\")]; Any[[:HCNP, :C], [:CHP, :CN], Symbol(\"2 .* 1.1e-9\")]; Any[[:HCNP, :CH], [:CH2P, :CN], Symbol(\"2 .* 1.09e-8 .* (Ti .^ -0.5)\")]; Any[[:HCNP, :CO], [:HCOP, :CN], Symbol(\"2 .* 1.38e-10\")]; Any[[:HCNP, :CO], [:HNCP, :CO], Symbol(\"2 .* 3.22e-10\")]; Any[[:HCNP, :CO2], [:HCO2P, :CN], Symbol(\"2 .* 2.1e-10\")]; Any[[:HCNP, :CO2], [:HNCP, :CO2], Symbol(\"2 .* 2.9e-10\")]; Any[[:HCNP, :H], [:HP, :HCN], Symbol(\"2 .* 3.7e-11\")]; Any[[:HCNP, :H2], [:HCNHP, :H], Symbol(\"2 .* 8.8e-10\")]; Any[[:HCNP, :H2O], [:H2OP, :HCN], Symbol(\"2 .* 3.12e-8 .* (Ti .^ -0.5)\")]; Any[[:HCNP, :H2O], [:H3OP, :CN], Symbol(\"2 .* 3.12e-8 .* (Ti .^ -0.5)\")]; Any[[:HCNP, :HCN], [:HCNHP, :CN], Symbol(\"2 .* 1.45e-9\")]; Any[[:HCNP, :HCO], [:H2COP, :CN], Symbol(\"2 .* 6.41e-9 .* (Ti .^ -0.5)\")]; Any[[:HCNP, :HCO], [:HCNHP, :CO], Symbol(\"2 .* 6.41e-9 .* (Ti .^ -0.5)\")]; Any[[:HCNP, :N], [:CHP, :N2], Symbol(\"2 .* 2.2e-10\")]; Any[[:HCNP, :N2O], [:N2OP, :HCN], Symbol(\"2 .* 1.08e-9\")]; Any[[:HCNP, :NH], [:NH2P, :CN], Symbol(\"2 .* 1.13e-8 .* (Ti .^ -0.5)\")]; Any[[:HCNP, :NH2], [:NH3P, :CN], Symbol(\"2 .* 1.56e-8 .* (Ti .^ -0.5)\")]; Any[[:HCNP, :NO], [:NOP, :HCN], Symbol(\"2 .* 8.1e-10\")]; Any[[:HCNP, :O2], [:O2P, :HCN], Symbol(\"2 .* 4.1e-10\")]; Any[[:HCNP, :OH], [:H2OP, :CN], Symbol(\"2 .* 1.09e-8 .* (Ti .^ -0.5)\")]; Any[[:HCO2P, :C], [:CHP, :CO2], Symbol(\"2 .* 1.0e-9\")]; Any[[:HCO2P, :CO], [:HCOP, :CO2], Symbol(\"2 .* 7.8e-10\")]; Any[[:HCO2P, :H2O], [:H3OP, :CO2], Symbol(\"2 .* 2.65e-9\")]; Any[[:HCO2P, :O], [:HCOP, :O2], Symbol(\"2 .* 5.8e-10\")]; Any[[:HCOP, :C], [:CHP, :CO], Symbol(\"2 .* 1.1e-9\")]; Any[[:HCOP, :CH], [:CH2P, :CO], Symbol(\"2 .* 1.09e-8 .* (Ti .^ -0.5)\")]; Any[[:HCOP, :H2O], [:H3OP, :CO], Symbol(\"2 .* 2.6e-9\")]; Any[[:HCOP, :H2O], [:HCOOH2P], Symbol(\"2 .* 6.64e-10 .* (Ti .^ -1.3)\")]; Any[[:HCOP, :HCN], [:HCNHP, :CO], Symbol(\"2 .* 3.5e-9\")]; Any[[:HCOP, :HCO], [:H2COP, :CO], Symbol(\"2 .* 1.26e-8 .* (Ti .^ -0.5)\")]; Any[[:HCOP, :N2O], [:HN2OP, :CO], Symbol(\"2 .* 3.3e-12\")]; Any[[:HCOP, :NH], [:NH2P, :CO], Symbol(\"2 .* 1.11e-8 .* (Ti .^ -0.5)\")]; Any[[:HCOP, :NH2], [:NH3P, :CO], Symbol(\"2 .* 1.54e-8 .* (Ti .^ -0.5)\")]; Any[[:HCOP, :OH], [:H2OP, :CO], Symbol(\"2 .* 1.07e-8 .* (Ti .^ -0.5)\")]; Any[[:HCOP, :OH], [:HCO2P, :H], Symbol(\"2 .* 1.73e-8 .* (Ti .^ -0.5)\")]; Any[[:HeP, :C], [:CP, :He], Symbol(\"2 .* 8.74e-17 .* (Ti .^ 0.75)\")]; Any[[:HeP, :CH], [:CHP, :He], Symbol(\"2 .* 8.66e-9 .* (Ti .^ -0.5)\")]; Any[[:HeP, :CH], [:CP, :He, :H], Symbol(\"2 .* 1.91e-8 .* (Ti .^ -0.5)\")]; Any[[:HeP, :CN], [:CP, :N, :He], Symbol(\"2 .* 1.52e-8 .* (Ti .^ -0.5)\")]; Any[[:HeP, :CN], [:NP, :C, :He], Symbol(\"2 .* 1.52e-8 .* (Ti .^ -0.5)\")]; Any[[:HeP, :CO], [:CP, :O, :He], Symbol(\"2 .* 1.6e-9\")]; Any[[:HeP, :CO2], [:CO2P, :He], Symbol(\"2 .* 5.0e-11\")]; Any[[:HeP, :CO2], [:COP, :O, :He], Symbol(\"2 .* 7.8e-10\")]; Any[[:HeP, :CO2], [:CP, :O2, :He], Symbol(\"2 .* 2.0e-11\")]; Any[[:HeP, :CO2], [:O2P, :C, :He], Symbol(\"2 .* 1.1e-11\")]; Any[[:HeP, :CO2], [:OP, :CO, :He], Symbol(\"2 .* 1.4e-10\")]; Any[[:HeP, :H], [:HeHP], Symbol(\"2 .* 3.43e-15 .* (Ti .^ -0.37)\")]; Any[[:HeP, :H], [:HP, :He], Symbol(\"2 .* 2.88e-16 .* (Ti .^ 0.25)\")]; Any[[:HeP, :H2], [:H2P, :He], Symbol(\"2 .* 1.7e-14\")]; Any[[:HeP, :H2], [:HP, :He, :H], Symbol(\"2 .* 8.3e-14\")]; Any[[:HeP, :H2O], [:H2OP, :He], Symbol(\"2 .* 5.5e-11 .* (Ti .^ -0.5)\")]; Any[[:HeP, :H2O], [:HP, :OH, :He], Symbol(\"2 .* 1.85e-10\")]; Any[[:HeP, :H2O], [:OHP, :He, :H], Symbol(\"2 .* 2.6e-10 .* (Ti .^ -0.5)\")]; Any[[:HeP, :HCN], [:CHP, :N, :He], Symbol(\"2 .* 6.93e-10\")]; Any[[:HeP, :HCN], [:CNP, :He, :H], Symbol(\"2 .* 1.55e-9\")]; Any[[:HeP, :HCN], [:CP, :NH, :He], Symbol(\"2 .* 8.25e-10\")]; Any[[:HeP, :HCN], [:NP, :CH, :He], Symbol(\"2 .* 2.31e-10\")]; Any[[:HeP, :HCO], [:CHP, :O, :He], Symbol(\"2 .* 8.49e-9 .* (Ti .^ -0.5)\")]; Any[[:HeP, :HCO], [:COP, :He, :H], Symbol(\"2 .* 8.49e-9 .* (Ti .^ -0.5)\")]; Any[[:HeP, :HCO], [:HeHP, :CO], Symbol(\"2 .* 5.2e-9 .* (Ti .^ -0.5)\")]; Any[[:HeP, :HNO], [:HP, :NO, :He], Symbol(\"2 .* 1.73e-8 .* (Ti .^ -0.5)\")]; Any[[:HeP, :HNO], [:NOP, :He, :H], Symbol(\"2 .* 1.73e-8 .* (Ti .^ -0.5)\")]; Any[[:HeP, :N2], [:N2P, :He], Symbol(\"2 .* 5.2e-10\")]; Any[[:HeP, :N2], [:NP, :N, :He], Symbol(\"2 .* 7.8e-10\")]; Any[[:HeP, :N2O], [:N2P, :O, :He], Symbol(\"2 .* 1.24e-9\")]; Any[[:HeP, :N2O], [:NOP, :N, :He], Symbol(\"2 .* 4.83e-10\")]; Any[[:HeP, :N2O], [:NP, :NO, :He], Symbol(\"2 .* 2.99e-10\")]; Any[[:HeP, :N2O], [:OP, :N2, :He], Symbol(\"2 .* 2.76e-10\")]; Any[[:HeP, :NH], [:NP, :He, :H], Symbol(\"2 .* 1.91e-8 .* (Ti .^ -0.5)\")]; Any[[:HeP, :NH2], [:NHP, :He, :H], Symbol(\"2 .* 1.39e-8 .* (Ti .^ -0.5)\")]; Any[[:HeP, :NO], [:NP, :O, :He], Symbol(\"2 .* 1.35e-9\")]; Any[[:HeP, :NO], [:OP, :N, :He], Symbol(\"2 .* 1.02e-10\")]; Any[[:HeP, :O2], [:O2P, :He], Symbol(\"2 .* 3.0e-11\")]; Any[[:HeP, :O2], [:OP, :O, :He], Symbol(\"2 .* 9.7e-10\")]; Any[[:HeP, :OH], [:OP, :He, :H], Symbol(\"2 .* 1.91e-8 .* (Ti .^ -0.5)\")]; Any[[:HN2OP, :CO], [:HCOP, :N2O], Symbol(\"2 .* 5.3e-10\")]; Any[[:HN2OP, :H2O], [:H3OP, :N2O], Symbol(\"2 .* 2.83e-9\")]; Any[[:HNOP, :C], [:CHP, :NO], Symbol(\"2 .* 1.0e-9\")]; Any[[:HNOP, :CH], [:CH2P, :NO], Symbol(\"2 .* 1.07e-8 .* (Ti .^ -0.5)\")]; Any[[:HNOP, :CN], [:HCNP, :NO], Symbol(\"2 .* 1.51e-8 .* (Ti .^ -0.5)\")]; Any[[:HNOP, :CO], [:HCOP, :NO], Symbol(\"2 .* 8.6e-10\")]; Any[[:HNOP, :CO2], [:HCO2P, :NO], Symbol(\"2 .* 9.4e-10\")]; Any[[:HNOP, :H2O], [:H3OP, :NO], Symbol(\"2 .* 2.3e-9\")]; Any[[:HNOP, :HCN], [:HCNHP, :NO], Symbol(\"2 .* 1.71e-8 .* (Ti .^ -0.5)\")]; Any[[:HNOP, :HCO], [:H2COP, :NO], Symbol(\"2 .* 1.25e-8 .* (Ti .^ -0.5)\")]; Any[[:HNOP, :N2], [:N2HP, :NO], Symbol(\"2 .* 1.0e-11\")]; Any[[:HNOP, :NH], [:NH2P, :NO], Symbol(\"2 .* 1.09e-8 .* (Ti .^ -0.5)\")]; Any[[:HNOP, :NH2], [:NH3P, :NO], Symbol(\"2 .* 1.52e-8 .* (Ti .^ -0.5)\")]; Any[[:HNOP, :NO], [:NOP, :HNO], Symbol(\"2 .* 7.0e-10\")]; Any[[:HNOP, :O], [:NO2P, :H], Symbol(\"2 .* 1.0e-12\")]; Any[[:HNOP, :OH], [:H2OP, :NO], Symbol(\"2 .* 1.07e-8 .* (Ti .^ -0.5)\")]; Any[[:HO2P, :C], [:CHP, :O2], Symbol(\"2 .* 1.0e-9\")]; Any[[:HO2P, :CH], [:CH2P, :O2], Symbol(\"2 .* 1.07e-8 .* (Ti .^ -0.5)\")]; Any[[:HO2P, :CN], [:HCNP, :O2], Symbol(\"2 .* 1.49e-8 .* (Ti .^ -0.5)\")]; Any[[:HO2P, :CO], [:HCOP, :O2], Symbol(\"2 .* 8.4e-10\")]; Any[[:HO2P, :CO2], [:HCO2P, :O2], Symbol(\"2 .* 1.1e-9\")]; Any[[:HO2P, :H2], [:H3P, :O2], Symbol(\"2 .* 3.3e-10\")]; Any[[:HO2P, :H2O], [:H3OP, :O2], Symbol(\"2 .* 1.42e-8 .* (Ti .^ -0.5)\")]; Any[[:HO2P, :HCN], [:HCNHP, :O2], Symbol(\"2 .* 1.68e-8 .* (Ti .^ -0.5)\")]; Any[[:HO2P, :HCO], [:H2COP, :O2], Symbol(\"2 .* 1.23e-8 .* (Ti .^ -0.5)\")]; Any[[:HO2P, :N], [:NO2P, :H], Symbol(\"2 .* 1.0e-12\")]; Any[[:HO2P, :N2], [:N2HP, :O2], Symbol(\"2 .* 8.0e-10\")]; Any[[:HO2P, :NH], [:NH2P, :O2], Symbol(\"2 .* 1.09e-8 .* (Ti .^ -0.5)\")]; Any[[:HO2P, :NH2], [:NH3P, :O2], Symbol(\"2 .* 1.51e-8 .* (Ti .^ -0.5)\")]; Any[[:HO2P, :NO], [:HNOP, :O2], Symbol(\"2 .* 7.7e-10\")]; Any[[:HO2P, :O], [:OHP, :O2], Symbol(\"2 .* 6.2e-10\")]; Any[[:HO2P, :OH], [:H2OP, :O2], Symbol(\"2 .* 1.06e-8 .* (Ti .^ -0.5)\")]; Any[[:HOCP, :CO], [:HCOP, :CO], Symbol(\"2 .* 6.0e-10\")]; Any[[:HOCP, :CO2], [:HCO2P, :CO], Symbol(\"2 .* 9.45e-10\")]; Any[[:HOCP, :H2], [:H3P, :CO], Symbol(\"2 .* 2.68e-10\")]; Any[[:HOCP, :H2], [:HCOP, :H2], Symbol(\"2 .* 3.8e-10\")]; Any[[:HOCP, :N2], [:N2HP, :CO], Symbol(\"2 .* 6.7e-10\")]; Any[[:HOCP, :N2O], [:HN2OP, :CO], Symbol(\"2 .* 1.17e-9\")]; Any[[:HOCP, :NO], [:HNOP, :CO], Symbol(\"2 .* 7.1e-10\")]; Any[[:HOCP, :O2], [:HO2P, :CO], Symbol(\"2 .* 1.9e-10\")]; Any[[:HP, :CH], [:CHP, :H], Symbol(\"2 .* 3.29e-8 .* (Ti .^ -0.5)\")]; Any[[:HP, :CO2], [:HCOP, :O], Symbol(\"2 .* 3.8e-9\")]; Any[[:HP, :H], [:H2P], Symbol(\"2 .* 2.34e-22 .* (Ti .^ 1.49)*exp.(-228.0 ./ Ti)\")]; Any[[:HP, :H2O], [:H2OP, :H], Symbol(\"2 .* 8.2e-9\")]; Any[[:HP, :HCN], [:HCNP, :H], Symbol(\"2 .* 1.1e-8\")]; Any[[:HP, :HCO], [:COP, :H2], Symbol(\"2 .* 1.63e-8 .* (Ti .^ -0.5)\")]; Any[[:HP, :HCO], [:H2P, :CO], Symbol(\"2 .* 1.63e-8 .* (Ti .^ -0.5)\")]; Any[[:HP, :HCO], [:HCOP, :H], Symbol(\"2 .* 1.63e-8 .* (Ti .^ -0.5)\")]; Any[[:HP, :He], [:HeHP], Symbol(\"2 .* 3.14e-19 .* (Ti .^ -0.24)\")]; Any[[:HP, :HNO], [:NOP, :H2], Symbol(\"2 .* 6.93e-8 .* (Ti .^ -0.5)\")]; Any[[:HP, :N2O], [:N2HP, :O], Symbol(\"2 .* 3.52e-10\")]; Any[[:HP, :N2O], [:N2OP, :H], Symbol(\"2 .* 1.85e-9\")]; Any[[:HP, :NH], [:NHP, :H], Symbol(\"2 .* 3.64e-8 .* (Ti .^ -0.5)\")]; Any[[:HP, :NH2], [:NH2P, :H], Symbol(\"2 .* 5.02e-8 .* (Ti .^ -0.5)\")]; Any[[:HP, :NO], [:NOP, :H], Symbol(\"2 .* 1.9e-9\")]; Any[[:HP, :NO2], [:NOP, :OH], Symbol(\"2 .* 1.9e-9\")]; Any[[:HP, :O], [:OP, :H], Symbol(\"2 .* 3.75e-10\")]; Any[[:HP, :O2], [:O2P, :H], Symbol(\"2 .* 1.17e-9\")]; Any[[:HP, :OH], [:OHP, :H], Symbol(\"2 .* 3.64e-8 .* (Ti .^ -0.5)\")]; Any[[:N2HP, :C], [:CHP, :N2], Symbol(\"2 .* 1.1e-9\")]; Any[[:N2HP, :CH], [:CH2P, :N2], Symbol(\"2 .* 1.09e-8 .* (Ti .^ -0.5)\")]; Any[[:N2HP, :CO], [:HCOP, :N2], Symbol(\"2 .* 8.8e-10\")]; Any[[:N2HP, :CO2], [:HCO2P, :N2], Symbol(\"2 .* 1.07e-9\")]; Any[[:N2HP, :H2], [:H3P, :N2], Symbol(\"2 .* 5.1e-18\")]; Any[[:N2HP, :H2O], [:H3OP, :N2], Symbol(\"2 .* 2.6e-9\")]; Any[[:N2HP, :HCN], [:HCNHP, :N2], Symbol(\"2 .* 3.2e-9\")]; Any[[:N2HP, :HCO], [:H2COP, :N2], Symbol(\"2 .* 1.26e-8 .* (Ti .^ -0.5)\")]; Any[[:N2HP, :N2O], [:HN2OP, :N2], Symbol(\"2 .* 1.25e-9\")]; Any[[:N2HP, :NH], [:NH2P, :N2], Symbol(\"2 .* 1.11e-8 .* (Ti .^ -0.5)\")]; Any[[:N2HP, :NH2], [:NH3P, :N2], Symbol(\"2 .* 1.54e-8 .* (Ti .^ -0.5)\")]; Any[[:N2HP, :NO], [:HNOP, :N2], Symbol(\"2 .* 3.4e-10\")]; Any[[:N2HP, :O], [:OHP, :N2], Symbol(\"2 .* 1.4e-10\")]; Any[[:N2HP, :OH], [:H2OP, :N2], Symbol(\"2 .* 1.07e-8 .* (Ti .^ -0.5)\")]; Any[[:N2OP, :CO], [:CO2P, :N2], Symbol(\"2 .* 1.11e-10\")]; Any[[:N2OP, :CO], [:NOP, :NCO], Symbol(\"2 .* 1.89e-10\")]; Any[[:N2OP, :H2], [:HN2OP, :H], Symbol(\"2 .* 2.56e-10\")]; Any[[:N2OP, :H2], [:N2HP, :OH], Symbol(\"2 .* 1.04e-10\")]; Any[[:N2OP, :H2O], [:H2OP, :N2O], Symbol(\"2 .* 3.27e-8 .* (Ti .^ -0.5)\")]; Any[[:N2OP, :H2O], [:HN2OP, :OH], Symbol(\"2 .* 3.64e-9 .* (Ti .^ -0.5)\")]; Any[[:N2OP, :N2O], [:NOP, :NO, :N2], Symbol(\"2 .* 1.2e-11\")]; Any[[:N2OP, :NO], [:NOP, :N2O], Symbol(\"2 .* 2.3e-10\")]; Any[[:N2OP, :NO2], [:NO2P, :N2O], Symbol(\"2 .* 2.21e-10\")]; Any[[:N2OP, :NO2], [:NOP, :N2, :O2], Symbol(\"2 .* 4.29e-10\")]; Any[[:N2OP, :O2], [:NOP, :NO2], Symbol(\"2 .* 4.59e-11\")]; Any[[:N2OP, :O2], [:O2P, :N2O], Symbol(\"2 .* 2.24e-10\")]; Any[[:N2P, :Ar], [:ArP, :N2], Symbol(\"2 .* 2.0e-13\")]; Any[[:N2P, :C], [:CP, :N2], Symbol(\"2 .* 1.1e-10\")]; Any[[:N2P, :CH], [:CHP, :N2], Symbol(\"2 .* 1.09e-8 .* (Ti .^ -0.5)\")]; Any[[:N2P, :CN], [:CNP, :N2], Symbol(\"2 .* 1.73e-9 .* (Ti .^ -0.5)\")]; Any[[:N2P, :CO], [:COP, :N2], Symbol(\"2 .* 7.3e-11\")]; Any[[:N2P, :CO2], [:CO2P, :N2], Symbol(\"2 .* 8.0e-10\")]; Any[[:N2P, :H2], [:N2HP, :H], Symbol(\"2 .* 1.87e-9*exp.(-54.7 ./ Ti)\")]; Any[[:N2P, :H2O], [:H2OP, :N2], Symbol(\"2 .* 1.9e-9\")]; Any[[:N2P, :H2O], [:N2HP, :OH], Symbol(\"2 .* 5.04e-10\")]; Any[[:N2P, :HCN], [:HCNP, :N2], Symbol(\"2 .* 3.9e-10\")]; Any[[:N2P, :HCO], [:HCOP, :N2], Symbol(\"2 .* 6.41e-9 .* (Ti .^ -0.5)\")]; Any[[:N2P, :HCO], [:N2HP, :CO], Symbol(\"2 .* 6.41e-9 .* (Ti .^ -0.5)\")]; Any[[:N2P, :N], [:NP, :N2], Symbol(\"2 .* 1.4e-11\")]; Any[[:N2P, :N2O], [:N2OP, :N2], Symbol(\"2 .* 6.0e-10\")]; Any[[:N2P, :NH], [:NHP, :N2], Symbol(\"2 .* 1.13e-8 .* (Ti .^ -0.5)\")]; Any[[:N2P, :NH2], [:NH2P, :N2], Symbol(\"2 .* 1.54e-8 .* (Ti .^ -0.5)\")]; Any[[:N2P, :NO], [:NOP, :N2], Symbol(\"2 .* 4.4e-10\")]; Any[[:N2P, :O], [:NOP, :N], Symbol(\"2 .* 1.3e-10\")]; Any[[:N2P, :O], [:OP, :N2], Symbol(\"2 .* 9.8e-12\")]; Any[[:N2P, :O2], [:O2P, :N2], Symbol(\"2 .* 5.0e-11\")]; Any[[:N2P, :OH], [:OHP, :N2], Symbol(\"2 .* 1.09e-8 .* (Ti .^ -0.5)\")]; Any[[:NH2P, :CH], [:CH2P, :NH], Symbol(\"2 .* 6.06e-9 .* (Ti .^ -0.5)\")]; Any[[:NH2P, :CH], [:CHP, :NH2], Symbol(\"2 .* 6.06e-9 .* (Ti .^ -0.5)\")]; Any[[:NH2P, :CN], [:HCNHP, :N], Symbol(\"2 .* 1.73e-9 .* (Ti .^ -0.5)\")]; Any[[:NH2P, :H2], [:NH3P, :H], Symbol(\"2 .* 1.95e-10\")]; Any[[:NH2P, :H2O], [:H3OP, :NH], Symbol(\"2 .* 2.73e-9\")]; Any[[:NH2P, :H2O], [:NH3P, :OH], Symbol(\"2 .* 8.7e-11\")]; Any[[:NH2P, :H2O], [:NH4P, :O], Symbol(\"2 .* 1.16e-10\")]; Any[[:NH2P, :HCN], [:HCNHP, :NH], Symbol(\"2 .* 2.08e-8 .* (Ti .^ -0.5)\")]; Any[[:NH2P, :HCO], [:H2COP, :NH], Symbol(\"2 .* 7.45e-9 .* (Ti .^ -0.5)\")]; Any[[:NH2P, :HCO], [:HCOP, :NH2], Symbol(\"2 .* 7.45e-9 .* (Ti .^ -0.5)\")]; Any[[:NH2P, :N], [:N2HP, :H], Symbol(\"2 .* 9.1e-11\")]; Any[[:NH2P, :NH], [:NH3P, :N], Symbol(\"2 .* 1.26e-8 .* (Ti .^ -0.5)\")]; Any[[:NH2P, :NH2], [:NH3P, :NH], Symbol(\"2 .* 1.73e-8 .* (Ti .^ -0.5)\")]; Any[[:NH2P, :NO], [:NOP, :NH2], Symbol(\"2 .* 7.0e-10\")]; Any[[:NH2P, :O], [:HNOP, :H], Symbol(\"2 .* 7.2e-11\")]; Any[[:NH2P, :O2], [:H2NOP, :O], Symbol(\"2 .* 1.19e-10\")]; Any[[:NH2P, :O2], [:HNOP, :OH], Symbol(\"2 .* 2.1e-11\")]; Any[[:NH3P, :CH], [:NH4P, :C], Symbol(\"2 .* 1.2e-8 .* (Ti .^ -0.5)\")]; Any[[:NH3P, :H2], [:NH4P, :H], Symbol(\"2 .* 4.4e-13\")]; Any[[:NH3P, :H2O], [:NH4P, :OH], Symbol(\"2 .* 2.5e-10\")]; Any[[:NH3P, :HCO], [:NH4P, :CO], Symbol(\"2 .* 7.27e-9 .* (Ti .^ -0.5)\")]; Any[[:NH3P, :NO], [:NOP, :NH3], Symbol(\"2 .* 7.2e-10\")]; Any[[:NHP, :C], [:CHP, :N], Symbol(\"2 .* 1.6e-9\")]; Any[[:NHP, :CH], [:CH2P, :N], Symbol(\"2 .* 1.71e-8 .* (Ti .^ -0.5)\")]; Any[[:NHP, :CN], [:HCNP, :N], Symbol(\"2 .* 2.77e-8 .* (Ti .^ -0.5)\")]; Any[[:NHP, :CO], [:HCOP, :N], Symbol(\"2 .* 4.41e-10\")]; Any[[:NHP, :CO], [:OCNP, :H], Symbol(\"2 .* 5.39e-10\")]; Any[[:NHP, :CO2], [:HCO2P, :N], Symbol(\"2 .* 3.85e-10\")]; Any[[:NHP, :CO2], [:HNOP, :CO], Symbol(\"2 .* 3.85e-10\")]; Any[[:NHP, :CO2], [:NOP, :HCO], Symbol(\"2 .* 3.3e-10\")]; Any[[:NHP, :H2], [:H3P, :N], Symbol(\"2 .* 1.85e-10\")]; Any[[:NHP, :H2], [:NH2P, :H], Symbol(\"2 .* 1.05e-9\")]; Any[[:NHP, :H2O], [:H2OP, :NH], Symbol(\"2 .* 1.05e-9\")]; Any[[:NHP, :H2O], [:H3OP, :N], Symbol(\"2 .* 1.05e-9\")]; Any[[:NHP, :H2O], [:HNOP, :H2], Symbol(\"2 .* 3.5e-10\")]; Any[[:NHP, :H2O], [:NH2P, :OH], Symbol(\"2 .* 8.75e-10\")]; Any[[:NHP, :H2O], [:NH3P, :O], Symbol(\"2 .* 1.75e-10\")]; Any[[:NHP, :HCN], [:HCNHP, :N], Symbol(\"2 .* 3.12e-8 .* (Ti .^ -0.5)\")]; Any[[:NHP, :HCO], [:H2COP, :N], Symbol(\"2 .* 2.25e-8 .* (Ti .^ -0.5)\")]; Any[[:NHP, :N], [:N2P, :H], Symbol(\"2 .* 1.3e-9\")]; Any[[:NHP, :N2], [:N2HP, :N], Symbol(\"2 .* 6.5e-10\")]; Any[[:NHP, :NH], [:NH2P, :N], Symbol(\"2 .* 1.73e-8 .* (Ti .^ -0.5)\")]; Any[[:NHP, :NH2], [:NH3P, :N], Symbol(\"2 .* 2.6e-8 .* (Ti .^ -0.5)\")]; Any[[:NHP, :NO], [:N2HP, :O], Symbol(\"2 .* 1.78e-10\")]; Any[[:NHP, :NO], [:NOP, :NH], Symbol(\"2 .* 7.12e-10\")]; Any[[:NHP, :O], [:OHP, :N], Symbol(\"2 .* 1.0e-9\")]; Any[[:NHP, :O2], [:HO2P, :N], Symbol(\"2 .* 1.64e-10\")]; Any[[:NHP, :O2], [:NOP, :OH], Symbol(\"2 .* 2.05e-10\")]; Any[[:NHP, :O2], [:O2P, :NH], Symbol(\"2 .* 4.51e-10\")]; Any[[:NHP, :OH], [:H2OP, :N], Symbol(\"2 .* 1.73e-8 .* (Ti .^ -0.5)\")]; Any[[:NO2P, :H], [:NOP, :OH], Symbol(\"2 .* 1.9e-10\")]; Any[[:NO2P, :H2], [:NOP, :H2O], Symbol(\"2 .* 1.5e-10\")]; Any[[:NO2P, :NO], [:NOP, :NO2], Symbol(\"2 .* 2.75e-10\")]; Any[[:NP, :CH], [:CNP, :H], Symbol(\"2 .* 6.24e-9 .* (Ti .^ -0.5)\")]; Any[[:NP, :CN], [:CNP, :N], Symbol(\"2 .* 1.91e-8 .* (Ti .^ -0.5)\")]; Any[[:NP, :CO], [:COP, :N], Symbol(\"2 .* 4.93e-10\")]; Any[[:NP, :CO], [:CP, :NO], Symbol(\"2 .* 5.6e-12\")]; Any[[:NP, :CO], [:NOP, :C], Symbol(\"2 .* 6.16e-11\")]; Any[[:NP, :CO2], [:CO2P, :N], Symbol(\"2 .* 9.18e-10\")]; Any[[:NP, :CO2], [:COP, :NO], Symbol(\"2 .* 2.02e-10\")]; Any[[:NP, :H2], [:NHP, :H], Symbol(\"2 .* 5.0e-10*exp.(-85.0 ./ Ti)\")]; Any[[:NP, :H2O], [:H2OP, :N], Symbol(\"2 .* 2.7e-9\")]; Any[[:NP, :HCN], [:HCNP, :N], Symbol(\"2 .* 3.7e-9\")]; Any[[:NP, :HCO], [:HCOP, :N], Symbol(\"2 .* 7.79e-9 .* (Ti .^ -0.5)\")]; Any[[:NP, :HCO], [:NHP, :CO], Symbol(\"2 .* 7.79e-9 .* (Ti .^ -0.5)\")]; Any[[:NP, :N], [:N2P], Symbol(\"2 .* 9.44e-19 .* (Ti .^ 0.24)*exp.(-26.1 ./ Ti)\")]; Any[[:NP, :N2O], [:NOP, :N2], Symbol(\"2 .* 5.5e-10\")]; Any[[:NP, :NH], [:N2P, :H], Symbol(\"2 .* 6.41e-9 .* (Ti .^ -0.5)\")]; Any[[:NP, :NH], [:NHP, :N], Symbol(\"2 .* 6.41e-9 .* (Ti .^ -0.5)\")]; Any[[:NP, :NH2], [:NH2P, :N], Symbol(\"2 .* 1.73e-8 .* (Ti .^ -0.5)\")]; Any[[:NP, :NO], [:N2P, :O], Symbol(\"2 .* 8.33e-11\")]; Any[[:NP, :NO], [:NOP, :N], Symbol(\"2 .* 4.72e-10\")]; Any[[:NP, :O2], [:NOP, :O], Symbol(\"2 .* 2.32e-10\")]; Any[[:NP, :O2], [:O2P, :N], Symbol(\"2 .* 3.07e-10\")]; Any[[:NP, :O2], [:OP, :NO], Symbol(\"2 .* 4.64e-11\")]; Any[[:NP, :OH], [:OHP, :N], Symbol(\"2 .* 6.41e-9 .* (Ti .^ -0.5)\")]; Any[[:O2DP, :H2], [:H2P, :O], Symbol(\"2 .* 4.4e-8 .* (Ti .^ -0.98)*exp.(-302.4 ./ Ti)\")]; Any[[:O2DP, :H2], [:HP, :OH], Symbol(\"2 .* 1.62e-8 .* (Ti .^ -0.95)*exp.(-335.1 ./ Ti)\")]; Any[[:O2DP, :H2], [:OHP, :H], Symbol(\"2 .* 1.5e-9\")]; Any[[:O2P, :C], [:COP, :O], Symbol(\"2 .* 5.2e-11\")]; Any[[:O2P, :C], [:CP, :O2], Symbol(\"2 .* 5.2e-11\")]; Any[[:O2P, :CH], [:CHP, :O2], Symbol(\"2 .* 5.37e-9 .* (Ti .^ -0.5)\")]; Any[[:O2P, :CH], [:HCOP, :O], Symbol(\"2 .* 5.37e-9 .* (Ti .^ -0.5)\")]; Any[[:O2P, :HCO], [:HCOP, :O2], Symbol(\"2 .* 6.24e-9 .* (Ti .^ -0.5)\")]; Any[[:O2P, :HCO], [:HO2P, :CO], Symbol(\"2 .* 6.24e-9 .* (Ti .^ -0.5)\")]; Any[[:O2P, :N], [:NOP, :O], Symbol(\"2 .* 1.0e-10\")]; Any[[:O2P, :NH], [:HNOP, :O], Symbol(\"2 .* 5.54e-9 .* (Ti .^ -0.5)\")]; Any[[:O2P, :NH], [:NO2P, :H], Symbol(\"2 .* 5.54e-9 .* (Ti .^ -0.5)\")]; Any[[:O2P, :NH2], [:NH2P, :O2], Symbol(\"2 .* 1.51e-8 .* (Ti .^ -0.5)\")]; Any[[:O2P, :NO], [:NOP, :O2], Symbol(\"2 .* 4.6e-10\")]; Any[[:O2P, :NO2], [:NO2P, :O2], Symbol(\"2 .* 6.6e-10\")]; Any[[:OHP, :C], [:CHP, :O], Symbol(\"2 .* 1.2e-9\")]; Any[[:OHP, :CH], [:CH2P, :O], Symbol(\"2 .* 6.06e-9 .* (Ti .^ -0.5)\")]; Any[[:OHP, :CH], [:CHP, :OH], Symbol(\"2 .* 6.06e-9 .* (Ti .^ -0.5)\")]; Any[[:OHP, :CN], [:HCNP, :O], Symbol(\"2 .* 1.73e-8 .* (Ti .^ -0.5)\")]; Any[[:OHP, :CO], [:HCOP, :O], Symbol(\"2 .* 8.4e-10\")]; Any[[:OHP, :CO2], [:HCO2P, :O], Symbol(\"2 .* 1.35e-9\")]; Any[[:OHP, :H2], [:H2OP, :H], Symbol(\"2 .* 9.7e-10\")]; Any[[:OHP, :H2O], [:H2OP, :OH], Symbol(\"2 .* 1.59e-9\")]; Any[[:OHP, :H2O], [:H3OP, :O], Symbol(\"2 .* 1.3e-9\")]; Any[[:OHP, :HCN], [:HCNHP, :O], Symbol(\"2 .* 2.08e-8 .* (Ti .^ -0.5)\")]; Any[[:OHP, :HCO], [:H2COP, :O], Symbol(\"2 .* 4.85e-9 .* (Ti .^ -0.5)\")]; Any[[:OHP, :HCO], [:H2OP, :CO], Symbol(\"2 .* 4.85e-9 .* (Ti .^ -0.5)\")]; Any[[:OHP, :HCO], [:HCOP, :OH], Symbol(\"2 .* 4.85e-9 .* (Ti .^ -0.5)\")]; Any[[:OHP, :N], [:NOP, :H], Symbol(\"2 .* 8.9e-10\")]; Any[[:OHP, :N2], [:N2HP, :O], Symbol(\"2 .* 2.4e-10\")]; Any[[:OHP, :N2O], [:HN2OP, :O], Symbol(\"2 .* 9.58e-10\")]; Any[[:OHP, :N2O], [:N2OP, :OH], Symbol(\"2 .* 2.13e-10\")]; Any[[:OHP, :N2O], [:NOP, :HNO], Symbol(\"2 .* 1.46e-10\")]; Any[[:OHP, :NH], [:NH2P, :O], Symbol(\"2 .* 6.24e-9 .* (Ti .^ -0.5)\")]; Any[[:OHP, :NH2], [:NH2P, :OH], Symbol(\"2 .* 8.66e-9 .* (Ti .^ -0.5)\")]; Any[[:OHP, :NH2], [:NH3P, :O], Symbol(\"2 .* 8.66e-9 .* (Ti .^ -0.5)\")]; Any[[:OHP, :NO], [:HNOP, :O], Symbol(\"2 .* 6.11e-10\")]; Any[[:OHP, :NO], [:NOP, :OH], Symbol(\"2 .* 8.15e-10\")]; Any[[:OHP, :O], [:O2P, :H], Symbol(\"2 .* 7.1e-10\")]; Any[[:OHP, :O2], [:O2P, :OH], Symbol(\"2 .* 3.8e-10\")]; Any[[:OHP, :OH], [:H2OP, :O], Symbol(\"2 .* 1.21e-8 .* (Ti .^ -0.5)\")]; Any[[:OP, :CH], [:CHP, :O], Symbol(\"2 .* 6.06e-9 .* (Ti .^ -0.5)\")]; Any[[:OP, :CH], [:COP, :H], Symbol(\"2 .* 6.06e-9 .* (Ti .^ -0.5)\")]; Any[[:OP, :CN], [:NOP, :C], Symbol(\"2 .* 1.73e-8 .* (Ti .^ -0.5)\")]; Any[[:OP, :CO2], [:O2P, :CO], Symbol(\"2 .* 1.1e-9\")]; Any[[:OP, :H], [:HP, :O], Symbol(\"2 .* 6.4e-10\")]; Any[[:OP, :H2], [:OHP, :H], Symbol(\"2 .* 1.62e-9\")]; Any[[:OP, :H2O], [:H2OP, :O], Symbol(\"2 .* 2.6e-9\")]; Any[[:OP, :HCN], [:COP, :NH], Symbol(\"2 .* 1.17e-9\")]; Any[[:OP, :HCN], [:HCOP, :N], Symbol(\"2 .* 1.17e-9\")]; Any[[:OP, :HCN], [:NOP, :CH], Symbol(\"2 .* 1.17e-9\")]; Any[[:OP, :HCO], [:HCOP, :O], Symbol(\"2 .* 7.45e-9 .* (Ti .^ -0.5)\")]; Any[[:OP, :HCO], [:OHP, :CO], Symbol(\"2 .* 7.45e-9 .* (Ti .^ -0.5)\")]; Any[[:OP, :N2], [:NOP, :N], Symbol(\"2 .* 4.58e-9 .* (Ti .^ -1.37)*exp.(-28.592 ./ Ti)\")]; Any[[:OP, :N2O], [:N2OP, :O], Symbol(\"2 .* 6.3e-10\")]; Any[[:OP, :NH], [:NHP, :O], Symbol(\"2 .* 6.24e-9 .* (Ti .^ -0.5)\")]; Any[[:OP, :NH], [:NOP, :H], Symbol(\"2 .* 6.24e-9 .* (Ti .^ -0.5)\")]; Any[[:OP, :NH2], [:NH2P, :O], Symbol(\"2 .* 1.73e-8 .* (Ti .^ -0.5)\")]; Any[[:OP, :NO], [:NOP, :O], Symbol(\"2 .* 8.0e-13\")]; Any[[:OP, :NO2], [:NO2P, :O], Symbol(\"2 .* 1.6e-9\")]; Any[[:OP, :NO2], [:NOP, :O2], Symbol(\"2 .* 8.3e-10\")]; Any[[:OP, :O2], [:O2P, :O], Symbol(\"2 .* 2.1e-11\")]; Any[[:OP, :OH], [:O2P, :H], Symbol(\"2 .* 6.24e-9 .* (Ti .^ -0.5)\")]; Any[[:OP, :OH], [:OHP, :O], Symbol(\"2 .* 6.24e-9 .* (Ti .^ -0.5)\")]; Any[[:ArHP, :E], [:Ar, :H], Symbol(\"2 .* 1.0e-9\")]; Any[[:ArP, :E], [:Ar], Symbol(\"2 .* 4.0e-12 .* (Te .^ 0.6)\")]; Any[[:CHP, :E], [:C, :H], Symbol(\"2 .* 1.65e-6 .* (Te .^ -0.42)\")]; Any[[:CNP, :E], [:N, :C], Symbol(\"2 .* 3.12e-6 .* (Te .^ -0.5)\")]; Any[[:CO2P, :E], [:CO, :O], Symbol(\"2 .* 3.03e-5 .* (Te .^ -0.75)\")]; Any[[:COP, :E], [:O, :C], Symbol(\"2 .* 4.82e-6 .* (Te .^ -0.55)\")]; Any[[:COP, :E], [:O1D, :C], Symbol(\"2 .* 2.48e-8 .* (Te .^ -0.55)\")]; Any[[:CP, :E], [:C], Symbol(\"2 .* 6.28e-10 .* (Te .^ -0.59)\")]; Any[[:H2OP, :E], [:O, :H, :H], Symbol(\"2 .* 2.08e-5 .* (Te .^ -0.74)\")]; Any[[:H2OP, :E], [:H2, :O], Symbol(\"2 .* 2.64e-6 .* (Te .^ -0.74)\")]; Any[[:H2OP, :E], [:OH, :H], Symbol(\"2 .* 5.86e-6 .* (Te .^ -0.74)\")]; Any[[:H2P, :E], [:H, :H], Symbol(\"2 .* 1.86e-7 .* (Te .^ -0.43)\")]; Any[[:H3OP, :E], [:H2, :O, :H], Symbol(\"2 .* 9.68e-8 .* (Te .^ -0.5)\")]; Any[[:H3OP, :E], [:H2O, :H], Symbol(\"2 .* 1.86e-6 .* (Te .^ -0.5)\")]; Any[[:H3OP, :E], [:OH, :H, :H], Symbol(\"2 .* 4.47e-6 .* (Te .^ -0.5)\")]; Any[[:H3OP, :E], [:OH, :H2], Symbol(\"2 .* 1.04e-6 .* (Te .^ -0.5)\")]; Any[[:H3P, :E], [:H, :H, :H], Symbol(\"2 .* 8.46e-7 .* (Te .^ -0.52)\")]; Any[[:H3P, :E], [:H2, :H], Symbol(\"2 .* 4.54e-7 .* (Te .^ -0.52)\")]; Any[[:HCNHP, :E], [:CN, :H, :H], Symbol(\"2 .* 3.79e-6 .* (Te .^ -0.65)\")]; Any[[:HCNP, :E], [:CN, :H], Symbol(\"2 .* 3.46e-6 .* (Te .^ -0.5)\")]; Any[[:HCO2P, :E], [:CO, :O, :H], Symbol(\"2 .* 2.18e-7\")]; Any[[:HCO2P, :E], [:CO, :OH], Symbol(\"2 .* 9.18e-8\")]; Any[[:HCO2P, :E], [:CO2, :H], Symbol(\"2 .* 1.7e-8\")]; Any[[:HCOP, :E], [:CH, :O], Symbol(\"2 .* 1.15e-7 .* (Te .^ -0.64)\")]; Any[[:HCOP, :E], [:CO, :H], Symbol(\"2 .* 1.06e-5 .* (Te .^ -0.64)\")]; Any[[:HCOP, :E], [:OH, :C], Symbol(\"2 .* 8.08e-7 .* (Te .^ -0.64)\")]; Any[[:HeP, :E], [:He], Symbol(\"2 .* 9.28e-11 .* (Te .^ -0.5)\")]; Any[[:HN2OP, :E], [:N2, :O, :H], Symbol(\"2 .* 3.81e-5 .* (Te .^ -0.74)\")]; Any[[:HN2OP, :E], [:N2, :OH], Symbol(\"2 .* 4.38e-5 .* (Te .^ -0.74)\")]; Any[[:HNOP, :E], [:NO, :H], Symbol(\"2 .* 5.2e-6 .* (Te .^ -0.5)\")]; Any[[:HO2P, :E], [:O2, :H], Symbol(\"2 .* 5.2e-6 .* (Te .^ -0.5)\")]; Any[[:HOCP, :E], [:CH, :O], Symbol(\"2 .* 1.7e-9 .* (Te .^ 1.2)\")]; Any[[:HOCP, :E], [:CO, :H], Symbol(\"2 .* 3.3e-5 .* (Te .^ -1.0)\")]; Any[[:HOCP, :E], [:OH, :C], Symbol(\"2 .* 1.19e-8 .* (Te .^ 1.2)\")]; Any[[:HP, :E], [:H], Symbol(\"2 .* 6.46e-14 .* (Te .^ 0.7)\")]; Any[[:N2HP, :E], [:N2, :H], Symbol(\"2 .* 6.6e-7 .* (Te .^ -0.51)\")]; Any[[:N2HP, :E], [:NH, :N], Symbol(\"2 .* 1.17e-6 .* (Te .^ -0.51)\")]; Any[[:N2OP, :E], [:N, :N, :O], Symbol(\"2 .* 1.36e-6 .* (Te .^ -0.57)\")]; Any[[:N2OP, :E], [:N2, :O], Symbol(\"2 .* 4.09e-6 .* (Te .^ -0.57)\")]; Any[[:N2OP, :E], [:NO, :N], Symbol(\"2 .* 3.07e-6 .* (Te .^ -0.57)\")]; Any[[:N2P, :E], [:N, :N], Symbol(\"2 .* 5.09e-7 .* (Te .^ -0.39)\")]; Any[[:N2P, :E], [:N2D, :N2D], Symbol(\"2 .* 1.42e-6 .* (Te .^ -0.39)\")]; Any[[:NH2P, :E], [:N, :H, :H], Symbol(\"2 .* 1.71e-5 .* (Te .^ -0.8)*exp.(-17.1 ./ Te)\")]; Any[[:NH2P, :E], [:NH, :H], Symbol(\"2 .* 8.34e-6 .* (Te .^ -0.79)*exp.(-17.1 ./ Te)\")]; Any[[:NH3P, :E], [:NH, :H, :H], Symbol(\"2 .* 2.68e-6 .* (Te .^ -0.5)\")]; Any[[:NH3P, :E], [:NH2, :H], Symbol(\"2 .* 2.68e-6 .* (Te .^ -0.5)\")]; Any[[:NHP, :E], [:N, :H], Symbol(\"2 .* 7.45e-7 .* (Te .^ -0.5)\")]; Any[[:NO2P, :E], [:NO, :O], Symbol(\"2 .* 5.2e-6 .* (Te .^ -0.5)\")]; Any[[:NOP, :E], [:O, :N], Symbol(\"2 .* 8.52e-7 .* (Te .^ -0.37)\")]; Any[[:NOP, :E], [:O, :N2D], Symbol(\"2 .* 4.53e-9 .* (Te .^ 0.75)\")]; Any[[:NP, :E], [:N], Symbol(\"2 .* 1.9e-10 .* (Te .^ -0.7)\")]; Any[[:O2P, :E], [:O, :O], Symbol(\"2 .* 8.15e-6 .* (Te .^ -0.65)\")]; Any[[:OHP, :E], [:O, :H], Symbol(\"2 .* 6.5e-7 .* (Te .^ -0.5)\")]; Any[[:OP, :E], [:O], Symbol(\"2 .* 1.4e-10 .* (Te .^ -0.66)\")]]\n"
     ]
    }
   ],
   "source": [
    "for i in range(1, stop=numrows)\n",
    "    \n",
    "    # set up the reaction\n",
    "    reactants = [Symbol(ion_table[i, :].R1), Symbol(ion_table[i, :].R2)]\n",
    "    products = [ion_table[i, :].P1, ion_table[i, :].P2, ion_table[i, :].P3]\n",
    "    products = filter!(j->j!=\"-0\", products)\n",
    "    products = [Symbol(j) for j in products]\n",
    "    \n",
    "    \n",
    "    \n",
    "    # electron vs. ion temperature\n",
    "    if ion_table[i, :].type == -4\n",
    "        Tstr = \"Te\"\n",
    "    else\n",
    "        Tstr = \"Ti\"\n",
    "    end\n",
    "    \n",
    "    # construct the symbolic rate expression\n",
    "    k_A = \"2 .* \"*string(ion_table[i, :].kA)   \n",
    "    if ion_table[i, :].kB != 0\n",
    "        k_B = \" .* (\"*Tstr*\" .^ $(ion_table[i, :].kB))\"\n",
    "    else\n",
    "        k_B = \"\"\n",
    "    end\n",
    "    if ion_table[i, :].kC != 0\n",
    "        k_C = \"*exp.($(ion_table[i, :].kC) ./ \"*Tstr*\")\"\n",
    "    else\n",
    "        k_C = \"\"\n",
    "    end\n",
    "    \n",
    "    ion_network[i] = [reactants, products, Symbol(k_A * k_B * k_C)]\n",
    "    \n",
    "end\n",
    "\n",
    "println(ion_network)"
   ]
  },
  {
   "cell_type": "markdown",
   "metadata": {},
   "source": [
    "# Same but for neutrals"
   ]
  },
  {
   "cell_type": "code",
   "execution_count": 2,
   "metadata": {},
   "outputs": [
    {
     "data": {
      "text/html": [
       "<table class=\"data-frame\"><thead><tr><th></th><th>R1</th><th>R2</th><th>P1</th><th>P2</th><th>P3</th><th>type</th><th>kA</th><th>kB</th><th>kC</th><th>k0A</th></tr><tr><th></th><th>String</th><th>String</th><th>String</th><th>String</th><th>String?</th><th>Int64</th><th>Float64</th><th>Float64</th><th>Float64</th><th>Float64</th></tr></thead><tbody><p>229 rows × 19 columns (omitted printing of 9 columns)</p><tr><th>1</th><td>C</td><td>C</td><td>C2</td><td>-0</td><td>-0</td><td>2</td><td>2.16e-11</td><td>0.0</td><td>0.0</td><td>0.0</td></tr><tr><th>2</th><td>C</td><td>H</td><td>CH</td><td>-0</td><td>-0</td><td>2</td><td>1.0e-17</td><td>0.0</td><td>0.0</td><td>0.0</td></tr><tr><th>3</th><td>C</td><td>N</td><td>CN</td><td>-0</td><td>-0</td><td>2</td><td>6.93e-20</td><td>0.37</td><td>-51.0</td><td>0.0</td></tr><tr><th>4</th><td>CH</td><td>C</td><td>C2</td><td>H</td><td>-0</td><td>2</td><td>6.59e-11</td><td>0.0</td><td>0.0</td><td>0.0</td></tr><tr><th>5</th><td>CH</td><td>H</td><td>H2</td><td>C</td><td>-0</td><td>2</td><td>1.31e-10</td><td>0.0</td><td>-80.0</td><td>0.0</td></tr><tr><th>6</th><td>CH</td><td>H2</td><td>CH2</td><td>H</td><td>-0</td><td>2</td><td>2.9e-10</td><td>0.0</td><td>-1670.0</td><td>0.0</td></tr><tr><th>7</th><td>CH</td><td>H2</td><td>CH2</td><td>H</td><td>-0</td><td>4</td><td>8.5e-11</td><td>0.15</td><td>0.0</td><td>4.7e-26</td></tr><tr><th>8</th><td>CH</td><td>H2</td><td>CH3</td><td>-0</td><td>-0</td><td>2</td><td>2.92e-16</td><td>-0.71</td><td>-11.6</td><td>0.0</td></tr><tr><th>9</th><td>CH</td><td>N</td><td>CN</td><td>H</td><td>-0</td><td>2</td><td>2.77e-10</td><td>-0.09</td><td>0.0</td><td>0.0</td></tr><tr><th>10</th><td>CH</td><td>O</td><td>CO</td><td>H</td><td>-0</td><td>2</td><td>6.6e-11</td><td>0.0</td><td>0.0</td><td>0.0</td></tr><tr><th>11</th><td>CH</td><td>O</td><td>HCOP</td><td>E</td><td>-0</td><td>2</td><td>4.2e-13</td><td>0.0</td><td>-850.0</td><td>0.0</td></tr><tr><th>12</th><td>CH</td><td>O</td><td>OH</td><td>C</td><td>-0</td><td>2</td><td>2.52e-11</td><td>0.0</td><td>-2381.0</td><td>0.0</td></tr><tr><th>13</th><td>CN</td><td>H2</td><td>HCN</td><td>H</td><td>-0</td><td>2</td><td>1.8e-19</td><td>2.6</td><td>-960.0</td><td>0.0</td></tr><tr><th>14</th><td>CN</td><td>N</td><td>N2</td><td>C</td><td>-0</td><td>2</td><td>9.8e-10</td><td>-0.4</td><td>0.0</td><td>0.0</td></tr><tr><th>15</th><td>CN</td><td>NH</td><td>HCN</td><td>N</td><td>-0</td><td>2</td><td>1.7e-13</td><td>0.5</td><td>-1000.0</td><td>0.0</td></tr><tr><th>16</th><td>CN</td><td>O</td><td>CO</td><td>N</td><td>-0</td><td>2</td><td>5.0e-11</td><td>0.0</td><td>-200.0</td><td>0.0</td></tr><tr><th>17</th><td>CN</td><td>O</td><td>NO</td><td>C</td><td>-0</td><td>2</td><td>5.37e-11</td><td>0.0</td><td>-13800.0</td><td>0.0</td></tr><tr><th>18</th><td>CO</td><td>H</td><td>HCO</td><td>-0</td><td>-0</td><td>4</td><td>1.0</td><td>0.2</td><td>0.0</td><td>2.0e-35</td></tr><tr><th>19</th><td>CO</td><td>O</td><td>CO2</td><td>-0</td><td>-0</td><td>4</td><td>1.0</td><td>0.0</td><td>-1509.0</td><td>1.7e-33</td></tr><tr><th>20</th><td>CO</td><td>OH</td><td>CO2</td><td>H</td><td>-0</td><td>2</td><td>1.5e-13</td><td>0.0</td><td>0.0</td><td>0.0</td></tr><tr><th>21</th><td>CO</td><td>OH</td><td>HOCO</td><td>-0</td><td>-0</td><td>5</td><td>6.62e-16</td><td>1.3</td><td>0.0</td><td>1.77e-30</td></tr><tr><th>22</th><td>CO2</td><td>CH</td><td>HCO</td><td>CO</td><td>-0</td><td>2</td><td>1.7e-14</td><td>0.5</td><td>-3000.0</td><td>0.0</td></tr><tr><th>23</th><td>CO2</td><td>H</td><td>CO</td><td>OH</td><td>-0</td><td>2</td><td>3.38e-10</td><td>0.0</td><td>-13163.0</td><td>0.0</td></tr><tr><th>24</th><td>CO2</td><td>N</td><td>NO</td><td>CO</td><td>-0</td><td>2</td><td>3.2e-13</td><td>0.0</td><td>-1710.0</td><td>0.0</td></tr><tr><th>25</th><td>CO2</td><td>O</td><td>O2</td><td>CO</td><td>-0</td><td>2</td><td>2.46e-11</td><td>0.0</td><td>-26567.0</td><td>0.0</td></tr><tr><th>26</th><td>H</td><td>H</td><td>H2</td><td>-0</td><td>-0</td><td>4</td><td>1.0</td><td>-1.0</td><td>0.0</td><td>1.8e-30</td></tr><tr><th>27</th><td>H2</td><td>C</td><td>CH</td><td>H</td><td>-0</td><td>2</td><td>6.64e-10</td><td>0.0</td><td>-11700.0</td><td>0.0</td></tr><tr><th>28</th><td>H2</td><td>O</td><td>OH</td><td>H</td><td>-0</td><td>2</td><td>6.44e-20</td><td>2.7</td><td>-3150.0</td><td>0.0</td></tr><tr><th>29</th><td>H2O</td><td>H</td><td>OH</td><td>H2</td><td>-0</td><td>2</td><td>1.69e-14</td><td>1.2</td><td>-9610.0</td><td>0.0</td></tr><tr><th>30</th><td>H2O</td><td>O</td><td>OH</td><td>OH</td><td>-0</td><td>2</td><td>8.2e-14</td><td>0.95</td><td>-8571.0</td><td>0.0</td></tr><tr><th>&vellip;</th><td>&vellip;</td><td>&vellip;</td><td>&vellip;</td><td>&vellip;</td><td>&vellip;</td><td>&vellip;</td><td>&vellip;</td><td>&vellip;</td><td>&vellip;</td><td>&vellip;</td></tr></tbody></table>"
      ],
      "text/latex": [
       "\\begin{tabular}{r|ccccccccccc}\n",
       "\t& R1 & R2 & P1 & P2 & P3 & type & kA & kB & kC & k0A & \\\\\n",
       "\t\\hline\n",
       "\t& String & String & String & String & String? & Int64 & Float64 & Float64 & Float64 & Float64 & \\\\\n",
       "\t\\hline\n",
       "\t1 & C & C & C2 & -0 & -0 & 2 & 2.16e-11 & 0.0 & 0.0 & 0.0 & $\\dots$ \\\\\n",
       "\t2 & C & H & CH & -0 & -0 & 2 & 1.0e-17 & 0.0 & 0.0 & 0.0 & $\\dots$ \\\\\n",
       "\t3 & C & N & CN & -0 & -0 & 2 & 6.93e-20 & 0.37 & -51.0 & 0.0 & $\\dots$ \\\\\n",
       "\t4 & CH & C & C2 & H & -0 & 2 & 6.59e-11 & 0.0 & 0.0 & 0.0 & $\\dots$ \\\\\n",
       "\t5 & CH & H & H2 & C & -0 & 2 & 1.31e-10 & 0.0 & -80.0 & 0.0 & $\\dots$ \\\\\n",
       "\t6 & CH & H2 & CH2 & H & -0 & 2 & 2.9e-10 & 0.0 & -1670.0 & 0.0 & $\\dots$ \\\\\n",
       "\t7 & CH & H2 & CH2 & H & -0 & 4 & 8.5e-11 & 0.15 & 0.0 & 4.7e-26 & $\\dots$ \\\\\n",
       "\t8 & CH & H2 & CH3 & -0 & -0 & 2 & 2.92e-16 & -0.71 & -11.6 & 0.0 & $\\dots$ \\\\\n",
       "\t9 & CH & N & CN & H & -0 & 2 & 2.77e-10 & -0.09 & 0.0 & 0.0 & $\\dots$ \\\\\n",
       "\t10 & CH & O & CO & H & -0 & 2 & 6.6e-11 & 0.0 & 0.0 & 0.0 & $\\dots$ \\\\\n",
       "\t11 & CH & O & HCOP & E & -0 & 2 & 4.2e-13 & 0.0 & -850.0 & 0.0 & $\\dots$ \\\\\n",
       "\t12 & CH & O & OH & C & -0 & 2 & 2.52e-11 & 0.0 & -2381.0 & 0.0 & $\\dots$ \\\\\n",
       "\t13 & CN & H2 & HCN & H & -0 & 2 & 1.8e-19 & 2.6 & -960.0 & 0.0 & $\\dots$ \\\\\n",
       "\t14 & CN & N & N2 & C & -0 & 2 & 9.8e-10 & -0.4 & 0.0 & 0.0 & $\\dots$ \\\\\n",
       "\t15 & CN & NH & HCN & N & -0 & 2 & 1.7e-13 & 0.5 & -1000.0 & 0.0 & $\\dots$ \\\\\n",
       "\t16 & CN & O & CO & N & -0 & 2 & 5.0e-11 & 0.0 & -200.0 & 0.0 & $\\dots$ \\\\\n",
       "\t17 & CN & O & NO & C & -0 & 2 & 5.37e-11 & 0.0 & -13800.0 & 0.0 & $\\dots$ \\\\\n",
       "\t18 & CO & H & HCO & -0 & -0 & 4 & 1.0 & 0.2 & 0.0 & 2.0e-35 & $\\dots$ \\\\\n",
       "\t19 & CO & O & CO2 & -0 & -0 & 4 & 1.0 & 0.0 & -1509.0 & 1.7e-33 & $\\dots$ \\\\\n",
       "\t20 & CO & OH & CO2 & H & -0 & 2 & 1.5e-13 & 0.0 & 0.0 & 0.0 & $\\dots$ \\\\\n",
       "\t21 & CO & OH & HOCO & -0 & -0 & 5 & 6.62e-16 & 1.3 & 0.0 & 1.77e-30 & $\\dots$ \\\\\n",
       "\t22 & CO2 & CH & HCO & CO & -0 & 2 & 1.7e-14 & 0.5 & -3000.0 & 0.0 & $\\dots$ \\\\\n",
       "\t23 & CO2 & H & CO & OH & -0 & 2 & 3.38e-10 & 0.0 & -13163.0 & 0.0 & $\\dots$ \\\\\n",
       "\t24 & CO2 & N & NO & CO & -0 & 2 & 3.2e-13 & 0.0 & -1710.0 & 0.0 & $\\dots$ \\\\\n",
       "\t25 & CO2 & O & O2 & CO & -0 & 2 & 2.46e-11 & 0.0 & -26567.0 & 0.0 & $\\dots$ \\\\\n",
       "\t26 & H & H & H2 & -0 & -0 & 4 & 1.0 & -1.0 & 0.0 & 1.8e-30 & $\\dots$ \\\\\n",
       "\t27 & H2 & C & CH & H & -0 & 2 & 6.64e-10 & 0.0 & -11700.0 & 0.0 & $\\dots$ \\\\\n",
       "\t28 & H2 & O & OH & H & -0 & 2 & 6.44e-20 & 2.7 & -3150.0 & 0.0 & $\\dots$ \\\\\n",
       "\t29 & H2O & H & OH & H2 & -0 & 2 & 1.69e-14 & 1.2 & -9610.0 & 0.0 & $\\dots$ \\\\\n",
       "\t30 & H2O & O & OH & OH & -0 & 2 & 8.2e-14 & 0.95 & -8571.0 & 0.0 & $\\dots$ \\\\\n",
       "\t$\\dots$ & $\\dots$ & $\\dots$ & $\\dots$ & $\\dots$ & $\\dots$ & $\\dots$ & $\\dots$ & $\\dots$ & $\\dots$ & $\\dots$ &  \\\\\n",
       "\\end{tabular}\n"
      ],
      "text/plain": [
       "\u001b[1m229×19 DataFrame\u001b[0m\n",
       "\u001b[1m Row \u001b[0m│\u001b[1m R1     \u001b[0m\u001b[1m R2     \u001b[0m\u001b[1m P1     \u001b[0m\u001b[1m P2     \u001b[0m\u001b[1m P3      \u001b[0m\u001b[1m type  \u001b[0m\u001b[1m kA       \u001b[0m\u001b[1m kB      \u001b[0m\u001b[1m kC  \u001b[0m ⋯\n",
       "\u001b[1m     \u001b[0m│\u001b[90m String \u001b[0m\u001b[90m String \u001b[0m\u001b[90m String \u001b[0m\u001b[90m String \u001b[0m\u001b[90m String? \u001b[0m\u001b[90m Int64 \u001b[0m\u001b[90m Float64  \u001b[0m\u001b[90m Float64 \u001b[0m\u001b[90m Floa\u001b[0m ⋯\n",
       "─────┼──────────────────────────────────────────────────────────────────────────\n",
       "   1 │ C       C       C2      -0      -0           2  2.16e-11     0.0   0.0  ⋯\n",
       "   2 │ C       H       CH      -0      -0           2  1.0e-17      0.0   0.0\n",
       "   3 │ C       N       CN      -0      -0           2  6.93e-20     0.37  -51.\n",
       "   4 │ CH      C       C2      H       -0           2  6.59e-11     0.0   0.0\n",
       "   5 │ CH      H       H2      C       -0           2  1.31e-10     0.0   -80. ⋯\n",
       "   6 │ CH      H2      CH2     H       -0           2  2.9e-10      0.0   -167\n",
       "   7 │ CH      H2      CH2     H       -0           4  8.5e-11      0.15  0.0\n",
       "   8 │ CH      H2      CH3     -0      -0           2  2.92e-16    -0.71  -11.\n",
       "   9 │ CH      N       CN      H       -0           2  2.77e-10    -0.09  0.0  ⋯\n",
       "  10 │ CH      O       CO      H       -0           2  6.6e-11      0.0   0.0\n",
       "  11 │ CH      O       HCOP    E       -0           2  4.2e-13      0.0   -850\n",
       "  ⋮  │   ⋮       ⋮       ⋮       ⋮        ⋮       ⋮       ⋮         ⋮        ⋮ ⋱\n",
       " 220 │ OH      H2      H2O     H       -0           2  2.8e-12      0.0   -180\n",
       " 221 │ OH      N       NH      O       -0           2  1.06e-11     0.1   -107 ⋯\n",
       " 222 │ OH      N       NO      H       -0           2  1.8e-10     -0.2   0.0\n",
       " 223 │ OH      NH      H2O     N       -0           2  3.3e-15      1.2   0.0\n",
       " 224 │ OH      NH      HNO     H       -0           2  3.3e-11      0.0   0.0\n",
       " 225 │ OH      NH      NH2     O       -0           2  1.66e-12     0.1   -580 ⋯\n",
       " 226 │ OH      NH      NO      H2      -0           2  4.16e-11     0.0   0.0\n",
       " 227 │ OH      O       O2      H       -0           2  1.8e-11      0.0   180.\n",
       " 228 │ OH      OH      H2O     O       -0           2  1.8e-12      0.0   0.0\n",
       " 229 │ OH      OH      H2O2    -0      -0           4  2.6e-11      0.0   0.0  ⋯\n",
       "\u001b[31m                                                 11 columns and 208 rows omitted\u001b[0m"
      ]
     },
     "execution_count": 2,
     "metadata": {},
     "output_type": "execute_result"
    }
   ],
   "source": [
    "neutral_table = CSV.File(\"/home/emc/GDrive-CU/Research-Modeling/UpperAtmoDH/Resources/nreactions_pared.csv\") |> DataFrame\n",
    "replace!(neutral_table.\"P2\", missing => \"-0\");\n",
    "replace!(neutral_table.\"P3\", missing => \"-0\");\n",
    "select!(neutral_table, Not(:Column1))"
   ]
  },
  {
   "cell_type": "code",
   "execution_count": 3,
   "metadata": {},
   "outputs": [
    {
     "name": "stdout",
     "output_type": "stream",
     "text": [
      "HO2NO2 + O --> NO2 + O2 + OH contains an unused species as reactant, deleting...\n",
      "HO2NO2 + OH --> NO2 + H2O + O2 contains an unused species as reactant, deleting...\n",
      "HONO + H --> H2O + NO + -0 contains an unused species as reactant, deleting...\n",
      "HONO + O --> NO2 + OH + -0 contains an unused species as reactant, deleting...\n",
      "HONO + OH --> NO2 + H2O + -0 contains an unused species as reactant, deleting...\n",
      "N2D + -0 --> N + -0 + -0 contains an unused species as reactant, deleting...\n",
      "N2D + CO --> CO + N + -0 contains an unused species as reactant, deleting...\n",
      "N2D + CO2 --> NO + CO + -0 contains an unused species as reactant, deleting...\n",
      "N2D + H2 --> NH + H + -0 contains an unused species as reactant, deleting...\n",
      "N2D + H2O --> HNO + H + -0 contains an unused species as reactant, deleting...\n",
      "N2D + H2O --> NO + H2 + -0 contains an unused species as reactant, deleting...\n",
      "N2D + H2O --> OH + NH + -0 contains an unused species as reactant, deleting...\n",
      "N2D + N2 --> N2 + N + -0 contains an unused species as reactant, deleting...\n",
      "N2D + N2O --> NO + N2 + -0 contains an unused species as reactant, deleting...\n",
      "N2D + NO --> N2 + O + -0 contains an unused species as reactant, deleting...\n",
      "N2D + O --> O + N + -0 contains an unused species as reactant, deleting...\n",
      "N2D + O2 --> NO + O + -0 contains an unused species as reactant, deleting...\n",
      "NO3 + HO2 --> NO2 + O2 + OH contains an unused species as reactant, deleting...\n",
      "NO3 + NO --> NO2 + NO2 + -0 contains an unused species as reactant, deleting...\n",
      "NO3 + NO2 --> N2O5 + -0 + -0 contains an unused species as reactant, deleting...\n",
      "NO3 + NO2 --> NO2 + NO + O2 contains an unused species as reactant, deleting...\n",
      "NO3 + NO3 --> NO2 + NO2 + O2 contains an unused species as reactant, deleting...\n",
      "NO3 + O --> NO2 + O2 + -0 contains an unused species as reactant, deleting...\n",
      "NO3 + OH --> NO2 + HO2 + -0 contains an unused species as reactant, deleting...\n"
     ]
    },
    {
     "data": {
      "text/html": [
       "<table class=\"data-frame\"><thead><tr><th></th><th>R1</th><th>R2</th><th>P1</th><th>P2</th><th>P3</th><th>type</th><th>kA</th><th>kB</th><th>kC</th><th>k0A</th></tr><tr><th></th><th>String</th><th>String</th><th>String</th><th>String</th><th>String?</th><th>Int64</th><th>Float64</th><th>Float64</th><th>Float64</th><th>Float64</th></tr></thead><tbody><p>205 rows × 19 columns (omitted printing of 9 columns)</p><tr><th>1</th><td>C</td><td>C</td><td>C2</td><td>-0</td><td>-0</td><td>2</td><td>2.16e-11</td><td>0.0</td><td>0.0</td><td>0.0</td></tr><tr><th>2</th><td>C</td><td>H</td><td>CH</td><td>-0</td><td>-0</td><td>2</td><td>1.0e-17</td><td>0.0</td><td>0.0</td><td>0.0</td></tr><tr><th>3</th><td>C</td><td>N</td><td>CN</td><td>-0</td><td>-0</td><td>2</td><td>6.93e-20</td><td>0.37</td><td>-51.0</td><td>0.0</td></tr><tr><th>4</th><td>CH</td><td>C</td><td>C2</td><td>H</td><td>-0</td><td>2</td><td>6.59e-11</td><td>0.0</td><td>0.0</td><td>0.0</td></tr><tr><th>5</th><td>CH</td><td>H</td><td>H2</td><td>C</td><td>-0</td><td>2</td><td>1.31e-10</td><td>0.0</td><td>-80.0</td><td>0.0</td></tr><tr><th>6</th><td>CH</td><td>H2</td><td>CH2</td><td>H</td><td>-0</td><td>2</td><td>2.9e-10</td><td>0.0</td><td>-1670.0</td><td>0.0</td></tr><tr><th>7</th><td>CH</td><td>H2</td><td>CH2</td><td>H</td><td>-0</td><td>4</td><td>8.5e-11</td><td>0.15</td><td>0.0</td><td>4.7e-26</td></tr><tr><th>8</th><td>CH</td><td>H2</td><td>CH3</td><td>-0</td><td>-0</td><td>2</td><td>2.92e-16</td><td>-0.71</td><td>-11.6</td><td>0.0</td></tr><tr><th>9</th><td>CH</td><td>N</td><td>CN</td><td>H</td><td>-0</td><td>2</td><td>2.77e-10</td><td>-0.09</td><td>0.0</td><td>0.0</td></tr><tr><th>10</th><td>CH</td><td>O</td><td>CO</td><td>H</td><td>-0</td><td>2</td><td>6.6e-11</td><td>0.0</td><td>0.0</td><td>0.0</td></tr><tr><th>11</th><td>CH</td><td>O</td><td>HCOP</td><td>E</td><td>-0</td><td>2</td><td>4.2e-13</td><td>0.0</td><td>-850.0</td><td>0.0</td></tr><tr><th>12</th><td>CH</td><td>O</td><td>OH</td><td>C</td><td>-0</td><td>2</td><td>2.52e-11</td><td>0.0</td><td>-2381.0</td><td>0.0</td></tr><tr><th>13</th><td>CN</td><td>H2</td><td>HCN</td><td>H</td><td>-0</td><td>2</td><td>1.8e-19</td><td>2.6</td><td>-960.0</td><td>0.0</td></tr><tr><th>14</th><td>CN</td><td>N</td><td>N2</td><td>C</td><td>-0</td><td>2</td><td>9.8e-10</td><td>-0.4</td><td>0.0</td><td>0.0</td></tr><tr><th>15</th><td>CN</td><td>NH</td><td>HCN</td><td>N</td><td>-0</td><td>2</td><td>1.7e-13</td><td>0.5</td><td>-1000.0</td><td>0.0</td></tr><tr><th>16</th><td>CN</td><td>O</td><td>CO</td><td>N</td><td>-0</td><td>2</td><td>5.0e-11</td><td>0.0</td><td>-200.0</td><td>0.0</td></tr><tr><th>17</th><td>CN</td><td>O</td><td>NO</td><td>C</td><td>-0</td><td>2</td><td>5.37e-11</td><td>0.0</td><td>-13800.0</td><td>0.0</td></tr><tr><th>18</th><td>CO</td><td>H</td><td>HCO</td><td>-0</td><td>-0</td><td>4</td><td>1.0</td><td>0.2</td><td>0.0</td><td>2.0e-35</td></tr><tr><th>19</th><td>CO</td><td>O</td><td>CO2</td><td>-0</td><td>-0</td><td>4</td><td>1.0</td><td>0.0</td><td>-1509.0</td><td>1.7e-33</td></tr><tr><th>20</th><td>CO</td><td>OH</td><td>CO2</td><td>H</td><td>-0</td><td>2</td><td>1.5e-13</td><td>0.0</td><td>0.0</td><td>0.0</td></tr><tr><th>21</th><td>CO</td><td>OH</td><td>HOCO</td><td>-0</td><td>-0</td><td>5</td><td>6.62e-16</td><td>1.3</td><td>0.0</td><td>1.77e-30</td></tr><tr><th>22</th><td>CO2</td><td>CH</td><td>HCO</td><td>CO</td><td>-0</td><td>2</td><td>1.7e-14</td><td>0.5</td><td>-3000.0</td><td>0.0</td></tr><tr><th>23</th><td>CO2</td><td>H</td><td>CO</td><td>OH</td><td>-0</td><td>2</td><td>3.38e-10</td><td>0.0</td><td>-13163.0</td><td>0.0</td></tr><tr><th>24</th><td>CO2</td><td>N</td><td>NO</td><td>CO</td><td>-0</td><td>2</td><td>3.2e-13</td><td>0.0</td><td>-1710.0</td><td>0.0</td></tr><tr><th>25</th><td>CO2</td><td>O</td><td>O2</td><td>CO</td><td>-0</td><td>2</td><td>2.46e-11</td><td>0.0</td><td>-26567.0</td><td>0.0</td></tr><tr><th>26</th><td>H</td><td>H</td><td>H2</td><td>-0</td><td>-0</td><td>4</td><td>1.0</td><td>-1.0</td><td>0.0</td><td>1.8e-30</td></tr><tr><th>27</th><td>H2</td><td>C</td><td>CH</td><td>H</td><td>-0</td><td>2</td><td>6.64e-10</td><td>0.0</td><td>-11700.0</td><td>0.0</td></tr><tr><th>28</th><td>H2</td><td>O</td><td>OH</td><td>H</td><td>-0</td><td>2</td><td>6.44e-20</td><td>2.7</td><td>-3150.0</td><td>0.0</td></tr><tr><th>29</th><td>H2O</td><td>H</td><td>OH</td><td>H2</td><td>-0</td><td>2</td><td>1.69e-14</td><td>1.2</td><td>-9610.0</td><td>0.0</td></tr><tr><th>30</th><td>H2O</td><td>O</td><td>OH</td><td>OH</td><td>-0</td><td>2</td><td>8.2e-14</td><td>0.95</td><td>-8571.0</td><td>0.0</td></tr><tr><th>&vellip;</th><td>&vellip;</td><td>&vellip;</td><td>&vellip;</td><td>&vellip;</td><td>&vellip;</td><td>&vellip;</td><td>&vellip;</td><td>&vellip;</td><td>&vellip;</td><td>&vellip;</td></tr></tbody></table>"
      ],
      "text/latex": [
       "\\begin{tabular}{r|ccccccccccc}\n",
       "\t& R1 & R2 & P1 & P2 & P3 & type & kA & kB & kC & k0A & \\\\\n",
       "\t\\hline\n",
       "\t& String & String & String & String & String? & Int64 & Float64 & Float64 & Float64 & Float64 & \\\\\n",
       "\t\\hline\n",
       "\t1 & C & C & C2 & -0 & -0 & 2 & 2.16e-11 & 0.0 & 0.0 & 0.0 & $\\dots$ \\\\\n",
       "\t2 & C & H & CH & -0 & -0 & 2 & 1.0e-17 & 0.0 & 0.0 & 0.0 & $\\dots$ \\\\\n",
       "\t3 & C & N & CN & -0 & -0 & 2 & 6.93e-20 & 0.37 & -51.0 & 0.0 & $\\dots$ \\\\\n",
       "\t4 & CH & C & C2 & H & -0 & 2 & 6.59e-11 & 0.0 & 0.0 & 0.0 & $\\dots$ \\\\\n",
       "\t5 & CH & H & H2 & C & -0 & 2 & 1.31e-10 & 0.0 & -80.0 & 0.0 & $\\dots$ \\\\\n",
       "\t6 & CH & H2 & CH2 & H & -0 & 2 & 2.9e-10 & 0.0 & -1670.0 & 0.0 & $\\dots$ \\\\\n",
       "\t7 & CH & H2 & CH2 & H & -0 & 4 & 8.5e-11 & 0.15 & 0.0 & 4.7e-26 & $\\dots$ \\\\\n",
       "\t8 & CH & H2 & CH3 & -0 & -0 & 2 & 2.92e-16 & -0.71 & -11.6 & 0.0 & $\\dots$ \\\\\n",
       "\t9 & CH & N & CN & H & -0 & 2 & 2.77e-10 & -0.09 & 0.0 & 0.0 & $\\dots$ \\\\\n",
       "\t10 & CH & O & CO & H & -0 & 2 & 6.6e-11 & 0.0 & 0.0 & 0.0 & $\\dots$ \\\\\n",
       "\t11 & CH & O & HCOP & E & -0 & 2 & 4.2e-13 & 0.0 & -850.0 & 0.0 & $\\dots$ \\\\\n",
       "\t12 & CH & O & OH & C & -0 & 2 & 2.52e-11 & 0.0 & -2381.0 & 0.0 & $\\dots$ \\\\\n",
       "\t13 & CN & H2 & HCN & H & -0 & 2 & 1.8e-19 & 2.6 & -960.0 & 0.0 & $\\dots$ \\\\\n",
       "\t14 & CN & N & N2 & C & -0 & 2 & 9.8e-10 & -0.4 & 0.0 & 0.0 & $\\dots$ \\\\\n",
       "\t15 & CN & NH & HCN & N & -0 & 2 & 1.7e-13 & 0.5 & -1000.0 & 0.0 & $\\dots$ \\\\\n",
       "\t16 & CN & O & CO & N & -0 & 2 & 5.0e-11 & 0.0 & -200.0 & 0.0 & $\\dots$ \\\\\n",
       "\t17 & CN & O & NO & C & -0 & 2 & 5.37e-11 & 0.0 & -13800.0 & 0.0 & $\\dots$ \\\\\n",
       "\t18 & CO & H & HCO & -0 & -0 & 4 & 1.0 & 0.2 & 0.0 & 2.0e-35 & $\\dots$ \\\\\n",
       "\t19 & CO & O & CO2 & -0 & -0 & 4 & 1.0 & 0.0 & -1509.0 & 1.7e-33 & $\\dots$ \\\\\n",
       "\t20 & CO & OH & CO2 & H & -0 & 2 & 1.5e-13 & 0.0 & 0.0 & 0.0 & $\\dots$ \\\\\n",
       "\t21 & CO & OH & HOCO & -0 & -0 & 5 & 6.62e-16 & 1.3 & 0.0 & 1.77e-30 & $\\dots$ \\\\\n",
       "\t22 & CO2 & CH & HCO & CO & -0 & 2 & 1.7e-14 & 0.5 & -3000.0 & 0.0 & $\\dots$ \\\\\n",
       "\t23 & CO2 & H & CO & OH & -0 & 2 & 3.38e-10 & 0.0 & -13163.0 & 0.0 & $\\dots$ \\\\\n",
       "\t24 & CO2 & N & NO & CO & -0 & 2 & 3.2e-13 & 0.0 & -1710.0 & 0.0 & $\\dots$ \\\\\n",
       "\t25 & CO2 & O & O2 & CO & -0 & 2 & 2.46e-11 & 0.0 & -26567.0 & 0.0 & $\\dots$ \\\\\n",
       "\t26 & H & H & H2 & -0 & -0 & 4 & 1.0 & -1.0 & 0.0 & 1.8e-30 & $\\dots$ \\\\\n",
       "\t27 & H2 & C & CH & H & -0 & 2 & 6.64e-10 & 0.0 & -11700.0 & 0.0 & $\\dots$ \\\\\n",
       "\t28 & H2 & O & OH & H & -0 & 2 & 6.44e-20 & 2.7 & -3150.0 & 0.0 & $\\dots$ \\\\\n",
       "\t29 & H2O & H & OH & H2 & -0 & 2 & 1.69e-14 & 1.2 & -9610.0 & 0.0 & $\\dots$ \\\\\n",
       "\t30 & H2O & O & OH & OH & -0 & 2 & 8.2e-14 & 0.95 & -8571.0 & 0.0 & $\\dots$ \\\\\n",
       "\t$\\dots$ & $\\dots$ & $\\dots$ & $\\dots$ & $\\dots$ & $\\dots$ & $\\dots$ & $\\dots$ & $\\dots$ & $\\dots$ & $\\dots$ &  \\\\\n",
       "\\end{tabular}\n"
      ],
      "text/plain": [
       "\u001b[1m205×19 DataFrame\u001b[0m\n",
       "\u001b[1m Row \u001b[0m│\u001b[1m R1     \u001b[0m\u001b[1m R2     \u001b[0m\u001b[1m P1     \u001b[0m\u001b[1m P2     \u001b[0m\u001b[1m P3      \u001b[0m\u001b[1m type  \u001b[0m\u001b[1m kA       \u001b[0m\u001b[1m kB      \u001b[0m\u001b[1m kC  \u001b[0m ⋯\n",
       "\u001b[1m     \u001b[0m│\u001b[90m String \u001b[0m\u001b[90m String \u001b[0m\u001b[90m String \u001b[0m\u001b[90m String \u001b[0m\u001b[90m String? \u001b[0m\u001b[90m Int64 \u001b[0m\u001b[90m Float64  \u001b[0m\u001b[90m Float64 \u001b[0m\u001b[90m Floa\u001b[0m ⋯\n",
       "─────┼──────────────────────────────────────────────────────────────────────────\n",
       "   1 │ C       C       C2      -0      -0           2  2.16e-11     0.0   0.0  ⋯\n",
       "   2 │ C       H       CH      -0      -0           2  1.0e-17      0.0   0.0\n",
       "   3 │ C       N       CN      -0      -0           2  6.93e-20     0.37  -51.\n",
       "   4 │ CH      C       C2      H       -0           2  6.59e-11     0.0   0.0\n",
       "   5 │ CH      H       H2      C       -0           2  1.31e-10     0.0   -80. ⋯\n",
       "   6 │ CH      H2      CH2     H       -0           2  2.9e-10      0.0   -167\n",
       "   7 │ CH      H2      CH2     H       -0           4  8.5e-11      0.15  0.0\n",
       "   8 │ CH      H2      CH3     -0      -0           2  2.92e-16    -0.71  -11.\n",
       "   9 │ CH      N       CN      H       -0           2  2.77e-10    -0.09  0.0  ⋯\n",
       "  10 │ CH      O       CO      H       -0           2  6.6e-11      0.0   0.0\n",
       "  11 │ CH      O       HCOP    E       -0           2  4.2e-13      0.0   -850\n",
       "  ⋮  │   ⋮       ⋮       ⋮       ⋮        ⋮       ⋮       ⋮         ⋮        ⋮ ⋱\n",
       " 196 │ OH      H2      H2O     H       -0           2  2.8e-12      0.0   -180\n",
       " 197 │ OH      N       NH      O       -0           2  1.06e-11     0.1   -107 ⋯\n",
       " 198 │ OH      N       NO      H       -0           2  1.8e-10     -0.2   0.0\n",
       " 199 │ OH      NH      H2O     N       -0           2  3.3e-15      1.2   0.0\n",
       " 200 │ OH      NH      HNO     H       -0           2  3.3e-11      0.0   0.0\n",
       " 201 │ OH      NH      NH2     O       -0           2  1.66e-12     0.1   -580 ⋯\n",
       " 202 │ OH      NH      NO      H2      -0           2  4.16e-11     0.0   0.0\n",
       " 203 │ OH      O       O2      H       -0           2  1.8e-11      0.0   180.\n",
       " 204 │ OH      OH      H2O     O       -0           2  1.8e-12      0.0   0.0\n",
       " 205 │ OH      OH      H2O2    -0      -0           4  2.6e-11      0.0   0.0  ⋯\n",
       "\u001b[31m                                                 11 columns and 184 rows omitted\u001b[0m"
      ]
     },
     "execution_count": 3,
     "metadata": {},
     "output_type": "execute_result"
    }
   ],
   "source": [
    "fullspecieslist = [:Ar, :C, :CH, :CN, :CO, :CO2, :H, :H2, :H2O, :H2O2, :HCN, :HCO, :HNO, :HO2, :HOCO, :N, :N2, :N2O, :NH, :NH2, :NO, :NO2, \n",
    "                   :O, :O1D, :O2, :O3, :OH, :D, :DO2, :DOCO, :HD, :HDO, :HDO2, :OD, \n",
    "\n",
    "                   :Arpl, :ArHpl, :Cpl, :CHpl, :CNpl, :COpl, :CO2pl, :Hpl, :HCNpl, :HCNHpl, :HCOpl, :HCO2pl, :HNOpl, :HN2Opl, :HOCpl, :HO2pl, \n",
    "                   :H2pl, :H2Opl, :H3pl, :H3Opl, :Npl,  :NHpl, :NH2pl, :NH3pl, :N2pl, :N2Hpl, :N2Opl, :NOpl, :NO2pl, :Opl, :O2pl, :OHpl,\n",
    "\n",
    "                   :ArDpl, :CDpl, :Dpl, :DCOpl, :DOCOpl, :HDpl, :HD2pl, :H2Dpl, :H2DOpl, :N_2Dpl, :NDpl, :ODpl]; \n",
    "\n",
    "function all_reactants_used(d)\n",
    "    #=\n",
    "    Filter out reactions with reactants we won't use \n",
    "    =# \n",
    "    \n",
    "    r1 = Symbol(d[\"R1\"])\n",
    "    r2 = Symbol(d[\"R2\"])\n",
    "    r1_used = r1 in fullspecieslist\n",
    "\n",
    "    if !r1_used\n",
    "        println(\"$(r1) + $(r2) --> $(d[\"P1\"]) + $(d[\"P2\"]) + $(d[\"P3\"]) contains an unused species as reactant, deleting...\")\n",
    "        return false\n",
    "    else  # if the first reactant is used\n",
    "        if d[\"R2\"] != \"-0\"\n",
    "            r2_used = r2 in fullspecieslist\n",
    "            if !(r2_used)\n",
    "                println(\"$(r1) + $(r2) --> $(d[\"P1\"]) + $(d[\"P2\"]) + $(d[\"P3\"]) contains unused species $(r2) as reactant, deleting...\")\n",
    "                return false\n",
    "            else\n",
    "                return true\n",
    "            end \n",
    "        else\n",
    "            return true\n",
    "        end\n",
    "    end\n",
    "end\n",
    "\n",
    "neutral_table = filter(all_reactants_used, neutral_table)"
   ]
  },
  {
   "cell_type": "code",
   "execution_count": 4,
   "metadata": {},
   "outputs": [
    {
     "data": {
      "text/plain": [
       "make_modified_Troe (generic function with 1 method)"
      ]
     },
     "execution_count": 4,
     "metadata": {},
     "output_type": "execute_result"
    }
   ],
   "source": [
    "numrows = size(neutral_table)[1]\n",
    "neutral_network = Array{Any}(undef, numrows, 1)\n",
    "\n",
    "# identify the type and sort into lists for some cursory perusal\n",
    "type1 = []\n",
    "type2 = []\n",
    "type3 = []\n",
    "type4 = []\n",
    "type5 = []\n",
    "\n",
    "function make_general_k(A, B, C)\n",
    "    #=\n",
    "    returns a string for the general rate coefficient form \n",
    "    k = A * (T^B) * exp(C/T)\n",
    "    checked: 4 Feb 2021\n",
    "    =#\n",
    "    k_A = string(A)\n",
    "    if B != 0\n",
    "        k_B = \" .* (Tn .^ $(B))\"\n",
    "    else\n",
    "        k_B = \"\"\n",
    "    end\n",
    "    if C != 0\n",
    "        k_C = \" .* exp.($(C) ./ Tn)\"\n",
    "    else\n",
    "        k_C = \"\"\n",
    "    end\n",
    "    \n",
    "    return k_A * k_B * k_C\n",
    "end\n",
    "\n",
    "function construct_FF(k0, kinf, F)\n",
    "    #=\n",
    "    Put together a really nasty expression\n",
    "    =#\n",
    "    outer_numer = \"log10.($(F))\"\n",
    "    inner_numer = \"log10.(($(k0) .* M) ./ ($(kinf))) .- 0.4 .- 0.67 .* log10.($(F))\"\n",
    "    inner_denom = \"0.75 .- 1.27 .* log10.($(F)) .- 0.14 .* (log10.(($(k0) .* M) ./ ($(kinf))) .- 0.4 .- 0.67 .* log10.($(F)))\"\n",
    "    outer_denom = \"1 .+ (($(inner_numer)) ./ ($(inner_denom))) .^ 2\"\n",
    "    FF = \"10 .^ (($(outer_numer)) ./ ($(outer_denom)))\"\n",
    "    return FF\n",
    "end\n",
    "\n",
    "function make_Troe(k0_ABC, kinf_ABC, F)\n",
    "    #=\n",
    "    k0_ABC and kinf_ABC are lists of A, B, and C for k0 and kinf.\n",
    "    =#\n",
    "    k0 = make_general_k(k0_ABC...)\n",
    "    kinf = make_general_k(kinf_ABC...)\n",
    "    \n",
    "    if F == 0\n",
    "        return Symbol(\"($(k0) .* $(kinf) .* M) ./ ($(k0) .* M .+ $(kinf))\")  # Updated to match Roger's code 4 Feb 2021\n",
    "        # old formula that was wrong: return Symbol(0)\n",
    "    else        \n",
    "        FF = construct_FF(k0, kinf, F)\n",
    "        return Symbol(\"$(FF) .* ($(k0) .* $(kinf)) ./ ($(k0) .* M .+ $(kinf))\")  # Updated to match Roger's code 5 Feb 2021\n",
    "        #old formula that was wrong: return Symbol(\"$(string(F)) * $(kinf) * $(k0) * M / ($(kinf) + $(k0) * M)\")\n",
    "    end\n",
    "end\n",
    "\n",
    "function make_modified_Troe(k0_ABC, kinf_ABC, kR_ABC, F)\n",
    "    #=\n",
    "    \"Type 4\" pressure dependent association reactions. \n",
    "    Roger has the result for F=0 in his code as k_tot = k2 + k0*kinf*M/(k0*M+kinf), with k2 (kR in the appendix from Vuitton)\n",
    "    being the general form and using the third set of A, B, C coefficients in his file. Those columns are 0 in the file he gave me, but\n",
    "    I have coded it like this though to make sure to keep the form in case I ever get one where it's not 0.\n",
    "    \n",
    "    k0_ABC and kinf_ABC are lists of A, B, and C for k0 and kinf.\n",
    "    =#\n",
    "    k0 = make_general_k(k0_ABC...)\n",
    "    kinf = make_general_k(kinf_ABC...)\n",
    "    kR = make_general_k(kR_ABC...)\n",
    "\n",
    "    # old formula that was wrong: return Symbol(\"$(kR) + $(F) * ($(kinf) - $(kR)) * $(k0) * M / ($(kinf) - $(kR) + $(k0) * M)\")\n",
    "    if F == 0\n",
    "        return Symbol(\"$(kR) .+ ($(k0) .* $(kinf) .* M) ./ ($(k0) .* M .+ $(kinf))\")\n",
    "    else\n",
    "        FF = construct_FF(k0, kinf, F)\n",
    "        \n",
    "        # for this one, we need the minimum of the following two expressions. Because of the weird way I have to do this, I will add\n",
    "        # :(minimum([$:(A), $:(B)])) around the two returned items A and B once it returns its stuff.\n",
    "        return Symbol(\"$(kinf)\"), Symbol(\"$(kR) .+ ($(FF) .* $(k0) .* $(kinf) .* M) ./ ($(k0) .* M .+ $(kinf))\")\n",
    "    end\n",
    "end"
   ]
  },
  {
   "cell_type": "code",
   "execution_count": 5,
   "metadata": {},
   "outputs": [
    {
     "name": "stdout",
     "output_type": "stream",
     "text": [
      "Type 1:\n",
      "Any[[:O1D], [:O], Symbol(\"0.0051\")]\n",
      "\n",
      "Type 2:\n",
      "Any[[:C, :C], [:C2], Symbol(\"2.16e-11\")]\n",
      "Any[[:C, :H], [:CH], Symbol(\"1.0e-17\")]\n",
      "Any[[:C, :N], [:CN], Symbol(\"6.93e-20 .* (Tn .^ 0.37) .* exp.(-51.0 ./ Tn)\")]\n",
      "Any[[:CH, :C], [:C2, :H], Symbol(\"6.59e-11\")]\n",
      "Any[[:CH, :H], [:H2, :C], Symbol(\"1.31e-10 .* exp.(-80.0 ./ Tn)\")]\n",
      "Any[[:CH, :H2], [:CH2, :H], Symbol(\"2.9e-10 .* exp.(-1670.0 ./ Tn)\")]\n",
      "Any[[:CH, :H2], [:CH3], Symbol(\"2.92e-16 .* (Tn .^ -0.71) .* exp.(-11.6 ./ Tn)\")]\n",
      "Any[[:CH, :N], [:CN, :H], Symbol(\"2.77e-10 .* (Tn .^ -0.09)\")]\n",
      "Any[[:CH, :O], [:CO, :H], Symbol(\"6.6e-11\")]\n",
      "Any[[:CH, :O], [:HCOP, :E], Symbol(\"4.2e-13 .* exp.(-850.0 ./ Tn)\")]\n",
      "Any[[:CH, :O], [:OH, :C], Symbol(\"2.52e-11 .* exp.(-2381.0 ./ Tn)\")]\n",
      "Any[[:CN, :H2], [:HCN, :H], Symbol(\"1.8e-19 .* (Tn .^ 2.6) .* exp.(-960.0 ./ Tn)\")]\n",
      "Any[[:CN, :N], [:N2, :C], Symbol(\"9.8e-10 .* (Tn .^ -0.4)\")]\n",
      "Any[[:CN, :NH], [:HCN, :N], Symbol(\"1.7e-13 .* (Tn .^ 0.5) .* exp.(-1000.0 ./ Tn)\")]\n",
      "Any[[:CN, :O], [:CO, :N], Symbol(\"5.0e-11 .* exp.(-200.0 ./ Tn)\")]\n",
      "Any[[:CN, :O], [:NO, :C], Symbol(\"5.37e-11 .* exp.(-13800.0 ./ Tn)\")]\n",
      "Any[[:CO, :OH], [:CO2, :H], Symbol(\"1.5e-13\")]\n",
      "Any[[:CO2, :CH], [:HCO, :CO], Symbol(\"1.7e-14 .* (Tn .^ 0.5) .* exp.(-3000.0 ./ Tn)\")]\n",
      "Any[[:CO2, :H], [:CO, :OH], Symbol(\"3.38e-10 .* exp.(-13163.0 ./ Tn)\")]\n",
      "Any[[:CO2, :N], [:NO, :CO], Symbol(\"3.2e-13 .* exp.(-1710.0 ./ Tn)\")]\n",
      "Any[[:CO2, :O], [:O2, :CO], Symbol(\"2.46e-11 .* exp.(-26567.0 ./ Tn)\")]\n",
      "Any[[:H2, :C], [:CH, :H], Symbol(\"6.64e-10 .* exp.(-11700.0 ./ Tn)\")]\n",
      "Any[[:H2, :O], [:OH, :H], Symbol(\"6.44e-20 .* (Tn .^ 2.7) .* exp.(-3150.0 ./ Tn)\")]\n",
      "Any[[:H2O, :H], [:OH, :H2], Symbol(\"1.69e-14 .* (Tn .^ 1.2) .* exp.(-9610.0 ./ Tn)\")]\n",
      "Any[[:H2O, :O], [:OH, :OH], Symbol(\"8.2e-14 .* (Tn .^ 0.95) .* exp.(-8571.0 ./ Tn)\")]\n",
      "Any[[:H2O2, :H], [:H2O, :OH], Symbol(\"1.7e-11 .* exp.(-1800.0 ./ Tn)\")]\n",
      "Any[[:H2O2, :H], [:HO2, :H2], Symbol(\"2.8e-12 .* exp.(-1890.0 ./ Tn)\")]\n",
      "Any[[:H2O2, :O], [:HO2, :OH], Symbol(\"1.4e-12 .* exp.(-2000.0 ./ Tn)\")]\n",
      "Any[[:H2O2, :OH], [:HO2, :H2O], Symbol(\"1.8e-12\")]\n",
      "Any[[:HCN, :CN], [:NCCN, :H], Symbol(\"1.45e-21 .* (Tn .^ 1.71) .* exp.(-770.0 ./ Tn)\")]\n",
      "Any[[:HCN, :H], [:CN, :H2], Symbol(\"6.2e-10 .* exp.(-12500.0 ./ Tn)\")]\n",
      "Any[[:HCN, :O], [:CO, :NH], Symbol(\"1.09e-15 .* (Tn .^ 1.14) .* exp.(-3742.0 ./ Tn)\")]\n",
      "Any[[:HCN, :O], [:NCO, :H], Symbol(\"5.19e-16 .* (Tn .^ 1.38) .* exp.(-3693.0 ./ Tn)\")]\n",
      "Any[[:HCN, :O], [:OH, :CN], Symbol(\"6.21e-10 .* exp.(-12439.0 ./ Tn)\")]\n",
      "Any[[:HCN, :OH], [:H2O, :CN], Symbol(\"3.6e-17 .* (Tn .^ 1.5) .* exp.(-3887.0 ./ Tn)\")]\n",
      "Any[[:HCO, :C], [:C2O, :H], Symbol(\"1.0e-10\")]\n",
      "Any[[:HCO, :C], [:CO, :CH], Symbol(\"1.0e-10\")]\n",
      "Any[[:HCO, :CH], [:CH2, :CO], Symbol(\"5.3e-14 .* (Tn .^ 0.7) .* exp.(-500.0 ./ Tn)\")]\n",
      "Any[[:HCO, :CN], [:HCN, :CO], Symbol(\"1.0e-10\")]\n",
      "Any[[:HCO, :H], [:CO, :H2], Symbol(\"1.5e-10\")]\n",
      "Any[[:HCO, :HCO], [:CO, :CO, :H2], Symbol(\"7.35e-12\")]\n",
      "Any[[:HCO, :HCO], [:H2CO, :CO], Symbol(\"4.26e-11\")]\n",
      "Any[[:HCO, :N], [:CO, :NH], Symbol(\"3.3e-13 .* (Tn .^ 0.5) .* exp.(-1000.0 ./ Tn)\")]\n",
      "Any[[:HCO, :N], [:HCN, :O], Symbol(\"1.7e-10\")]\n",
      "Any[[:HCO, :N], [:NCO, :H], Symbol(\"1.0e-10\")]\n",
      "Any[[:HCO, :NO], [:HNO, :CO], Symbol(\"1.2e-11\")]\n",
      "Any[[:HCO, :O], [:CO, :OH], Symbol(\"5.0e-11\")]\n",
      "Any[[:HCO, :O], [:CO2, :H], Symbol(\"5.0e-11\")]\n",
      "Any[[:HCO, :O2], [:CO2, :OH], Symbol(\"7.6e-13\")]\n",
      "Any[[:HCO, :O2], [:HO2, :CO], Symbol(\"5.2e-12\")]\n",
      "Any[[:HCO, :OH], [:H2O, :CO], Symbol(\"1.8e-10\")]\n",
      "Any[[:HNO, :CH], [:CH2, :NO], Symbol(\"1.73e-11\")]\n",
      "Any[[:HNO, :CN], [:HCN, :NO], Symbol(\"3.0e-11\")]\n",
      "Any[[:HNO, :CO], [:CO2, :NH], Symbol(\"3.32e-12 .* exp.(-6170.0 ./ Tn)\")]\n",
      "Any[[:HNO, :H], [:NH2, :O], Symbol(\"5.81e-9 .* (Tn .^ -0.3) .* exp.(-14730.0 ./ Tn)\")]\n",
      "Any[[:HNO, :H], [:NO, :H2], Symbol(\"7.41e-13 .* (Tn .^ 0.72) .* exp.(-329.0 ./ Tn)\")]\n",
      "Any[[:HNO, :HCO], [:H2CO, :NO], Symbol(\"1.0e-12 .* exp.(-1000.0 ./ Tn)\")]\n",
      "Any[[:HNO, :N], [:N2O, :H], Symbol(\"8.26e-14 .* (Tn .^ 0.5) .* exp.(-1500.0 ./ Tn)\")]\n",
      "Any[[:HNO, :N], [:NO, :NH], Symbol(\"1.7e-13 .* (Tn .^ 0.5) .* exp.(-1000.0 ./ Tn)\")]\n",
      "Any[[:HNO, :O], [:NO, :OH], Symbol(\"6.0e-11 .* (Tn .^ -0.08)\")]\n",
      "Any[[:HNO, :O], [:NO2, :H], Symbol(\"1.0e-12\")]\n",
      "Any[[:HNO, :O], [:O2, :NH], Symbol(\"1.7e-13 .* (Tn .^ 0.5) .* exp.(-3500.0 ./ Tn)\")]\n",
      "Any[[:HNO, :OH], [:H2O, :NO], Symbol(\"5.54e-15 .* (Tn .^ 1.23) .* exp.(44.3 ./ Tn)\")]\n",
      "Any[[:HO2, :CH], [:CH2, :O2], Symbol(\"1.7e-14 .* (Tn .^ 0.5) .* exp.(-7550.0 ./ Tn)\")]\n",
      "Any[[:HO2, :CH], [:HCO, :OH], Symbol(\"8.31e-13 .* (Tn .^ 0.5) .* exp.(-3000.0 ./ Tn)\")]\n",
      "Any[[:HO2, :CO], [:CO2, :OH], Symbol(\"5.6e-10 .* exp.(-12160.0 ./ Tn)\")]\n",
      "Any[[:HO2, :H], [:H2O, :O], Symbol(\"1.6e-12\")]\n",
      "Any[[:HO2, :H], [:O2, :H2], Symbol(\"6.9e-12\")]\n",
      "Any[[:HO2, :H], [:OH, :OH], Symbol(\"7.2e-11\")]\n",
      "Any[[:HO2, :H2], [:H2O2, :H], Symbol(\"5.0e-11 .* exp.(-13110.0 ./ Tn)\")]\n",
      "Any[[:HO2, :H2O], [:H2O2, :OH], Symbol(\"4.65e-11 .* exp.(-16500.0 ./ Tn)\")]\n",
      "Any[[:HO2, :HCO], [:H2CO, :O2], Symbol(\"5.0e-11\")]\n",
      "Any[[:HO2, :HO2], [:H2O2, :O2], Symbol(\"3.0e-13 .* exp.(460.0 ./ Tn)\")]\n",
      "Any[[:HO2, :N], [:NO, :OH], Symbol(\"2.2e-11\")]\n",
      "Any[[:HO2, :N], [:O2, :NH], Symbol(\"1.7e-13\")]\n",
      "Any[[:HO2, :NO], [:NO2, :OH], Symbol(\"3.3e-12 .* exp.(270.0 ./ Tn)\")]\n",
      "Any[[:HO2, :O], [:O2, :OH], Symbol(\"3.0e-11 .* exp.(200.0 ./ Tn)\")]\n",
      "Any[[:HO2, :OH], [:H2O, :O2], Symbol(\"4.8e-11 .* exp.(250.0 ./ Tn)\")]\n",
      "Any[[:HOCO, :O2], [:CO2, :HO2], Symbol(\"2.0e-12\")]\n",
      "Any[[:HOCO, :OH], [:CO2, :H2O], Symbol(\"1.03e-11\")]\n",
      "Any[[:N, :C], [:CN], Symbol(\"3.49e-19 .* (Tn .^ 0.14) .* exp.(-0.18 ./ Tn)\")]\n",
      "Any[[:N2O, :CO], [:CO2, :N2], Symbol(\"1.62e-13 .* exp.(-8780.0 ./ Tn)\")]\n",
      "Any[[:N2O, :H], [:NO, :NH], Symbol(\"0.111 .* (Tn .^ -2.16) .* exp.(-18700.0 ./ Tn)\")]\n",
      "Any[[:N2O, :H], [:OH, :N2], Symbol(\"8.08e-22 .* (Tn .^ 3.15) .* exp.(-3603.0 ./ Tn)\")]\n",
      "Any[[:N2O, :NO], [:NO2, :N2], Symbol(\"8.74e-19 .* (Tn .^ 2.23) .* exp.(-23292.0 ./ Tn)\")]\n",
      "Any[[:N2O, :O], [:NO, :NO], Symbol(\"1.15e-10 .* exp.(-13400.0 ./ Tn)\")]\n",
      "Any[[:N2O, :O], [:O2, :N2], Symbol(\"1.66e-10 .* exp.(-14100.0 ./ Tn)\")]\n",
      "Any[[:N2O, :OH], [:HO2, :N2], Symbol(\"3.7e-13 .* exp.(-2740.0 ./ Tn)\")]\n",
      "Any[[:NH, :C], [:CH, :N], Symbol(\"9.99e-13 .* (Tn .^ 0.5) .* exp.(-4000.0 ./ Tn)\")]\n",
      "Any[[:NH, :C], [:CN, :H], Symbol(\"1.2e-10\")]\n",
      "Any[[:NH, :H], [:H2, :N], Symbol(\"9.99e-13 .* (Tn .^ 0.5) .* exp.(-2400.0 ./ Tn)\")]\n",
      "Any[[:NH, :N], [:N2, :H], Symbol(\"4.98e-11\")]\n",
      "Any[[:NH, :NH], [:N2, :H, :H], Symbol(\"1.16e-9\")]\n",
      "Any[[:NH, :NH], [:N2, :H2], Symbol(\"1.7e-11\")]\n",
      "Any[[:NH, :NH], [:NH2, :N], Symbol(\"6.29e-18 .* (Tn .^ 1.8) .* exp.(70.0 ./ Tn)\")]\n",
      "Any[[:NH, :O], [:NO, :H], Symbol(\"1.8e-10 .* exp.(-300.0 ./ Tn)\")]\n",
      "Any[[:NH, :O], [:OH, :N], Symbol(\"1.16e-11\")]\n",
      "Any[[:NH2, :C], [:HCN, :H], Symbol(\"5.77e-11 .* (Tn .^ -0.1) .* exp.(9.0 ./ Tn)\")]\n",
      "Any[[:NH2, :C], [:HNC, :H], Symbol(\"5.77e-11 .* (Tn .^ -0.1) .* exp.(9.0 ./ Tn)\")]\n",
      "Any[[:NH2, :H], [:NH, :H2], Symbol(\"1.36e-14 .* (Tn .^ 1.02) .* exp.(-2161.0 ./ Tn)\")]\n",
      "Any[[:NH2, :H2], [:NH3, :H], Symbol(\"4.74e-25 .* (Tn .^ 3.89) .* exp.(-1400.0 ./ Tn)\")]\n",
      "Any[[:NH2, :NO], [:H2O, :N2], Symbol(\"3.6e-12 .* exp.(450.0 ./ Tn)\")]\n",
      "Any[[:NH2, :O], [:HNO, :H], Symbol(\"1.11e-10 .* (Tn .^ -0.1)\")]\n",
      "Any[[:NH2, :O], [:OH, :NH], Symbol(\"1.24e-11 .* (Tn .^ -0.1)\")]\n",
      "Any[[:NH2, :OH], [:H2O, :NH], Symbol(\"1.08e-15 .* (Tn .^ 1.25) .* exp.(43.5 ./ Tn)\")]\n",
      "Any[[:NH2, :OH], [:NH3, :O], Symbol(\"2.73e-15 .* (Tn .^ 0.76) .* exp.(-262.0 ./ Tn)\")]\n",
      "Any[[:NO, :C], [:CN, :O], Symbol(\"1.49e-10 .* (Tn .^ -0.16)\")]\n",
      "Any[[:NO, :C], [:CO, :N], Symbol(\"2.24e-10 .* (Tn .^ -0.16)\")]\n",
      "Any[[:NO, :CH], [:CO, :NH], Symbol(\"1.52e-11\")]\n",
      "Any[[:NO, :CH], [:HCN, :O], Symbol(\"1.31e-10\")]\n",
      "Any[[:NO, :CH], [:HCO, :N], Symbol(\"1.14e-11\")]\n",
      "Any[[:NO, :CH], [:NCO, :H], Symbol(\"2.47e-11\")]\n",
      "Any[[:NO, :CH], [:OH, :CN], Symbol(\"1.9e-12\")]\n",
      "Any[[:NO, :CN], [:CO, :N2], Symbol(\"1.6e-13\")]\n",
      "Any[[:NO, :H], [:NH, :O], Symbol(\"1.64e-9 .* (Tn .^ -0.1) .* exp.(-35220.0 ./ Tn)\")]\n",
      "Any[[:NO, :N], [:N2, :O], Symbol(\"2.1e-11 .* exp.(100.0 ./ Tn)\")]\n",
      "Any[[:NO, :NH], [:N2, :O, :H], Symbol(\"7.4e-10 .* exp.(-10540.0 ./ Tn)\")]\n",
      "Any[[:NO, :NH], [:N2O, :H], Symbol(\"4.56e-9 .* (Tn .^ -0.78) .* exp.(-40.0 ./ Tn)\")]\n",
      "Any[[:NO, :NH], [:OH, :N2], Symbol(\"1.14e-9 .* (Tn .^ -0.78) .* exp.(-40.0 ./ Tn)\")]\n",
      "Any[[:NO, :O], [:O2, :N], Symbol(\"1.18e-11 .* exp.(-20413.0 ./ Tn)\")]\n",
      "Any[[:NO2, :CN], [:CO2, :N2], Symbol(\"6.12e-11 .* (Tn .^ -0.752) .* exp.(-173.0 ./ Tn)\")]\n",
      "Any[[:NO2, :CN], [:N2O, :CO], Symbol(\"8.16e-11 .* (Tn .^ -0.752) .* exp.(-173.0 ./ Tn)\")]\n",
      "Any[[:NO2, :CN], [:NCO, :NO], Symbol(\"8.77e-10 .* (Tn .^ -0.752) .* exp.(-173.0 ./ Tn)\")]\n",
      "Any[[:NO2, :CO], [:CO2, :NO], Symbol(\"1.48e-10 .* exp.(-17000.0 ./ Tn)\")]\n",
      "Any[[:NO2, :H], [:NO, :OH], Symbol(\"4.0e-10 .* exp.(-340.0 ./ Tn)\")]\n",
      "Any[[:NO2, :N], [:N2, :O, :O], Symbol(\"2.41e-12\")]\n",
      "Any[[:NO2, :N], [:N2O, :O], Symbol(\"5.8e-12 .* exp.(220.0 ./ Tn)\")]\n",
      "Any[[:NO2, :N], [:NO, :NO], Symbol(\"1.0e-12\")]\n",
      "Any[[:NO2, :N], [:O2, :N2], Symbol(\"1.0e-12\")]\n",
      "Any[[:NO2, :NH], [:HNO, :NO], Symbol(\"1.56e-6 .* (Tn .^ -1.94) .* exp.(-56.9 ./ Tn)\")]\n",
      "Any[[:NO2, :NH], [:N2O, :OH], Symbol(\"1.09e-6 .* (Tn .^ -1.94) .* exp.(-56.9 ./ Tn)\")]\n",
      "Any[[:NO2, :NH2], [:N2O, :H2O], Symbol(\"2.1e-12 .* exp.(650.0 ./ Tn)\")]\n",
      "Any[[:NO2, :O], [:O2, :NO], Symbol(\"5.1e-12 .* exp.(210.0 ./ Tn)\")]\n",
      "Any[[:O, :C], [:CO], Symbol(\"1.75e-19 .* (Tn .^ 0.705) .* exp.(-136.0 ./ Tn)\")]\n",
      "Any[[:O, :H], [:OH], Symbol(\"8.65e-18 .* (Tn .^ -0.38)\")]\n",
      "Any[[:O1D, :CO], [:CO, :O], Symbol(\"4.7e-11 .* exp.(63.0 ./ Tn)\")]\n",
      "Any[[:O1D, :CO], [:CO2], Symbol(\"8.0e-11\")]\n",
      "Any[[:O1D, :CO2], [:CO2, :O], Symbol(\"7.5e-11 .* exp.(115.0 ./ Tn)\")]\n",
      "Any[[:O1D, :H2], [:OH, :H], Symbol(\"1.2e-10\")]\n",
      "Any[[:O1D, :H2O], [:OH, :OH], Symbol(\"1.63e-10 .* exp.(60.0 ./ Tn)\")]\n",
      "Any[[:O1D, :H2O2], [:H2O2, :O], Symbol(\"5.2e-10\")]\n",
      "Any[[:O1D, :N2], [:N2, :O], Symbol(\"2.15e-11 .* exp.(110.0 ./ Tn)\")]\n",
      "Any[[:O1D, :N2O], [:NO, :NO], Symbol(\"7.26e-11 .* exp.(20.0 ./ Tn)\")]\n",
      "Any[[:O1D, :N2O], [:O2, :N2], Symbol(\"4.64e-11 .* exp.(20.0 ./ Tn)\")]\n",
      "Any[[:O1D, :NO], [:NO, :O], Symbol(\"4.0e-11\")]\n",
      "Any[[:O1D, :NO2], [:NO2, :O], Symbol(\"1.13e-10 .* exp.(115.0 ./ Tn)\")]\n",
      "Any[[:O1D, :NO2], [:O2, :NO], Symbol(\"2.31e-10\")]\n",
      "Any[[:O1D, :O2], [:O2, :O], Symbol(\"3.3e-11 .* exp.(55.0 ./ Tn)\")]\n",
      "Any[[:O1D, :O3], [:O2, :O, :O], Symbol(\"1.2e-10\")]\n",
      "Any[[:O1D, :O3], [:O2, :O2], Symbol(\"1.2e-10\")]\n",
      "Any[[:O2, :C], [:CO, :O], Symbol(\"3.03e-10 .* (Tn .^ -0.32)\")]\n",
      "Any[[:O2, :CH], [:CO, :O, :H], Symbol(\"1.2e-11\")]\n",
      "Any[[:O2, :CH], [:CO, :OH], Symbol(\"8.0e-12\")]\n",
      "Any[[:O2, :CH], [:CO2, :H], Symbol(\"1.2e-11\")]\n",
      "Any[[:O2, :CH], [:HCO, :O], Symbol(\"8.0e-12\")]\n",
      "Any[[:O2, :CN], [:CO, :NO], Symbol(\"3.0e-12 .* exp.(210.0 ./ Tn)\")]\n",
      "Any[[:O2, :CN], [:NCO, :O], Symbol(\"5.97e-11 .* (Tn .^ -0.19) .* exp.(31.9 ./ Tn)\")]\n",
      "Any[[:O2, :CO], [:CO2, :O], Symbol(\"5.99e-12 .* exp.(-24075.0 ./ Tn)\")]\n",
      "Any[[:O2, :H], [:OH, :O], Symbol(\"2.61e-10 .* exp.(-8156.0 ./ Tn)\")]\n",
      "Any[[:O2, :H2], [:HO2, :H], Symbol(\"2.4e-10 .* exp.(-28500.0 ./ Tn)\")]\n",
      "Any[[:O2, :H2], [:OH, :OH], Symbol(\"3.16e-10 .* exp.(-21890.0 ./ Tn)\")]\n",
      "Any[[:O2, :N], [:NO, :O], Symbol(\"1.5e-11 .* exp.(-3600.0 ./ Tn)\")]\n",
      "Any[[:O2, :NH], [:HNO, :O], Symbol(\"4.0e-11 .* exp.(-6970.0 ./ Tn)\")]\n",
      "Any[[:O2, :NH], [:NO, :OH], Symbol(\"1.5e-13 .* exp.(-770.0 ./ Tn)\")]\n",
      "Any[[:O3, :H], [:O2, :OH], Symbol(\"1.4e-10 .* exp.(-470.0 ./ Tn)\")]\n",
      "Any[[:O3, :HO2], [:O2, :O2, :OH], Symbol(\"1.0e-14 .* exp.(-490.0 ./ Tn)\")]\n",
      "Any[[:O3, :N], [:O2, :NO], Symbol(\"1.0e-16\")]\n",
      "Any[[:O3, :NO], [:NO2, :O2], Symbol(\"3.0e-12 .* exp.(-1500.0 ./ Tn)\")]\n",
      "Any[[:O3, :NO2], [:NO3, :O2], Symbol(\"1.2e-13 .* exp.(-2450.0 ./ Tn)\")]\n",
      "Any[[:O3, :O], [:O2, :O2], Symbol(\"8.0e-12 .* exp.(-2060.0 ./ Tn)\")]\n",
      "Any[[:O3, :OH], [:HO2, :O2], Symbol(\"1.7e-12 .* exp.(-940.0 ./ Tn)\")]\n",
      "Any[[:OH, :C], [:CO, :H], Symbol(\"7.98e-10 .* (Tn .^ -0.34) .* exp.(-0.108 ./ Tn)\")]\n",
      "Any[[:OH, :CH], [:HCO, :H], Symbol(\"8.31e-13 .* (Tn .^ 0.5) .* exp.(-5000.0 ./ Tn)\")]\n",
      "Any[[:OH, :H], [:H2, :O], Symbol(\"8.1e-21 .* (Tn .^ 2.8) .* exp.(-1950.0 ./ Tn)\")]\n",
      "Any[[:OH, :H2], [:H2O, :H], Symbol(\"2.8e-12 .* exp.(-1800.0 ./ Tn)\")]\n",
      "Any[[:OH, :N], [:NH, :O], Symbol(\"1.06e-11 .* (Tn .^ 0.1) .* exp.(-10700.0 ./ Tn)\")]\n",
      "Any[[:OH, :N], [:NO, :H], Symbol(\"1.8e-10 .* (Tn .^ -0.2)\")]\n",
      "Any[[:OH, :NH], [:H2O, :N], Symbol(\"3.3e-15 .* (Tn .^ 1.2)\")]\n",
      "Any[[:OH, :NH], [:HNO, :H], Symbol(\"3.3e-11\")]\n",
      "Any[[:OH, :NH], [:NH2, :O], Symbol(\"1.66e-12 .* (Tn .^ 0.1) .* exp.(-5800.0 ./ Tn)\")]\n",
      "Any[[:OH, :NH], [:NO, :H2], Symbol(\"4.16e-11\")]\n",
      "Any[[:OH, :O], [:O2, :H], Symbol(\"1.8e-11 .* exp.(180.0 ./ Tn)\")]\n",
      "Any[[:OH, :OH], [:H2O, :O], Symbol(\"1.8e-12\")]\n",
      "\n",
      "Type 3:\n",
      "Any[[:HO2, :HO2], [:H2O2, :O2], Symbol(\"(2.1e-33 .* exp.(920.0 ./ Tn) .* 1.0 .* exp.(920.0 ./ Tn) .* M) ./ (2.1e-33 .* exp.(920.0 ./ Tn) .* M .+ 1.0 .* exp.(920.0 ./ Tn))\")]\n",
      "\n",
      "Type 4:\n",
      "Any[[:CH, :H2], [:CH2, :H], (Symbol(\"8.5e-11 .* (Tn .^ 0.15)\"), Symbol(\"0.0 .+ (10 .^ ((log10.(0.6)) ./ (1 .+ ((log10.((4.7e-26 .* (Tn .^ -1.6) .* M) ./ (8.5e-11 .* (Tn .^ 0.15))) .- 0.4 .- 0.67 .* log10.(0.6)) ./ (0.75 .- 1.27 .* log10.(0.6) .- 0.14 .* (log10.((4.7e-26 .* (Tn .^ -1.6) .* M) ./ (8.5e-11 .* (Tn .^ 0.15))) .- 0.4 .- 0.67 .* log10.(0.6)))) .^ 2)) .* 4.7e-26 .* (Tn .^ -1.6) .* 8.5e-11 .* (Tn .^ 0.15) .* M) ./ (4.7e-26 .* (Tn .^ -1.6) .* M .+ 8.5e-11 .* (Tn .^ 0.15))\"))]\n",
      "\n",
      "Any[[:CO, :H], [:HCO], Symbol(\"0.0 .+ (2.0e-35 .* (Tn .^ 0.2) .* 1.0 .* (Tn .^ 0.2) .* M) ./ (2.0e-35 .* (Tn .^ 0.2) .* M .+ 1.0 .* (Tn .^ 0.2))\")]\n",
      "\n",
      "Any[[:CO, :O], [:CO2], (Symbol(\"1.0 .* exp.(-1509.0 ./ Tn)\"), Symbol(\"0.0 .+ (10 .^ ((log10.(0.4)) ./ (1 .+ ((log10.((1.7e-33 .* exp.(-1509.0 ./ Tn) .* M) ./ (1.0 .* exp.(-1509.0 ./ Tn))) .- 0.4 .- 0.67 .* log10.(0.4)) ./ (0.75 .- 1.27 .* log10.(0.4) .- 0.14 .* (log10.((1.7e-33 .* exp.(-1509.0 ./ Tn) .* M) ./ (1.0 .* exp.(-1509.0 ./ Tn))) .- 0.4 .- 0.67 .* log10.(0.4)))) .^ 2)) .* 1.7e-33 .* exp.(-1509.0 ./ Tn) .* 1.0 .* exp.(-1509.0 ./ Tn) .* M) ./ (1.7e-33 .* exp.(-1509.0 ./ Tn) .* M .+ 1.0 .* exp.(-1509.0 ./ Tn))\"))]\n",
      "\n",
      "Any[[:H, :H], [:H2], (Symbol(\"1.0 .* (Tn .^ -1.0)\"), Symbol(\"0.0 .+ (10 .^ ((log10.(0.4)) ./ (1 .+ ((log10.((1.8e-30 .* (Tn .^ -1.0) .* M) ./ (1.0 .* (Tn .^ -1.0))) .- 0.4 .- 0.67 .* log10.(0.4)) ./ (0.75 .- 1.27 .* log10.(0.4) .- 0.14 .* (log10.((1.8e-30 .* (Tn .^ -1.0) .* M) ./ (1.0 .* (Tn .^ -1.0))) .- 0.4 .- 0.67 .* log10.(0.4)))) .^ 2)) .* 1.8e-30 .* (Tn .^ -1.0) .* 1.0 .* (Tn .^ -1.0) .* M) ./ (1.8e-30 .* (Tn .^ -1.0) .* M .+ 1.0 .* (Tn .^ -1.0))\"))]\n",
      "\n",
      "Any[[:N, :H], [:NH], Symbol(\"0.0 .+ (5.0e-32 .* 1.0 .* M) ./ (5.0e-32 .* M .+ 1.0)\")]\n",
      "\n",
      "Any[[:NO, :H], [:HNO], (Symbol(\"2.53e-9 .* (Tn .^ -0.41)\"), Symbol(\"0.0 .+ (10 .^ ((log10.(0.82)) ./ (1 .+ ((log10.((9.56e-29 .* (Tn .^ -1.17) .* exp.(-212.0 ./ Tn) .* M) ./ (2.53e-9 .* (Tn .^ -0.41))) .- 0.4 .- 0.67 .* log10.(0.82)) ./ (0.75 .- 1.27 .* log10.(0.82) .- 0.14 .* (log10.((9.56e-29 .* (Tn .^ -1.17) .* exp.(-212.0 ./ Tn) .* M) ./ (2.53e-9 .* (Tn .^ -0.41))) .- 0.4 .- 0.67 .* log10.(0.82)))) .^ 2)) .* 9.56e-29 .* (Tn .^ -1.17) .* exp.(-212.0 ./ Tn) .* 2.53e-9 .* (Tn .^ -0.41) .* M) ./ (9.56e-29 .* (Tn .^ -1.17) .* exp.(-212.0 ./ Tn) .* M .+ 2.53e-9 .* (Tn .^ -0.41))\"))]\n",
      "\n",
      "Any[[:NO, :O], [:NO2], (Symbol(\"4.9e-10 .* (Tn .^ -0.4)\"), Symbol(\"0.0 .+ (10 .^ ((log10.(0.8)) ./ (1 .+ ((log10.((9.2e-28 .* (Tn .^ -1.6) .* M) ./ (4.9e-10 .* (Tn .^ -0.4))) .- 0.4 .- 0.67 .* log10.(0.8)) ./ (0.75 .- 1.27 .* log10.(0.8) .- 0.14 .* (log10.((9.2e-28 .* (Tn .^ -1.6) .* M) ./ (4.9e-10 .* (Tn .^ -0.4))) .- 0.4 .- 0.67 .* log10.(0.8)))) .^ 2)) .* 9.2e-28 .* (Tn .^ -1.6) .* 4.9e-10 .* (Tn .^ -0.4) .* M) ./ (9.2e-28 .* (Tn .^ -1.6) .* M .+ 4.9e-10 .* (Tn .^ -0.4))\"))]\n",
      "\n",
      "Any[[:O, :N], [:NO], (Symbol(\"1.0\"), Symbol(\"0.0 .+ (10 .^ ((log10.(0.4)) ./ (1 .+ ((log10.((5.46e-33 .* exp.(155.0 ./ Tn) .* M) ./ (1.0)) .- 0.4 .- 0.67 .* log10.(0.4)) ./ (0.75 .- 1.27 .* log10.(0.4) .- 0.14 .* (log10.((5.46e-33 .* exp.(155.0 ./ Tn) .* M) ./ (1.0)) .- 0.4 .- 0.67 .* log10.(0.4)))) .^ 2)) .* 5.46e-33 .* exp.(155.0 ./ Tn) .* 1.0 .* M) ./ (5.46e-33 .* exp.(155.0 ./ Tn) .* M .+ 1.0)\"))]\n",
      "\n",
      "Any[[:O, :O], [:O2], Symbol(\"0.0 .+ (5.21e-35 .* exp.(900.0 ./ Tn) .* 1.0 .* exp.(900.0 ./ Tn) .* M) ./ (5.21e-35 .* exp.(900.0 ./ Tn) .* M .+ 1.0 .* exp.(900.0 ./ Tn))\")]\n",
      "\n",
      "Any[[:O1D, :N2], [:N2O], Symbol(\"0.0 .+ (4.75e-34 .* (Tn .^ -0.9) .* 1.0 .* (Tn .^ -0.9) .* M) ./ (4.75e-34 .* (Tn .^ -0.9) .* M .+ 1.0 .* (Tn .^ -0.9))\")]\n",
      "\n",
      "Any[[:O2, :O], [:O3], (Symbol(\"2.8e-12\"), Symbol(\"0.0 .+ (10 .^ ((log10.(0.65)) ./ (1 .+ ((log10.((5.29e-28 .* (Tn .^ -2.4) .* M) ./ (2.8e-12)) .- 0.4 .- 0.67 .* log10.(0.65)) ./ (0.75 .- 1.27 .* log10.(0.65) .- 0.14 .* (log10.((5.29e-28 .* (Tn .^ -2.4) .* M) ./ (2.8e-12)) .- 0.4 .- 0.67 .* log10.(0.65)))) .^ 2)) .* 5.29e-28 .* (Tn .^ -2.4) .* 2.8e-12 .* M) ./ (5.29e-28 .* (Tn .^ -2.4) .* M .+ 2.8e-12)\"))]\n",
      "\n",
      "Any[[:OH, :H], [:H2O], (Symbol(\"1.0 .* (Tn .^ -2.0)\"), Symbol(\"6.0e-16 .+ (10 .^ ((log10.(0.4)) ./ (1 .+ ((log10.((6.1e-26 .* (Tn .^ -2.0) .* M) ./ (1.0 .* (Tn .^ -2.0))) .- 0.4 .- 0.67 .* log10.(0.4)) ./ (0.75 .- 1.27 .* log10.(0.4) .- 0.14 .* (log10.((6.1e-26 .* (Tn .^ -2.0) .* M) ./ (1.0 .* (Tn .^ -2.0))) .- 0.4 .- 0.67 .* log10.(0.4)))) .^ 2)) .* 6.1e-26 .* (Tn .^ -2.0) .* 1.0 .* (Tn .^ -2.0) .* M) ./ (6.1e-26 .* (Tn .^ -2.0) .* M .+ 1.0 .* (Tn .^ -2.0))\"))]\n",
      "\n",
      "Any[[:OH, :OH], [:H2O2], (Symbol(\"2.6e-11\"), Symbol(\"0.0 .+ (10 .^ ((log10.(0.5)) ./ (1 .+ ((log10.((6.6e-29 .* (Tn .^ -0.8) .* M) ./ (2.6e-11)) .- 0.4 .- 0.67 .* log10.(0.5)) ./ (0.75 .- 1.27 .* log10.(0.5) .- 0.14 .* (log10.((6.6e-29 .* (Tn .^ -0.8) .* M) ./ (2.6e-11)) .- 0.4 .- 0.67 .* log10.(0.5)))) .^ 2)) .* 6.6e-29 .* (Tn .^ -0.8) .* 2.6e-11 .* M) ./ (6.6e-29 .* (Tn .^ -0.8) .* M .+ 2.6e-11)\"))]\n",
      "\n",
      "Type 5:\n",
      "Any[[:CO, :OH], [:HOCO], Symbol(\"1.77e-30 .* (Tn .^ -1.0)\"), Symbol(\"6.62e-16 .* (Tn .^ 1.3)\")]\n",
      "Any[[:NO, :OH], [:HONO], Symbol(\"1.93e-24 .* (Tn .^ -2.6)\"), Symbol(\"6.37e-11 .* (Tn .^ -0.1)\")]\n",
      "Any[[:NO2, :HO2], [:HO2NO2], Symbol(\"5.02e-23 .* (Tn .^ -3.4)\"), Symbol(\"2.21e-11 .* (Tn .^ -0.3)\")]\n",
      "Any[[:NO2, :O], [:NO3], Symbol(\"7.19e-27 .* (Tn .^ -1.8)\"), Symbol(\"1.19e-9 .* (Tn .^ -0.7)\")]\n",
      "Any[[:NO2, :OH], [:HONO2], Symbol(\"4.86e-23 .* (Tn .^ -3.0)\"), Symbol(\"2.8e-11\")]\n",
      "Any[[:NO2, :OH], [:HOONO], Symbol(\"4.17e-22 .* (Tn .^ -3.9)\"), Symbol(\"7.27e12 .* (Tn .^ -0.5)\")]\n",
      "Any[[:O2, :H], [:HO2], Symbol(\"7.31e-29 .* (Tn .^ -1.3)\"), Symbol(\"2.4e-11 .* (Tn .^ 0.2)\")]\n"
     ]
    }
   ],
   "source": [
    "for i in range(1, stop=numrows)\n",
    "    # set up the reaction\n",
    "    reactants = [neutral_table[i, \"R1\"], neutral_table[i, \"R2\"]]\n",
    "    reactants = filter!(j->j!=\"-0\", reactants)\n",
    "    reactants = [Symbol(j) for j in reactants]\n",
    "    products = [neutral_table[i, \"P1\"], neutral_table[i, \"P2\"], neutral_table[i, \"P3\"]]\n",
    "    products = filter!(j->j!=\"-0\", products)\n",
    "    products = [Symbol(j) for j in products]\n",
    "    \n",
    "    # Type 1: Pressure independent unimolecular rxns, high pressure limit\n",
    "    # use k (which is same as k inf); units s^-1\n",
    "    if neutral_table[i, \"type\"]==1\n",
    "        push!(type1, [reactants, products, Symbol(make_general_k(neutral_table[i, \"kA\"], neutral_table[i, \"kB\"], neutral_table[i, \"kC\"]))])\n",
    "        \n",
    "    # Type 2: P independent bimolecular; use k (same as *k inf), units cm^3 s^-1\n",
    "    elseif neutral_table[i, \"type\"]==2\n",
    "        push!(type2, [reactants, products, Symbol(make_general_k(neutral_table[i, \"kA\"], neutral_table[i, \"kB\"], neutral_table[i, \"kC\"]))])\n",
    "        \n",
    "    # Type 3: P dependent bimolecular.\n",
    "    elseif neutral_table[i, \"type\"]==3\n",
    "        push!(type3, [reactants, products, \n",
    "                      make_Troe([neutral_table[i, \"k0A\"], neutral_table[i, \"k0B\"], neutral_table[i, \"k0C\"]], \n",
    "                               [neutral_table[i, \"kA\"], neutral_table[i, \"kB\"], neutral_table[i, \"kC\"]],\n",
    "                                neutral_table[i, \"F\"])\n",
    "                      ])\n",
    "        \n",
    "    # Type 4: P dependent association rxns\n",
    "    elseif neutral_table[i, \"type\"]==4\n",
    "        push!(type4, [reactants, products, \n",
    "                      make_modified_Troe([neutral_table[i, \"k0A\"], neutral_table[i, \"k0B\"], neutral_table[i, \"k0C\"]], \n",
    "                                         [neutral_table[i, \"kA\"], neutral_table[i, \"kB\"], neutral_table[i, \"kC\"]],\n",
    "                                         [neutral_table[i, \"kradA\"], neutral_table[i, \"kradB\"], neutral_table[i, \"kradC\"]],\n",
    "                                         neutral_table[i, \"F\"])\n",
    "                \n",
    "                     ])\n",
    "        \n",
    "    # Type 5: special forms for OH+CO -> H + CO2, OH+CO -> HOCO\n",
    "    elseif neutral_table[i, \"type\"]==5\n",
    "        push!(type5, [reactants, products, Symbol(make_general_k(neutral_table[i, \"k0A\"], neutral_table[i, \"k0B\"], neutral_table[i, \"k0C\"])), \n",
    "                                           Symbol(make_general_k(neutral_table[i, \"kA\"], neutral_table[i, \"kB\"], neutral_table[i, \"kC\"]))])\n",
    "\n",
    "    else\n",
    "        println(\"Got an unexpected type! $(neutral_table[i, \"type\"])\")\n",
    "    end\n",
    "end\n",
    "\n",
    "\n",
    "    \n",
    "println(\"Type 1:\")\n",
    "for entry in type1\n",
    "    println(entry)\n",
    "end\n",
    "println()\n",
    "println(\"Type 2:\")\n",
    "for entry in type2\n",
    "    println(entry)\n",
    "end\n",
    "println()\n",
    "println(\"Type 3:\")\n",
    "for entry in type3\n",
    "    println(entry)\n",
    "end\n",
    "println()\n",
    "println(\"Type 4:\")\n",
    "for entry in type4\n",
    "    println(entry)\n",
    "    println()\n",
    "end\n",
    "println(\"Type 5:\")\n",
    "for entry in type5\n",
    "    println(entry)\n",
    "end\n",
    "# println(neutral_network)\n"
   ]
  },
  {
   "cell_type": "markdown",
   "metadata": {},
   "source": [
    "## getting minimum() to evaluate within symbolic expressions"
   ]
  },
  {
   "cell_type": "code",
   "execution_count": 61,
   "metadata": {},
   "outputs": [
    {
     "name": "stdout",
     "output_type": "stream",
     "text": [
      "[1.0, 1.0, 1.0]\n",
      "1.0\n"
     ]
    }
   ],
   "source": [
    "T = [100, 200, 300]\n",
    "println(1.0 .* T .^ 0)\n",
    "\n",
    "T = 100\n",
    "println(1.0 .* T .^ 0)"
   ]
  },
  {
   "cell_type": "code",
   "execution_count": 62,
   "metadata": {},
   "outputs": [
    {
     "ename": "LoadError",
     "evalue": "MethodError: no method matching isless(::Array{Float64,1}, ::Float64)\nClosest candidates are:\n  isless(!Matched::Float64, ::Float64) at float.jl:465\n  isless(!Matched::Missing, ::Any) at missing.jl:87\n  isless(!Matched::AbstractFloat, ::AbstractFloat) at operators.jl:165\n  ...",
     "output_type": "error",
     "traceback": [
      "MethodError: no method matching isless(::Array{Float64,1}, ::Float64)\nClosest candidates are:\n  isless(!Matched::Float64, ::Float64) at float.jl:465\n  isless(!Matched::Missing, ::Any) at missing.jl:87\n  isless(!Matched::AbstractFloat, ::AbstractFloat) at operators.jl:165\n  ...",
      "",
      "Stacktrace:",
      " [1] min(::Float64, ::Array{Float64,1}) at ./operators.jl:431",
      " [2] _mapreduce(::typeof(identity), ::typeof(min), ::IndexLinear, ::Array{Any,1}) at ./reduce.jl:408",
      " [3] _mapreduce_dim at ./reducedim.jl:318 [inlined]",
      " [4] #mapreduce#620 at ./reducedim.jl:310 [inlined]",
      " [5] mapreduce at ./reducedim.jl:310 [inlined]",
      " [6] _minimum at ./reducedim.jl:727 [inlined]",
      " [7] _minimum at ./reducedim.jl:726 [inlined]",
      " [8] #minimum#633 at ./reducedim.jl:722 [inlined]",
      " [9] minimum(::Array{Any,1}) at ./reducedim.jl:722",
      " [10] top-level scope at none:1",
      " [11] eval at ./boot.jl:331 [inlined]",
      " [12] eval(::Expr) at ./client.jl:467",
      " [13] top-level scope at In[62]:3",
      " [14] include_string(::Function, ::Module, ::String, ::String) at ./loading.jl:1091"
     ]
    }
   ],
   "source": [
    "T = [100, 200, 300]\n",
    "test = :(minimum([$:(1.0), $:(1.4e-10 .* (T .^ 0.4) .* exp.(-160 ./ T))]))\n",
    "eval(test)"
   ]
  },
  {
   "cell_type": "code",
   "execution_count": 71,
   "metadata": {},
   "outputs": [
    {
     "data": {
      "text/plain": [
       "3-element Array{Float64,1}:\n",
       " 1.7834332719518747e-10\n",
       " 5.237263783560956e-10\n",
       " 8.041791591659083e-10"
      ]
     },
     "execution_count": 71,
     "metadata": {},
     "output_type": "execute_result"
    }
   ],
   "source": [
    "T = [100, 200, 300]\n",
    "test = :(minimum([$:(1.0 .* T .^ 0), $:(1.4e-10 .* (T .^ 0.4) .* exp.(-160 ./ T))]))\n",
    "eval(test)"
   ]
  },
  {
   "cell_type": "markdown",
   "metadata": {},
   "source": [
    "But what if the values which are lowest change per element? Here is a very simple example:"
   ]
  },
  {
   "cell_type": "code",
   "execution_count": 80,
   "metadata": {},
   "outputs": [
    {
     "data": {
      "text/plain": [
       "5-element Array{Int64,1}:\n",
       " 1\n",
       " 2\n",
       " 3\n",
       " 3\n",
       " 3"
      ]
     },
     "execution_count": 80,
     "metadata": {},
     "output_type": "execute_result"
    }
   ],
   "source": [
    "# The return should be a 5 element array with values 1, 2, 3, 3, 3.\n",
    "quoted = quote\n",
    "    min.([1, 2, 3, 4, 5], [3, 3, 3, 3, 3])\n",
    "end\n",
    "\n",
    "eval(quoted)"
   ]
  },
  {
   "cell_type": "markdown",
   "metadata": {},
   "source": [
    "Now to get it to work with a more complicated expression that generates an array."
   ]
  },
  {
   "cell_type": "code",
   "execution_count": 81,
   "metadata": {},
   "outputs": [
    {
     "data": {
      "text/plain": [
       "6-element Array{Float64,1}:\n",
       " 10.0\n",
       " 11.0\n",
       " 12.0\n",
       " 12.0\n",
       " 12.0\n",
       " 12.0"
      ]
     },
     "execution_count": 81,
     "metadata": {},
     "output_type": "execute_result"
    }
   ],
   "source": [
    "T = [100, 121, 144, 169, 196, 225]\n",
    "# sqrts: [10, 11, 12, 13, 14, 15]\n",
    "# Comparing with an array of 12s, the result should be: [10, 11, 12, 12, 12, 12]\n",
    "\n",
    "uglyexpr = quote\n",
    "   min.(12. .* T .^ 0, T .^ 0.5)  \n",
    "end\n",
    "\n",
    "eval(uglyexpr)"
   ]
  },
  {
   "cell_type": "markdown",
   "metadata": {},
   "source": [
    "Simplify the syntax:"
   ]
  },
  {
   "cell_type": "code",
   "execution_count": 85,
   "metadata": {},
   "outputs": [
    {
     "data": {
      "text/plain": [
       "6-element Array{Float64,1}:\n",
       " 10.0\n",
       " 11.0\n",
       " 12.0\n",
       " 12.0\n",
       " 12.0\n",
       " 12.0"
      ]
     },
     "execution_count": 85,
     "metadata": {},
     "output_type": "execute_result"
    }
   ],
   "source": [
    "T = [100, 121, 144, 169, 196, 225]\n",
    "test = :( min.( $:(12. .* T .^ 0), $:(T .^ 0.5) ) )\n",
    "eval(test)"
   ]
  },
  {
   "cell_type": "markdown",
   "metadata": {},
   "source": [
    "Make sure it works when what's passed in is NOT an array:"
   ]
  },
  {
   "cell_type": "code",
   "execution_count": 86,
   "metadata": {},
   "outputs": [
    {
     "data": {
      "text/plain": [
       "12.0"
      ]
     },
     "execution_count": 86,
     "metadata": {},
     "output_type": "execute_result"
    }
   ],
   "source": [
    "T = 169\n",
    "test = :( min.( $:(12. .* T .^ 0), $:(T .^ 0.5) ) )\n",
    "eval(test)"
   ]
  },
  {
   "cell_type": "code",
   "execution_count": 87,
   "metadata": {},
   "outputs": [
    {
     "data": {
      "text/plain": [
       "10.0"
      ]
     },
     "execution_count": 87,
     "metadata": {},
     "output_type": "execute_result"
    }
   ],
   "source": [
    "T = 100\n",
    "test = :( min.( $:(12. .* T .^ 0), $:(T .^ 0.5) ) )\n",
    "eval(test)"
   ]
  },
  {
   "cell_type": "markdown",
   "metadata": {},
   "source": [
    "Cool. This is what we will use, which means I need to fix the syntax I already introduced. This just requires me to replace `minimum` with `min.` and remove the square brackets in the PARAMETERS.jl file. But, it also means I need to reconverge the C, CH, HCO neutrals because they were done with an incorrect expresison."
   ]
  },
  {
   "cell_type": "code",
   "execution_count": null,
   "metadata": {},
   "outputs": [],
   "source": []
  }
 ],
 "metadata": {
  "kernelspec": {
   "display_name": "Julia 1.5.3",
   "language": "julia",
   "name": "julia-1.5"
  },
  "language_info": {
   "file_extension": ".jl",
   "mimetype": "application/julia",
   "name": "julia",
   "version": "1.5.3"
  }
 },
 "nbformat": 4,
 "nbformat_minor": 4
}
